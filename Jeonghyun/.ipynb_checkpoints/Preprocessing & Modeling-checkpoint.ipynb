{
 "cells": [
  {
   "cell_type": "code",
   "execution_count": 1,
   "id": "ca00e640",
   "metadata": {},
   "outputs": [],
   "source": [
    "import warnings\n",
    "warnings.filterwarnings('ignore')\n",
    "\n",
    "import os\n",
    "import time\n",
    "\n",
    "# 지도 데이터 분석 라이브러리\n",
    "import fiona\n",
    "import geopandas\n",
    "\n",
    "# 데이터 분석 라이브러리\n",
    "import pandas as pd\n",
    "import numpy as np\n",
    "\n",
    "# 데이터 시각화 라이브러리\n",
    "import matplotlib.pyplot as plt\n",
    "import matplotlib as mpl\n",
    "from matplotlib.pyplot import style\n",
    "import seaborn as sns\n",
    "import folium\n",
    "from folium.plugins import HeatMap\n",
    "\n",
    "# 데이터 분리\n",
    "from sklearn.model_selection import train_test_split\n",
    "\n",
    "# 데이터 스케일링\n",
    "from sklearn.preprocessing import MinMaxScaler\n",
    "\n",
    "# 데이터 샘플링\n",
    "from imblearn.under_sampling import RandomUnderSampler\n",
    "from imblearn.over_sampling import RandomOverSampler\n",
    "from imblearn.over_sampling import SMOTE\n",
    "\n",
    "# 머신러닝\n",
    "from sklearn.tree import DecisionTreeClassifier\n",
    "from sklearn.neighbors import KNeighborsClassifier\n",
    "from sklearn import ensemble\n",
    "from sklearn.model_selection import GridSearchCV\n",
    "from sklearn.model_selection import RandomizedSearchCV\n",
    "\n",
    "# 모델 스코어링\n",
    "from sklearn.metrics import f1_score\n",
    "from sklearn.metrics import accuracy_score\n",
    "from sklearn.metrics import recall_score\n",
    "from sklearn.metrics import precision_score\n",
    "from sklearn.metrics import fbeta_score\n",
    "from sklearn.metrics import make_scorer"
   ]
  },
  {
   "cell_type": "code",
   "execution_count": 3,
   "id": "d97de700",
   "metadata": {},
   "outputs": [],
   "source": [
    "# matplotlib 한글 지원 폰트 설정\n",
    "plt.rc(\"font\", family=\"Malgun Gothic\")"
   ]
  },
  {
   "cell_type": "markdown",
   "id": "d253d9bf",
   "metadata": {},
   "source": [
    "## 데이터 불러오기(세종, 대구, 대전)"
   ]
  },
  {
   "cell_type": "code",
   "execution_count": 2,
   "id": "018adcd2",
   "metadata": {},
   "outputs": [
    {
     "name": "stdout",
     "output_type": "stream",
     "text": [
      "47396\n"
     ]
    },
    {
     "data": {
      "text/html": [
       "<div>\n",
       "<style scoped>\n",
       "    .dataframe tbody tr th:only-of-type {\n",
       "        vertical-align: middle;\n",
       "    }\n",
       "\n",
       "    .dataframe tbody tr th {\n",
       "        vertical-align: top;\n",
       "    }\n",
       "\n",
       "    .dataframe thead th {\n",
       "        text-align: right;\n",
       "    }\n",
       "</style>\n",
       "<table border=\"1\" class=\"dataframe\">\n",
       "  <thead>\n",
       "    <tr style=\"text-align: right;\">\n",
       "      <th></th>\n",
       "      <th>geometry</th>\n",
       "      <th>lat</th>\n",
       "      <th>lng</th>\n",
       "      <th>고저차</th>\n",
       "      <th>인구수</th>\n",
       "      <th>건축물수</th>\n",
       "      <th>주거용도면적</th>\n",
       "      <th>건축물높이</th>\n",
       "      <th>건축물연면적</th>\n",
       "      <th>주차장수</th>\n",
       "      <th>교육연구시설</th>\n",
       "      <th>주거지</th>\n",
       "      <th>농축산업시설</th>\n",
       "      <th>창고시설</th>\n",
       "      <th>편의시설</th>\n",
       "      <th>생산시설</th>\n",
       "      <th>님비시설</th>\n",
       "      <th>자동차관련시설</th>\n",
       "      <th>EV</th>\n",
       "    </tr>\n",
       "  </thead>\n",
       "  <tbody>\n",
       "    <tr>\n",
       "      <th>0</th>\n",
       "      <td>POLYGON ((977800.00000 1828600.00000, 977800.0...</td>\n",
       "      <td>36.455719</td>\n",
       "      <td>127.251282</td>\n",
       "      <td>24.869</td>\n",
       "      <td>0</td>\n",
       "      <td>1</td>\n",
       "      <td>83.64</td>\n",
       "      <td>0.00</td>\n",
       "      <td>83.64</td>\n",
       "      <td>0</td>\n",
       "      <td>0</td>\n",
       "      <td>0</td>\n",
       "      <td>0</td>\n",
       "      <td>0</td>\n",
       "      <td>0</td>\n",
       "      <td>0</td>\n",
       "      <td>0</td>\n",
       "      <td>0</td>\n",
       "      <td>0</td>\n",
       "    </tr>\n",
       "    <tr>\n",
       "      <th>1</th>\n",
       "      <td>POLYGON ((990100.00000 1837300.00000, 990100.0...</td>\n",
       "      <td>36.533877</td>\n",
       "      <td>127.387655</td>\n",
       "      <td>25.167</td>\n",
       "      <td>0</td>\n",
       "      <td>1</td>\n",
       "      <td>208.91</td>\n",
       "      <td>7.80</td>\n",
       "      <td>198.71</td>\n",
       "      <td>0</td>\n",
       "      <td>0</td>\n",
       "      <td>0</td>\n",
       "      <td>0</td>\n",
       "      <td>0</td>\n",
       "      <td>0</td>\n",
       "      <td>0</td>\n",
       "      <td>0</td>\n",
       "      <td>0</td>\n",
       "      <td>0</td>\n",
       "    </tr>\n",
       "    <tr>\n",
       "      <th>2</th>\n",
       "      <td>POLYGON ((980600.00000 1843000.00000, 980600.0...</td>\n",
       "      <td>36.585083</td>\n",
       "      <td>127.282326</td>\n",
       "      <td>24.825</td>\n",
       "      <td>27</td>\n",
       "      <td>4</td>\n",
       "      <td>99.70</td>\n",
       "      <td>6.43</td>\n",
       "      <td>99.25</td>\n",
       "      <td>0</td>\n",
       "      <td>0</td>\n",
       "      <td>0</td>\n",
       "      <td>0</td>\n",
       "      <td>0</td>\n",
       "      <td>0</td>\n",
       "      <td>0</td>\n",
       "      <td>0</td>\n",
       "      <td>0</td>\n",
       "      <td>0</td>\n",
       "    </tr>\n",
       "  </tbody>\n",
       "</table>\n",
       "</div>"
      ],
      "text/plain": [
       "                                            geometry        lat         lng  \\\n",
       "0  POLYGON ((977800.00000 1828600.00000, 977800.0...  36.455719  127.251282   \n",
       "1  POLYGON ((990100.00000 1837300.00000, 990100.0...  36.533877  127.387655   \n",
       "2  POLYGON ((980600.00000 1843000.00000, 980600.0...  36.585083  127.282326   \n",
       "\n",
       "      고저차  인구수  건축물수  주거용도면적  건축물높이  건축물연면적  주차장수  교육연구시설  주거지  농축산업시설  창고시설  \\\n",
       "0  24.869    0     1   83.64   0.00   83.64     0       0    0       0     0   \n",
       "1  25.167    0     1  208.91   7.80  198.71     0       0    0       0     0   \n",
       "2  24.825   27     4   99.70   6.43   99.25     0       0    0       0     0   \n",
       "\n",
       "   편의시설  생산시설  님비시설  자동차관련시설  EV  \n",
       "0     0     0     0        0   0  \n",
       "1     0     0     0        0   0  \n",
       "2     0     0     0        0   0  "
      ]
     },
     "execution_count": 2,
     "metadata": {},
     "output_type": "execute_result"
    }
   ],
   "source": [
    "sejong = geopandas.read_file('./dataset/전처리후/세종/merge_9.geojson', encoding='utf-8')\n",
    "sejong = sejong[['geometry', 'lat', 'lng', '고저차', '인구수', '건축물수', '주거용도면적', '건축물높이', '건축물연면적', '주차장수', '교육연구시설', '주거지', '농축산업시설', '창고시설',\n",
    "       '편의시설', '생산시설', '님비시설', '자동차관련시설', 'EV']]\n",
    "\n",
    "print(len(sejong))\n",
    "sejong.head(3)"
   ]
  },
  {
   "cell_type": "code",
   "execution_count": 3,
   "id": "51834d1f",
   "metadata": {},
   "outputs": [
    {
     "name": "stdout",
     "output_type": "stream",
     "text": [
      "134846\n"
     ]
    },
    {
     "data": {
      "text/html": [
       "<div>\n",
       "<style scoped>\n",
       "    .dataframe tbody tr th:only-of-type {\n",
       "        vertical-align: middle;\n",
       "    }\n",
       "\n",
       "    .dataframe tbody tr th {\n",
       "        vertical-align: top;\n",
       "    }\n",
       "\n",
       "    .dataframe thead th {\n",
       "        text-align: right;\n",
       "    }\n",
       "</style>\n",
       "<table border=\"1\" class=\"dataframe\">\n",
       "  <thead>\n",
       "    <tr style=\"text-align: right;\">\n",
       "      <th></th>\n",
       "      <th>geometry</th>\n",
       "      <th>lat</th>\n",
       "      <th>lng</th>\n",
       "      <th>고저차</th>\n",
       "      <th>인구수</th>\n",
       "      <th>건축물수</th>\n",
       "      <th>주거용도면적</th>\n",
       "      <th>건축물높이</th>\n",
       "      <th>건축물연면적</th>\n",
       "      <th>주차장수</th>\n",
       "      <th>교육연구시설</th>\n",
       "      <th>주거지</th>\n",
       "      <th>농축산업시설</th>\n",
       "      <th>창고시설</th>\n",
       "      <th>편의시설</th>\n",
       "      <th>생산시설</th>\n",
       "      <th>님비시설</th>\n",
       "      <th>자동차관련시설</th>\n",
       "      <th>EV</th>\n",
       "    </tr>\n",
       "  </thead>\n",
       "  <tbody>\n",
       "    <tr>\n",
       "      <th>0</th>\n",
       "      <td>POLYGON ((1098300.00000 1762500.00000, 1098300...</td>\n",
       "      <td>35.861902</td>\n",
       "      <td>128.587298</td>\n",
       "      <td>28.786</td>\n",
       "      <td>124.0</td>\n",
       "      <td>18.0</td>\n",
       "      <td>473.52</td>\n",
       "      <td>9.97</td>\n",
       "      <td>452.73</td>\n",
       "      <td>0</td>\n",
       "      <td>0</td>\n",
       "      <td>0</td>\n",
       "      <td>0</td>\n",
       "      <td>0</td>\n",
       "      <td>0</td>\n",
       "      <td>0</td>\n",
       "      <td>0</td>\n",
       "      <td>0</td>\n",
       "      <td>0</td>\n",
       "    </tr>\n",
       "    <tr>\n",
       "      <th>1</th>\n",
       "      <td>POLYGON ((1095800.00000 1760400.00000, 1095800...</td>\n",
       "      <td>35.843036</td>\n",
       "      <td>128.559580</td>\n",
       "      <td>28.763</td>\n",
       "      <td>298.0</td>\n",
       "      <td>47.0</td>\n",
       "      <td>215.99</td>\n",
       "      <td>8.83</td>\n",
       "      <td>213.95</td>\n",
       "      <td>0</td>\n",
       "      <td>0</td>\n",
       "      <td>0</td>\n",
       "      <td>0</td>\n",
       "      <td>0</td>\n",
       "      <td>0</td>\n",
       "      <td>0</td>\n",
       "      <td>0</td>\n",
       "      <td>0</td>\n",
       "      <td>0</td>\n",
       "    </tr>\n",
       "    <tr>\n",
       "      <th>2</th>\n",
       "      <td>POLYGON ((1099700.00000 1760500.00000, 1099700...</td>\n",
       "      <td>35.843935</td>\n",
       "      <td>128.602820</td>\n",
       "      <td>28.865</td>\n",
       "      <td>173.0</td>\n",
       "      <td>6.0</td>\n",
       "      <td>263.28</td>\n",
       "      <td>19.39</td>\n",
       "      <td>1323.18</td>\n",
       "      <td>0</td>\n",
       "      <td>0</td>\n",
       "      <td>0</td>\n",
       "      <td>0</td>\n",
       "      <td>0</td>\n",
       "      <td>0</td>\n",
       "      <td>0</td>\n",
       "      <td>0</td>\n",
       "      <td>0</td>\n",
       "      <td>0</td>\n",
       "    </tr>\n",
       "  </tbody>\n",
       "</table>\n",
       "</div>"
      ],
      "text/plain": [
       "                                            geometry        lat         lng  \\\n",
       "0  POLYGON ((1098300.00000 1762500.00000, 1098300...  35.861902  128.587298   \n",
       "1  POLYGON ((1095800.00000 1760400.00000, 1095800...  35.843036  128.559580   \n",
       "2  POLYGON ((1099700.00000 1760500.00000, 1099700...  35.843935  128.602820   \n",
       "\n",
       "      고저차    인구수  건축물수  주거용도면적  건축물높이   건축물연면적  주차장수  교육연구시설  주거지  농축산업시설  \\\n",
       "0  28.786  124.0  18.0  473.52   9.97   452.73     0       0    0       0   \n",
       "1  28.763  298.0  47.0  215.99   8.83   213.95     0       0    0       0   \n",
       "2  28.865  173.0   6.0  263.28  19.39  1323.18     0       0    0       0   \n",
       "\n",
       "   창고시설  편의시설  생산시설  님비시설  자동차관련시설  EV  \n",
       "0     0     0     0     0        0   0  \n",
       "1     0     0     0     0        0   0  \n",
       "2     0     0     0     0        0   0  "
      ]
     },
     "execution_count": 3,
     "metadata": {},
     "output_type": "execute_result"
    }
   ],
   "source": [
    "daegu = geopandas.read_file('./dataset/전처리후/대구/merge_9.geojson', encoding='utf-8')\n",
    "daegu = daegu[['geometry', 'lat', 'lng', '고저차', '인구수', '건축물수', '주거용도면적', '건축물높이', '건축물연면적', '주차장수', '교육연구시설', '주거지', '농축산업시설', '창고시설',\n",
    "       '편의시설', '생산시설', '님비시설', '자동차관련시설', 'EV']]\n",
    "\n",
    "print(len(daegu))\n",
    "daegu.head(3)"
   ]
  },
  {
   "cell_type": "code",
   "execution_count": 4,
   "id": "309d0828",
   "metadata": {},
   "outputs": [
    {
     "name": "stdout",
     "output_type": "stream",
     "text": [
      "92051\n"
     ]
    },
    {
     "data": {
      "text/html": [
       "<div>\n",
       "<style scoped>\n",
       "    .dataframe tbody tr th:only-of-type {\n",
       "        vertical-align: middle;\n",
       "    }\n",
       "\n",
       "    .dataframe tbody tr th {\n",
       "        vertical-align: top;\n",
       "    }\n",
       "\n",
       "    .dataframe thead th {\n",
       "        text-align: right;\n",
       "    }\n",
       "</style>\n",
       "<table border=\"1\" class=\"dataframe\">\n",
       "  <thead>\n",
       "    <tr style=\"text-align: right;\">\n",
       "      <th></th>\n",
       "      <th>geometry</th>\n",
       "      <th>lat</th>\n",
       "      <th>lng</th>\n",
       "      <th>고저차</th>\n",
       "      <th>인구수</th>\n",
       "      <th>건축물수</th>\n",
       "      <th>주거용도면적</th>\n",
       "      <th>건축물높이</th>\n",
       "      <th>건축물연면적</th>\n",
       "      <th>주차장수</th>\n",
       "      <th>교육연구시설</th>\n",
       "      <th>주거지</th>\n",
       "      <th>농축산업시설</th>\n",
       "      <th>창고시설</th>\n",
       "      <th>편의시설</th>\n",
       "      <th>생산시설</th>\n",
       "      <th>님비시설</th>\n",
       "      <th>자동차관련시설</th>\n",
       "      <th>EV</th>\n",
       "    </tr>\n",
       "  </thead>\n",
       "  <tbody>\n",
       "    <tr>\n",
       "      <th>0</th>\n",
       "      <td>POLYGON ((992800.00000 1826000.00000, 992800.0...</td>\n",
       "      <td>36.432362</td>\n",
       "      <td>127.417591</td>\n",
       "      <td>25.355</td>\n",
       "      <td>77.0</td>\n",
       "      <td>8.0</td>\n",
       "      <td>107.63</td>\n",
       "      <td>10.78</td>\n",
       "      <td>1488.43</td>\n",
       "      <td>0</td>\n",
       "      <td>0</td>\n",
       "      <td>0</td>\n",
       "      <td>0</td>\n",
       "      <td>0</td>\n",
       "      <td>0</td>\n",
       "      <td>0</td>\n",
       "      <td>0</td>\n",
       "      <td>0</td>\n",
       "      <td>0</td>\n",
       "    </tr>\n",
       "    <tr>\n",
       "      <th>1</th>\n",
       "      <td>POLYGON ((993300.00000 1822700.00000, 993300.0...</td>\n",
       "      <td>36.402716</td>\n",
       "      <td>127.423134</td>\n",
       "      <td>25.429</td>\n",
       "      <td>286.0</td>\n",
       "      <td>1.0</td>\n",
       "      <td>0.00</td>\n",
       "      <td>0.00</td>\n",
       "      <td>9653.28</td>\n",
       "      <td>0</td>\n",
       "      <td>0</td>\n",
       "      <td>0</td>\n",
       "      <td>0</td>\n",
       "      <td>0</td>\n",
       "      <td>0</td>\n",
       "      <td>0</td>\n",
       "      <td>0</td>\n",
       "      <td>0</td>\n",
       "      <td>0</td>\n",
       "    </tr>\n",
       "    <tr>\n",
       "      <th>2</th>\n",
       "      <td>POLYGON ((992800.00000 1827500.00000, 992800.0...</td>\n",
       "      <td>36.445837</td>\n",
       "      <td>127.417591</td>\n",
       "      <td>25.335</td>\n",
       "      <td>81.0</td>\n",
       "      <td>18.0</td>\n",
       "      <td>147.06</td>\n",
       "      <td>7.18</td>\n",
       "      <td>172.82</td>\n",
       "      <td>0</td>\n",
       "      <td>0</td>\n",
       "      <td>0</td>\n",
       "      <td>0</td>\n",
       "      <td>0</td>\n",
       "      <td>0</td>\n",
       "      <td>0</td>\n",
       "      <td>0</td>\n",
       "      <td>0</td>\n",
       "      <td>0</td>\n",
       "    </tr>\n",
       "  </tbody>\n",
       "</table>\n",
       "</div>"
      ],
      "text/plain": [
       "                                            geometry        lat         lng  \\\n",
       "0  POLYGON ((992800.00000 1826000.00000, 992800.0...  36.432362  127.417591   \n",
       "1  POLYGON ((993300.00000 1822700.00000, 993300.0...  36.402716  127.423134   \n",
       "2  POLYGON ((992800.00000 1827500.00000, 992800.0...  36.445837  127.417591   \n",
       "\n",
       "      고저차    인구수  건축물수  주거용도면적  건축물높이   건축물연면적  주차장수  교육연구시설  주거지  농축산업시설  \\\n",
       "0  25.355   77.0   8.0  107.63  10.78  1488.43     0       0    0       0   \n",
       "1  25.429  286.0   1.0    0.00   0.00  9653.28     0       0    0       0   \n",
       "2  25.335   81.0  18.0  147.06   7.18   172.82     0       0    0       0   \n",
       "\n",
       "   창고시설  편의시설  생산시설  님비시설  자동차관련시설  EV  \n",
       "0     0     0     0     0        0   0  \n",
       "1     0     0     0     0        0   0  \n",
       "2     0     0     0     0        0   0  "
      ]
     },
     "execution_count": 4,
     "metadata": {},
     "output_type": "execute_result"
    }
   ],
   "source": [
    "daejeon = geopandas.read_file('./dataset/전처리후/대전/merge_9.geojson', encoding='utf-8')\n",
    "daejeon = daejeon[['geometry', 'lat', 'lng', '고저차', '인구수', '건축물수', '주거용도면적', '건축물높이', '건축물연면적', '주차장수', '교육연구시설', '주거지', '농축산업시설', '창고시설',\n",
    "       '편의시설', '생산시설', '님비시설', '자동차관련시설', 'EV']]\n",
    "\n",
    "print(len(daejeon))\n",
    "daejeon.head(3)"
   ]
  },
  {
   "cell_type": "markdown",
   "id": "02870623",
   "metadata": {},
   "source": [
    "## Train / Test Data 정의"
   ]
  },
  {
   "cell_type": "markdown",
   "id": "d6731323",
   "metadata": {},
   "source": [
    "### data / target 분리"
   ]
  },
  {
   "cell_type": "markdown",
   "id": "075bc0ad",
   "metadata": {},
   "source": [
    "#### Train set"
   ]
  },
  {
   "cell_type": "code",
   "execution_count": 5,
   "id": "89f1da1f",
   "metadata": {},
   "outputs": [
    {
     "name": "stdout",
     "output_type": "stream",
     "text": [
      "226897\n"
     ]
    },
    {
     "data": {
      "text/html": [
       "<div>\n",
       "<style scoped>\n",
       "    .dataframe tbody tr th:only-of-type {\n",
       "        vertical-align: middle;\n",
       "    }\n",
       "\n",
       "    .dataframe tbody tr th {\n",
       "        vertical-align: top;\n",
       "    }\n",
       "\n",
       "    .dataframe thead th {\n",
       "        text-align: right;\n",
       "    }\n",
       "</style>\n",
       "<table border=\"1\" class=\"dataframe\">\n",
       "  <thead>\n",
       "    <tr style=\"text-align: right;\">\n",
       "      <th></th>\n",
       "      <th>고저차</th>\n",
       "      <th>인구수</th>\n",
       "      <th>건축물수</th>\n",
       "      <th>주거용도면적</th>\n",
       "      <th>건축물높이</th>\n",
       "      <th>건축물연면적</th>\n",
       "      <th>주차장수</th>\n",
       "      <th>교육연구시설</th>\n",
       "      <th>주거지</th>\n",
       "      <th>농축산업시설</th>\n",
       "      <th>창고시설</th>\n",
       "      <th>편의시설</th>\n",
       "      <th>생산시설</th>\n",
       "      <th>님비시설</th>\n",
       "      <th>자동차관련시설</th>\n",
       "    </tr>\n",
       "  </thead>\n",
       "  <tbody>\n",
       "    <tr>\n",
       "      <th>0</th>\n",
       "      <td>28.786</td>\n",
       "      <td>124.0</td>\n",
       "      <td>18.0</td>\n",
       "      <td>473.52</td>\n",
       "      <td>9.97</td>\n",
       "      <td>452.73</td>\n",
       "      <td>0</td>\n",
       "      <td>0</td>\n",
       "      <td>0</td>\n",
       "      <td>0</td>\n",
       "      <td>0</td>\n",
       "      <td>0</td>\n",
       "      <td>0</td>\n",
       "      <td>0</td>\n",
       "      <td>0</td>\n",
       "    </tr>\n",
       "    <tr>\n",
       "      <th>1</th>\n",
       "      <td>28.763</td>\n",
       "      <td>298.0</td>\n",
       "      <td>47.0</td>\n",
       "      <td>215.99</td>\n",
       "      <td>8.83</td>\n",
       "      <td>213.95</td>\n",
       "      <td>0</td>\n",
       "      <td>0</td>\n",
       "      <td>0</td>\n",
       "      <td>0</td>\n",
       "      <td>0</td>\n",
       "      <td>0</td>\n",
       "      <td>0</td>\n",
       "      <td>0</td>\n",
       "      <td>0</td>\n",
       "    </tr>\n",
       "    <tr>\n",
       "      <th>2</th>\n",
       "      <td>28.865</td>\n",
       "      <td>173.0</td>\n",
       "      <td>6.0</td>\n",
       "      <td>263.28</td>\n",
       "      <td>19.39</td>\n",
       "      <td>1323.18</td>\n",
       "      <td>0</td>\n",
       "      <td>0</td>\n",
       "      <td>0</td>\n",
       "      <td>0</td>\n",
       "      <td>0</td>\n",
       "      <td>0</td>\n",
       "      <td>0</td>\n",
       "      <td>0</td>\n",
       "      <td>0</td>\n",
       "    </tr>\n",
       "    <tr>\n",
       "      <th>3</th>\n",
       "      <td>28.777</td>\n",
       "      <td>166.0</td>\n",
       "      <td>34.0</td>\n",
       "      <td>201.79</td>\n",
       "      <td>8.20</td>\n",
       "      <td>213.84</td>\n",
       "      <td>0</td>\n",
       "      <td>0</td>\n",
       "      <td>0</td>\n",
       "      <td>0</td>\n",
       "      <td>0</td>\n",
       "      <td>0</td>\n",
       "      <td>0</td>\n",
       "      <td>0</td>\n",
       "      <td>0</td>\n",
       "    </tr>\n",
       "    <tr>\n",
       "      <th>4</th>\n",
       "      <td>28.832</td>\n",
       "      <td>438.0</td>\n",
       "      <td>2.0</td>\n",
       "      <td>0.00</td>\n",
       "      <td>54.80</td>\n",
       "      <td>8614.43</td>\n",
       "      <td>0</td>\n",
       "      <td>0</td>\n",
       "      <td>0</td>\n",
       "      <td>0</td>\n",
       "      <td>0</td>\n",
       "      <td>0</td>\n",
       "      <td>0</td>\n",
       "      <td>0</td>\n",
       "      <td>0</td>\n",
       "    </tr>\n",
       "  </tbody>\n",
       "</table>\n",
       "</div>"
      ],
      "text/plain": [
       "      고저차    인구수  건축물수  주거용도면적  건축물높이   건축물연면적  주차장수  교육연구시설  주거지  농축산업시설  \\\n",
       "0  28.786  124.0  18.0  473.52   9.97   452.73     0       0    0       0   \n",
       "1  28.763  298.0  47.0  215.99   8.83   213.95     0       0    0       0   \n",
       "2  28.865  173.0   6.0  263.28  19.39  1323.18     0       0    0       0   \n",
       "3  28.777  166.0  34.0  201.79   8.20   213.84     0       0    0       0   \n",
       "4  28.832  438.0   2.0    0.00  54.80  8614.43     0       0    0       0   \n",
       "\n",
       "   창고시설  편의시설  생산시설  님비시설  자동차관련시설  \n",
       "0     0     0     0     0        0  \n",
       "1     0     0     0     0        0  \n",
       "2     0     0     0     0        0  \n",
       "3     0     0     0     0        0  \n",
       "4     0     0     0     0        0  "
      ]
     },
     "execution_count": 5,
     "metadata": {},
     "output_type": "execute_result"
    }
   ],
   "source": [
    "# 학습 데이터는 대구+대전\n",
    "# 226897개\n",
    "\n",
    "train_data = pd.concat([daegu[daegu.columns[3:-1]], daejeon[daejeon.columns[3:-1]]])\n",
    "print(len(train_data))\n",
    "train_data.head()"
   ]
  },
  {
   "cell_type": "code",
   "execution_count": 6,
   "id": "a33214d3",
   "metadata": {
    "scrolled": false
   },
   "outputs": [
    {
     "data": {
      "image/png": "[encoded data removed]",
      "text/plain": [
       "<Figure size 432x288 with 1 Axes>"
      ]
     },
     "metadata": {
      "needs_background": "light"
     },
     "output_type": "display_data"
    },
    {
     "name": "stdout",
     "output_type": "stream",
     "text": [
      "0    224937\n",
      "1      1960\n",
      "Name: EV, dtype: int64\n"
     ]
    }
   ],
   "source": [
    "# 학습 데이터의 Y는 격자 내 전기차 충전소 유무\n",
    "# 대구+대전에서 전기차 충전소가 없는 격자는 224937곳, 있는 곳은 1960곳\n",
    "\n",
    "train_target = pd.concat([daegu[daegu.columns[-1]], daejeon[daejeon.columns[-1]]])\n",
    "\n",
    "plt.bar(train_target.unique(), train_target.value_counts())\n",
    "plt.xticks([0, 1])\n",
    "plt.show()\n",
    "print(train_target.value_counts())"
   ]
  },
  {
   "cell_type": "markdown",
   "id": "11fa1f61",
   "metadata": {},
   "source": [
    "#### Test set"
   ]
  },
  {
   "cell_type": "code",
   "execution_count": 10,
   "id": "871705cd",
   "metadata": {},
   "outputs": [
    {
     "name": "stdout",
     "output_type": "stream",
     "text": [
      "47396\n"
     ]
    },
    {
     "data": {
      "text/html": [
       "<div>\n",
       "<style scoped>\n",
       "    .dataframe tbody tr th:only-of-type {\n",
       "        vertical-align: middle;\n",
       "    }\n",
       "\n",
       "    .dataframe tbody tr th {\n",
       "        vertical-align: top;\n",
       "    }\n",
       "\n",
       "    .dataframe thead th {\n",
       "        text-align: right;\n",
       "    }\n",
       "</style>\n",
       "<table border=\"1\" class=\"dataframe\">\n",
       "  <thead>\n",
       "    <tr style=\"text-align: right;\">\n",
       "      <th></th>\n",
       "      <th>고저차</th>\n",
       "      <th>인구수</th>\n",
       "      <th>건축물수</th>\n",
       "      <th>주거용도면적</th>\n",
       "      <th>건축물높이</th>\n",
       "      <th>건축물연면적</th>\n",
       "      <th>주차장수</th>\n",
       "      <th>교육연구시설</th>\n",
       "      <th>주거지</th>\n",
       "      <th>농축산업시설</th>\n",
       "      <th>창고시설</th>\n",
       "      <th>편의시설</th>\n",
       "      <th>생산시설</th>\n",
       "      <th>님비시설</th>\n",
       "      <th>자동차관련시설</th>\n",
       "    </tr>\n",
       "  </thead>\n",
       "  <tbody>\n",
       "    <tr>\n",
       "      <th>0</th>\n",
       "      <td>24.869</td>\n",
       "      <td>0</td>\n",
       "      <td>1</td>\n",
       "      <td>83.64</td>\n",
       "      <td>0.00</td>\n",
       "      <td>83.64</td>\n",
       "      <td>0</td>\n",
       "      <td>0</td>\n",
       "      <td>0</td>\n",
       "      <td>0</td>\n",
       "      <td>0</td>\n",
       "      <td>0</td>\n",
       "      <td>0</td>\n",
       "      <td>0</td>\n",
       "      <td>0</td>\n",
       "    </tr>\n",
       "    <tr>\n",
       "      <th>1</th>\n",
       "      <td>25.167</td>\n",
       "      <td>0</td>\n",
       "      <td>1</td>\n",
       "      <td>208.91</td>\n",
       "      <td>7.80</td>\n",
       "      <td>198.71</td>\n",
       "      <td>0</td>\n",
       "      <td>0</td>\n",
       "      <td>0</td>\n",
       "      <td>0</td>\n",
       "      <td>0</td>\n",
       "      <td>0</td>\n",
       "      <td>0</td>\n",
       "      <td>0</td>\n",
       "      <td>0</td>\n",
       "    </tr>\n",
       "    <tr>\n",
       "      <th>2</th>\n",
       "      <td>24.825</td>\n",
       "      <td>27</td>\n",
       "      <td>4</td>\n",
       "      <td>99.70</td>\n",
       "      <td>6.43</td>\n",
       "      <td>99.25</td>\n",
       "      <td>0</td>\n",
       "      <td>0</td>\n",
       "      <td>0</td>\n",
       "      <td>0</td>\n",
       "      <td>0</td>\n",
       "      <td>0</td>\n",
       "      <td>0</td>\n",
       "      <td>0</td>\n",
       "      <td>0</td>\n",
       "    </tr>\n",
       "    <tr>\n",
       "      <th>3</th>\n",
       "      <td>25.007</td>\n",
       "      <td>0</td>\n",
       "      <td>3</td>\n",
       "      <td>123.00</td>\n",
       "      <td>5.37</td>\n",
       "      <td>277.76</td>\n",
       "      <td>0</td>\n",
       "      <td>0</td>\n",
       "      <td>0</td>\n",
       "      <td>0</td>\n",
       "      <td>0</td>\n",
       "      <td>0</td>\n",
       "      <td>0</td>\n",
       "      <td>0</td>\n",
       "      <td>0</td>\n",
       "    </tr>\n",
       "    <tr>\n",
       "      <th>4</th>\n",
       "      <td>24.447</td>\n",
       "      <td>27</td>\n",
       "      <td>20</td>\n",
       "      <td>77.54</td>\n",
       "      <td>8.25</td>\n",
       "      <td>123.95</td>\n",
       "      <td>0</td>\n",
       "      <td>0</td>\n",
       "      <td>0</td>\n",
       "      <td>0</td>\n",
       "      <td>0</td>\n",
       "      <td>0</td>\n",
       "      <td>0</td>\n",
       "      <td>0</td>\n",
       "      <td>0</td>\n",
       "    </tr>\n",
       "  </tbody>\n",
       "</table>\n",
       "</div>"
      ],
      "text/plain": [
       "      고저차  인구수  건축물수  주거용도면적  건축물높이  건축물연면적  주차장수  교육연구시설  주거지  농축산업시설  창고시설  \\\n",
       "0  24.869    0     1   83.64   0.00   83.64     0       0    0       0     0   \n",
       "1  25.167    0     1  208.91   7.80  198.71     0       0    0       0     0   \n",
       "2  24.825   27     4   99.70   6.43   99.25     0       0    0       0     0   \n",
       "3  25.007    0     3  123.00   5.37  277.76     0       0    0       0     0   \n",
       "4  24.447   27    20   77.54   8.25  123.95     0       0    0       0     0   \n",
       "\n",
       "   편의시설  생산시설  님비시설  자동차관련시설  \n",
       "0     0     0     0        0  \n",
       "1     0     0     0        0  \n",
       "2     0     0     0        0  \n",
       "3     0     0     0        0  \n",
       "4     0     0     0        0  "
      ]
     },
     "execution_count": 10,
     "metadata": {},
     "output_type": "execute_result"
    }
   ],
   "source": [
    "# 검증 데이터는 세종시\n",
    "# 47396개\n",
    "\n",
    "test_data = sejong[sejong.columns[3:-1]]\n",
    "print(len(test_data))\n",
    "test_data.head()"
   ]
  },
  {
   "cell_type": "code",
   "execution_count": 11,
   "id": "c474457c",
   "metadata": {},
   "outputs": [
    {
     "data": {
      "image/png": "[encoded data removed]",
      "text/plain": [
       "<Figure size 432x288 with 1 Axes>"
      ]
     },
     "metadata": {
      "needs_background": "light"
     },
     "output_type": "display_data"
    },
    {
     "name": "stdout",
     "output_type": "stream",
     "text": [
      "0    47120\n",
      "1      276\n",
      "Name: EV, dtype: int64\n"
     ]
    }
   ],
   "source": [
    "# 검증 데이터의 Y는 격자 내 전기차 충전소 유무\n",
    "# 세종시에서 전기차 충전소가 없는 격자는 47120곳, 있는 곳은 276곳\n",
    "\n",
    "test_target = sejong[sejong.columns[-1]]\n",
    "\n",
    "plt.bar(test_target.unique(), test_target.value_counts())\n",
    "plt.xticks([0, 1])\n",
    "plt.show()\n",
    "print(test_target.value_counts())"
   ]
  },
  {
   "cell_type": "markdown",
   "id": "cf5bac0b",
   "metadata": {},
   "source": [
    "## 모델 정의"
   ]
  },
  {
   "cell_type": "code",
   "execution_count": 15,
   "id": "784cbf65",
   "metadata": {},
   "outputs": [],
   "source": [
    "### GridSearchCV는 쉽게 최적의 파라미터를 찾아주지만, 안그래도 편향된 데이터를 CV를 활용하다보니 성능이 도리어 안나오는 상황이 연출됨\n",
    "### 따라서 반복문을 통해 GridSearch와 유사하게 모든 경우의수를 비교할 수 있도록하고, CV는 활용하지 않는 방향으로 진행"
   ]
  },
  {
   "cell_type": "markdown",
   "id": "2823182f",
   "metadata": {},
   "source": [
    "### RandomForestClassifier"
   ]
  },
  {
   "cell_type": "code",
   "execution_count": 33,
   "id": "011d3ec8",
   "metadata": {},
   "outputs": [],
   "source": [
    "def RandomForest(dists, train_data, train_target, test_data, test_target):\n",
    "    \n",
    "    trainF1 = []\n",
    "    testF1 = []\n",
    "    sketch_trainF1 = []\n",
    "    sketch_testF1 = []\n",
    "    param = []\n",
    "    \n",
    "    for estimators in dists['max_depth']:\n",
    "        testf1indepth = []\n",
    "        trainf1indepth = []\n",
    "        for depth in dists['n_estimators']:\n",
    "            for features in dists['max_features']:\n",
    "                clf = ensemble.RandomForestClassifier(n_estimators=estimators, max_depth=depth, max_features=features, n_jobs=4)\n",
    "                clf.fit(train_data, train_target)\n",
    "                Y_predTrain = clf.predict(train_data)\n",
    "                Y_predTest = clf.predict(test_data)\n",
    "                \n",
    "                param.append([estimators, depth, features])\n",
    "                trainF1.append(f1_score(train_target, Y_predTrain, average='micro'))\n",
    "                testF1.append(f1_score(test_target, Y_predTest, average='micro'))\n",
    "                testf1indepth.append(f1_score(test_target, Y_predTest, average='micro'))\n",
    "                trainf1indepth.append(f1_score(train_target, Y_predTrain, average='micro'))\n",
    "        \n",
    "        sketch_trainF1.append(max(trainf1indepth))\n",
    "        sketch_testF1.append(max(testf1indepth))\n",
    "                    \n",
    "    best_params = param[testF1.index(max(testF1))]\n",
    "    print()\n",
    "    print('best_params (test 성능이 가장 좋은 파라미터) : ', 'n_estimators=', best_params[0], 'max_depth=', best_params[1], 'max_features=', best_params[2])\n",
    "    print('best_score (test F1 score):', max(testF1))\n",
    "    print()\n",
    "\n",
    "    # F1 score 비교\n",
    "    plt.figure(figsize=(15, 6))\n",
    "    plt.plot(dists['max_depth'], sketch_trainF1, 'ro-', dists['max_depth'], sketch_testF1, 'bv--')\n",
    "    plt.legend(['Train F1', 'Test F1'])\n",
    "    plt.xlabel('estimators')\n",
    "    plt.ylabel('F1 score')\n",
    "    plt.show()\n",
    "    \n",
    "    # 최적의 파라미터를 입력해 모델을 생성\n",
    "    clf = ensemble.RandomForestClassifier(n_estimators=best_params[0], max_depth=best_params[1], max_features=best_params[2], n_jobs=4)\n",
    "    clf.fit(train_data, train_target)\n",
    "    Y_predTest = clf.predict(test_data)\n",
    "    \n",
    "    # 지도 그리기\n",
    "    temp = sejong.copy()\n",
    "    temp['pred'] = [0]*len(temp)\n",
    "    for i, idx in enumerate(test_data.index):\n",
    "        temp['pred'][idx] = Y_predTest[i]\n",
    "    #temp['pred'] = pred\n",
    "        \n",
    "    print('실제 충전소 수 :', len(temp[temp['EV']==1]))\n",
    "    print('충전소가 있어야 한다고 분류한 타일 수 :', len(temp[temp['pred']==1]))\n",
    "    print('recall score 실제 충전소가 맞는 지 맞춘 경우 :', len(temp[(temp['pred']==1) & (temp['EV']==1)]), '/', len(temp[temp['EV']==1]))\n",
    "    print('precision score 실제 충전소가 없는 곳을 맞춘 경우 :', len(temp[(temp['pred']==0) & (temp['EV']==0)]), '/', len(temp[temp['EV']==0]))\n",
    "    print('최적 입지 후보(실제론 없지만, 있어야 한다고 분류) :', len(temp[(temp['pred']==1) & (temp['EV']==0)]), '/', len(temp[temp['EV']==0]))\n",
    "    \n",
    "    # feature inportance\n",
    "    importances = clf.feature_importances_\n",
    "    std = np.std([tree.feature_importances_ for tree in clf.estimators_], axis=0)\n",
    "    clf_importances = pd.Series(importances, index=test_data.columns)\n",
    "\n",
    "    fig, ax = plt.subplots()\n",
    "    clf_importances.plot.bar(yerr=std, ax=ax)\n",
    "    ax.set_title(\"Feature importances using MDI\")\n",
    "    ax.set_ylabel(\"Mean decrease in impurity\")\n",
    "    fig.tight_layout()\n",
    "    \n",
    "    idx = temp[(temp['EV'] == 0) & (temp['pred'] == 1)].index\n",
    "    for i in temp[temp['pred'] == 1].index:\n",
    "        temp['pred'].loc[i] = 0\n",
    "    for i in idx:\n",
    "        temp['pred'].loc[i] = 1\n",
    "\n",
    "    fig, ax1 = plt.subplots(figsize=(15, 15))\n",
    "    fig.set_facecolor('white')\n",
    "    sejong['geometry'].plot(ax=ax1, color='gainsboro')\n",
    "    sejong[sejong['EV']==1].plot(ax=ax1, column='EV', color='lime', aspect=1)\n",
    "    temp[temp['pred']==1].plot(ax=ax1, column='pred', color='red', aspect=1)\n",
    "    ax1.set_axis_off()\n",
    "    plt.show()\n",
    "    \n",
    "    return clf, temp"
   ]
  },
  {
   "cell_type": "markdown",
   "id": "14383caf",
   "metadata": {},
   "source": [
    "### 학습 & 시각화"
   ]
  },
  {
   "cell_type": "code",
   "execution_count": 34,
   "id": "b53ecb65",
   "metadata": {},
   "outputs": [
    {
     "name": "stdout",
     "output_type": "stream",
     "text": [
      "\n",
      "best_params (test 성능이 가장 좋은 파라미터) :  n_estimators= 5 max_depth= 10 max_features= 7\n",
      "best_score (test F1 score): 0.9941767237741581\n",
      "\n"
     ]
    },
    {
     "data": {
      "image/png": "[encoded data removed]",
      "text/plain": [
       "<Figure size 1080x432 with 1 Axes>"
      ]
     },
     "metadata": {
      "needs_background": "light"
     },
     "output_type": "display_data"
    },
    {
     "name": "stdout",
     "output_type": "stream",
     "text": [
      "실제 충전소 수 : 276\n",
      "충전소가 있어야 한다고 분류한 타일 수 : 1\n",
      "recall score 실제 충전소가 맞는 지 맞춘 경우 : 0 / 276\n",
      "precision score 실제 충전소가 없는 곳을 맞춘 경우 : 47119 / 47120\n",
      "최적 입지 후보(실제론 없지만, 있어야 한다고 분류) : 1 / 47120\n"
     ]
    },
    {
     "data": {
      "image/png": "[encoded data removed]",
      "text/plain": [
       "<Figure size 432x288 with 1 Axes>"
      ]
     },
     "metadata": {
      "needs_background": "light"
     },
     "output_type": "display_data"
    },
    {
     "data": {
      "image/png": "[encoded data removed]",
      "text/plain": [
       "<Figure size 1080x1080 with 1 Axes>"
      ]
     },
     "metadata": {},
     "output_type": "display_data"
    }
   ],
   "source": [
    "dists = {\n",
    "    'max_depth' : [3,5,10,15,20,30,50,100],\n",
    "    'max_features' : [3,5,7,9,11,13,15], \n",
    "    'n_estimators' : [10,20,30,50,100,200]\n",
    "}\n",
    "\n",
    "clf, df = RandomForest(dists, train_data, train_target, test_data, test_target)"
   ]
  },
  {
   "cell_type": "markdown",
   "id": "a9956634",
   "metadata": {},
   "source": [
    "#### TP가 0으로 기존 충전소를 제대로 분류하지 못함."
   ]
  },
  {
   "cell_type": "markdown",
   "id": "e514756f",
   "metadata": {},
   "source": [
    "### 정규화"
   ]
  },
  {
   "cell_type": "code",
   "execution_count": 35,
   "id": "e3a9ce65",
   "metadata": {
    "scrolled": true
   },
   "outputs": [
    {
     "data": {
      "text/html": [
       "<div>\n",
       "<style scoped>\n",
       "    .dataframe tbody tr th:only-of-type {\n",
       "        vertical-align: middle;\n",
       "    }\n",
       "\n",
       "    .dataframe tbody tr th {\n",
       "        vertical-align: top;\n",
       "    }\n",
       "\n",
       "    .dataframe thead th {\n",
       "        text-align: right;\n",
       "    }\n",
       "</style>\n",
       "<table border=\"1\" class=\"dataframe\">\n",
       "  <thead>\n",
       "    <tr style=\"text-align: right;\">\n",
       "      <th></th>\n",
       "      <th>geometry</th>\n",
       "      <th>lat</th>\n",
       "      <th>lng</th>\n",
       "      <th>고저차</th>\n",
       "      <th>인구수</th>\n",
       "      <th>건축물수</th>\n",
       "      <th>주거용도면적</th>\n",
       "      <th>건축물높이</th>\n",
       "      <th>건축물연면적</th>\n",
       "      <th>주차장수</th>\n",
       "      <th>교육연구시설</th>\n",
       "      <th>주거지</th>\n",
       "      <th>농축산업시설</th>\n",
       "      <th>창고시설</th>\n",
       "      <th>편의시설</th>\n",
       "      <th>생산시설</th>\n",
       "      <th>님비시설</th>\n",
       "      <th>자동차관련시설</th>\n",
       "      <th>EV</th>\n",
       "    </tr>\n",
       "  </thead>\n",
       "  <tbody>\n",
       "    <tr>\n",
       "      <th>0</th>\n",
       "      <td>POLYGON ((977800.00000 1828600.00000, 977800.0...</td>\n",
       "      <td>36.455719</td>\n",
       "      <td>127.251282</td>\n",
       "      <td>0.551724</td>\n",
       "      <td>0.00000</td>\n",
       "      <td>0.014706</td>\n",
       "      <td>0.090746</td>\n",
       "      <td>0.000000</td>\n",
       "      <td>0.000854</td>\n",
       "      <td>0</td>\n",
       "      <td>0</td>\n",
       "      <td>0</td>\n",
       "      <td>0</td>\n",
       "      <td>0</td>\n",
       "      <td>0</td>\n",
       "      <td>0</td>\n",
       "      <td>0</td>\n",
       "      <td>0</td>\n",
       "      <td>0</td>\n",
       "    </tr>\n",
       "    <tr>\n",
       "      <th>1</th>\n",
       "      <td>POLYGON ((990100.00000 1837300.00000, 990100.0...</td>\n",
       "      <td>36.533877</td>\n",
       "      <td>127.387655</td>\n",
       "      <td>0.894253</td>\n",
       "      <td>0.00000</td>\n",
       "      <td>0.014706</td>\n",
       "      <td>0.226660</td>\n",
       "      <td>0.064580</td>\n",
       "      <td>0.002029</td>\n",
       "      <td>0</td>\n",
       "      <td>0</td>\n",
       "      <td>0</td>\n",
       "      <td>0</td>\n",
       "      <td>0</td>\n",
       "      <td>0</td>\n",
       "      <td>0</td>\n",
       "      <td>0</td>\n",
       "      <td>0</td>\n",
       "      <td>0</td>\n",
       "    </tr>\n",
       "    <tr>\n",
       "      <th>2</th>\n",
       "      <td>POLYGON ((980600.00000 1843000.00000, 980600.0...</td>\n",
       "      <td>36.585083</td>\n",
       "      <td>127.282326</td>\n",
       "      <td>0.501149</td>\n",
       "      <td>0.01176</td>\n",
       "      <td>0.058824</td>\n",
       "      <td>0.108171</td>\n",
       "      <td>0.053237</td>\n",
       "      <td>0.001014</td>\n",
       "      <td>0</td>\n",
       "      <td>0</td>\n",
       "      <td>0</td>\n",
       "      <td>0</td>\n",
       "      <td>0</td>\n",
       "      <td>0</td>\n",
       "      <td>0</td>\n",
       "      <td>0</td>\n",
       "      <td>0</td>\n",
       "      <td>0</td>\n",
       "    </tr>\n",
       "  </tbody>\n",
       "</table>\n",
       "</div>"
      ],
      "text/plain": [
       "                                            geometry        lat         lng  \\\n",
       "0  POLYGON ((977800.00000 1828600.00000, 977800.0...  36.455719  127.251282   \n",
       "1  POLYGON ((990100.00000 1837300.00000, 990100.0...  36.533877  127.387655   \n",
       "2  POLYGON ((980600.00000 1843000.00000, 980600.0...  36.585083  127.282326   \n",
       "\n",
       "        고저차      인구수      건축물수    주거용도면적     건축물높이    건축물연면적  주차장수  교육연구시설  \\\n",
       "0  0.551724  0.00000  0.014706  0.090746  0.000000  0.000854     0       0   \n",
       "1  0.894253  0.00000  0.014706  0.226660  0.064580  0.002029     0       0   \n",
       "2  0.501149  0.01176  0.058824  0.108171  0.053237  0.001014     0       0   \n",
       "\n",
       "   주거지  농축산업시설  창고시설  편의시설  생산시설  님비시설  자동차관련시설  EV  \n",
       "0    0       0     0     0     0     0        0   0  \n",
       "1    0       0     0     0     0     0        0   0  \n",
       "2    0       0     0     0     0     0        0   0  "
      ]
     },
     "execution_count": 35,
     "metadata": {},
     "output_type": "execute_result"
    }
   ],
   "source": [
    "from sklearn.preprocessing import MinMaxScaler\n",
    "\n",
    "scaler = MinMaxScaler()\n",
    "sejong_minmax = scaler.fit_transform(sejong[['인구수', '건축물수', '주거용도면적', '건축물높이', '건축물연면적', '고저차']])\n",
    "sejong_minmax = pd.DataFrame(sejong_minmax, columns=['인구수', '건축물수', '주거용도면적', '건축물높이', '건축물연면적', '고저차'])\n",
    "sejong[['인구수', '건축물수', '주거용도면적', '건축물높이', '건축물연면적', '고저차']] = sejong_minmax\n",
    "\n",
    "sejong.head(3)"
   ]
  },
  {
   "cell_type": "code",
   "execution_count": 36,
   "id": "f46aa9ea",
   "metadata": {},
   "outputs": [],
   "source": [
    "daegu_minmax = scaler.fit_transform(daegu[['인구수', '건축물수', '주거용도면적', '건축물높이', '건축물연면적', '고저차']])\n",
    "daegu_minmax = pd.DataFrame(daegu_minmax, columns=['인구수', '건축물수', '주거용도면적', '건축물높이', '건축물연면적', '고저차'])\n",
    "daegu[['인구수', '건축물수', '주거용도면적', '건축물높이', '건축물연면적', '고저차']] = daegu_minmax\n",
    "\n",
    "daejeon_minmax = scaler.fit_transform(daejeon[['인구수', '건축물수', '주거용도면적', '건축물높이', '건축물연면적', '고저차']])\n",
    "daejeon_minmax = pd.DataFrame(daejeon_minmax, columns=['인구수', '건축물수', '주거용도면적', '건축물높이', '건축물연면적', '고저차'])\n",
    "daejeon[['인구수', '건축물수', '주거용도면적', '건축물높이', '건축물연면적', '고저차']] = daejeon_minmax"
   ]
  },
  {
   "cell_type": "code",
   "execution_count": 37,
   "id": "240aaa68",
   "metadata": {},
   "outputs": [],
   "source": [
    "train_data = pd.concat([daegu[daegu.columns[3:-1]], daejeon[daejeon.columns[3:-1]]])\n",
    "train_target = pd.concat([daegu[daegu.columns[-1]], daejeon[daejeon.columns[-1]]])\n",
    "\n",
    "test_data = sejong[sejong.columns[3:-1]]\n",
    "test_target = sejong[sejong.columns[-1]]"
   ]
  },
  {
   "cell_type": "code",
   "execution_count": 38,
   "id": "92611394",
   "metadata": {},
   "outputs": [
    {
     "name": "stdout",
     "output_type": "stream",
     "text": [
      "\n",
      "best_params (test 성능이 가장 좋은 파라미터) :  n_estimators= 5 max_depth= 10 max_features= 3\n",
      "best_score (test F1 score): 0.9941767237741581\n",
      "\n"
     ]
    },
    {
     "data": {
      "image/png": "[encoded data removed]",
      "text/plain": [
       "<Figure size 1080x432 with 1 Axes>"
      ]
     },
     "metadata": {
      "needs_background": "light"
     },
     "output_type": "display_data"
    },
    {
     "name": "stdout",
     "output_type": "stream",
     "text": [
      "실제 충전소 수 : 276\n",
      "충전소가 있어야 한다고 분류한 타일 수 : 0\n",
      "recall score 실제 충전소가 맞는 지 맞춘 경우 : 0 / 276\n",
      "precision score 실제 충전소가 없는 곳을 맞춘 경우 : 47120 / 47120\n",
      "최적 입지 후보(실제론 없지만, 있어야 한다고 분류) : 0 / 47120\n"
     ]
    },
    {
     "data": {
      "image/png": "[encoded data removed]",
      "text/plain": [
       "<Figure size 432x288 with 1 Axes>"
      ]
     },
     "metadata": {
      "needs_background": "light"
     },
     "output_type": "display_data"
    },
    {
     "data": {
      "image/png": "[encoded data removed]",
      "text/plain": [
       "<Figure size 1080x1080 with 1 Axes>"
      ]
     },
     "metadata": {},
     "output_type": "display_data"
    }
   ],
   "source": [
    "dists = {\n",
    "    'max_depth' : [3,5,10,15,20,30,50,100],\n",
    "    'max_features' : [3,5,7,9,11,13,15], \n",
    "    'n_estimators' : [10,20,30,50,100,200]\n",
    "}\n",
    "\n",
    "clf, df = RandomForest(dists, train_data, train_target, test_data, test_target)"
   ]
  },
  {
   "cell_type": "markdown",
   "id": "791de0a1",
   "metadata": {},
   "source": [
    "### 정규화 -> 언더샘플링"
   ]
  },
  {
   "cell_type": "code",
   "execution_count": 39,
   "id": "9c59353f",
   "metadata": {
    "scrolled": true
   },
   "outputs": [
    {
     "data": {
      "image/png": "[encoded data removed]",
      "text/plain": [
       "<Figure size 432x288 with 1 Axes>"
      ]
     },
     "metadata": {
      "needs_background": "light"
     },
     "output_type": "display_data"
    }
   ],
   "source": [
    "plt.bar([0, 1], train_target.value_counts())\n",
    "plt.xticks([0, 1], label=[0,1])\n",
    "plt.show()"
   ]
  },
  {
   "cell_type": "code",
   "execution_count": 40,
   "id": "6808276d",
   "metadata": {},
   "outputs": [
    {
     "data": {
      "image/png": "[encoded data removed]",
      "text/plain": [
       "<Figure size 432x288 with 1 Axes>"
      ]
     },
     "metadata": {
      "needs_background": "light"
     },
     "output_type": "display_data"
    }
   ],
   "source": [
    "rus = RandomUnderSampler()\n",
    "train_data, train_target = rus.fit_resample(train_data, train_target)\n",
    "\n",
    "plt.bar([0, 1], train_target.value_counts())\n",
    "plt.xticks([0, 1], label=[0,1])\n",
    "plt.show()"
   ]
  },
  {
   "cell_type": "code",
   "execution_count": 41,
   "id": "23d35333",
   "metadata": {},
   "outputs": [
    {
     "name": "stdout",
     "output_type": "stream",
     "text": [
      "\n",
      "best_params (test 성능이 가장 좋은 파라미터) :  n_estimators= 3 max_depth= 10 max_features= 5\n",
      "best_score (test F1 score): 0.9121866824204574\n",
      "\n"
     ]
    },
    {
     "data": {
      "image/png": "[encoded data removed]",
      "text/plain": [
       "<Figure size 1080x432 with 1 Axes>"
      ]
     },
     "metadata": {
      "needs_background": "light"
     },
     "output_type": "display_data"
    },
    {
     "name": "stdout",
     "output_type": "stream",
     "text": [
      "실제 충전소 수 : 276\n",
      "충전소가 있어야 한다고 분류한 타일 수 : 9524\n",
      "recall score 실제 충전소가 맞는 지 맞춘 경우 : 178 / 276\n",
      "precision score 실제 충전소가 없는 곳을 맞춘 경우 : 37774 / 47120\n",
      "최적 입지 후보(실제론 없지만, 있어야 한다고 분류) : 9346 / 47120\n"
     ]
    },
    {
     "data": {
      "image/png": "[encoded data removed]",
      "text/plain": [
       "<Figure size 432x288 with 1 Axes>"
      ]
     },
     "metadata": {
      "needs_background": "light"
     },
     "output_type": "display_data"
    },
    {
     "data": {
      "image/png": "[encoded data removed]",
      "text/plain": [
       "<Figure size 1080x1080 with 1 Axes>"
      ]
     },
     "metadata": {},
     "output_type": "display_data"
    }
   ],
   "source": [
    "dists = {\n",
    "    'max_depth' : [3,5,10,15,20,30,50,100],\n",
    "    'max_features' : [3,5,7,9,11,13,15], \n",
    "    'n_estimators' : [10,20,30,50,100,200]\n",
    "}\n",
    "\n",
    "clf, df = RandomForest(dists, train_data, train_target, test_data, test_target)"
   ]
  },
  {
   "cell_type": "markdown",
   "id": "eb445225",
   "metadata": {},
   "source": [
    "### 정규화 -> 오버샘플링"
   ]
  },
  {
   "cell_type": "code",
   "execution_count": 42,
   "id": "338a6d28",
   "metadata": {},
   "outputs": [],
   "source": [
    "train_data = pd.concat([daegu[daegu.columns[3:-1]], daejeon[daejeon.columns[3:-1]]])\n",
    "train_target = pd.concat([daegu[daegu.columns[-1]], daejeon[daejeon.columns[-1]]])\n",
    "\n",
    "test_data = sejong[sejong.columns[3:-1]]\n",
    "test_target = sejong[sejong.columns[-1]]"
   ]
  },
  {
   "cell_type": "code",
   "execution_count": 43,
   "id": "e2de9e1d",
   "metadata": {},
   "outputs": [
    {
     "data": {
      "image/png": "[encoded data removed]",
      "text/plain": [
       "<Figure size 432x288 with 1 Axes>"
      ]
     },
     "metadata": {
      "needs_background": "light"
     },
     "output_type": "display_data"
    }
   ],
   "source": [
    "ros = RandomOverSampler()\n",
    "train_data, train_target = ros.fit_resample(train_data, train_target)\n",
    "\n",
    "plt.bar([0, 1], train_target.value_counts())\n",
    "plt.xticks([0, 1], label=[0,1])\n",
    "plt.show()"
   ]
  },
  {
   "cell_type": "code",
   "execution_count": 44,
   "id": "c7c85904",
   "metadata": {},
   "outputs": [
    {
     "name": "stdout",
     "output_type": "stream",
     "text": [
      "\n",
      "best_params (test 성능이 가장 좋은 파라미터) :  n_estimators= 15 max_depth= 20 max_features= 7\n",
      "best_score (test F1 score): 0.9608827749177146\n",
      "\n"
     ]
    },
    {
     "data": {
      "image/png": "[encoded data removed]",
      "text/plain": [
       "<Figure size 1080x432 with 1 Axes>"
      ]
     },
     "metadata": {
      "needs_background": "light"
     },
     "output_type": "display_data"
    },
    {
     "name": "stdout",
     "output_type": "stream",
     "text": [
      "실제 충전소 수 : 276\n",
      "충전소가 있어야 한다고 분류한 타일 수 : 1753\n",
      "recall score 실제 충전소가 맞는 지 맞춘 경우 : 13 / 276\n",
      "precision score 실제 충전소가 없는 곳을 맞춘 경우 : 45380 / 47120\n",
      "최적 입지 후보(실제론 없지만, 있어야 한다고 분류) : 1740 / 47120\n"
     ]
    },
    {
     "data": {
      "image/png": "[encoded data removed]",
      "text/plain": [
       "<Figure size 432x288 with 1 Axes>"
      ]
     },
     "metadata": {
      "needs_background": "light"
     },
     "output_type": "display_data"
    },
    {
     "data": {
      "image/png": "[encoded data removed]",
      "text/plain": [
       "<Figure size 1080x1080 with 1 Axes>"
      ]
     },
     "metadata": {},
     "output_type": "display_data"
    }
   ],
   "source": [
    "dists = {\n",
    "    'max_depth' : [3,5,10,15,20,30,50,100],\n",
    "    'max_features' : [3,5,7,9,11,13,15], \n",
    "    'n_estimators' : [10,20,30,50,100]\n",
    "}\n",
    "\n",
    "clf, df = RandomForest(dists, train_data, train_target, test_data, test_target)"
   ]
  },
  {
   "cell_type": "code",
   "execution_count": null,
   "id": "ad0061f4",
   "metadata": {},
   "outputs": [],
   "source": []
  },
  {
   "cell_type": "code",
   "execution_count": null,
   "id": "8716f057",
   "metadata": {},
   "outputs": [],
   "source": []
  },
  {
   "cell_type": "code",
   "execution_count": null,
   "id": "88b0f6a4",
   "metadata": {},
   "outputs": [],
   "source": []
  },
  {
   "cell_type": "markdown",
   "id": "a1a6ba2b",
   "metadata": {},
   "source": [
    "### 인구수=0 & 충전소=0 인 타일 제거"
   ]
  },
  {
   "cell_type": "code",
   "execution_count": 45,
   "id": "18406de2",
   "metadata": {},
   "outputs": [],
   "source": [
    "# 데이터 불러오기\n",
    "\n",
    "sejong = geopandas.read_file('./dataset/전처리후/세종/merge_9.geojson', encoding='utf-8')\n",
    "sejong = sejong[['geometry', 'lat', 'lng', '고저차', '인구수', '건축물수', '주거용도면적', '건축물높이', '건축물연면적', '주차장수', '교육연구시설', '주거지', '농축산업시설', '창고시설',\n",
    "       '편의시설', '생산시설', '님비시설', '자동차관련시설', 'EV']]\n",
    "\n",
    "daegu = geopandas.read_file('./dataset/전처리후/대구/merge_9.geojson', encoding='utf-8')\n",
    "daegu = daegu[['geometry', 'lat', 'lng', '고저차', '인구수', '건축물수', '주거용도면적', '건축물높이', '건축물연면적', '주차장수', '교육연구시설', '주거지', '농축산업시설', '창고시설',\n",
    "       '편의시설', '생산시설', '님비시설', '자동차관련시설', 'EV']]\n",
    "\n",
    "daejeon = geopandas.read_file('./dataset/전처리후/대전/merge_9.geojson', encoding='utf-8')\n",
    "daejeon = daejeon[['geometry', 'lat', 'lng', '고저차', '인구수', '건축물수', '주거용도면적', '건축물높이', '건축물연면적', '주차장수', '교육연구시설', '주거지', '농축산업시설', '창고시설',\n",
    "       '편의시설', '생산시설', '님비시설', '자동차관련시설', 'EV']]"
   ]
  },
  {
   "cell_type": "code",
   "execution_count": 46,
   "id": "818a9687",
   "metadata": {
    "scrolled": true
   },
   "outputs": [
    {
     "name": "stdout",
     "output_type": "stream",
     "text": [
      "세종시 데이터 수 : 47396\n",
      "세종시 인구수=0인 타일: 3391\n",
      "\n",
      "대전시 데이터 수 : 92051\n",
      "대전시 인구수=0인 타일: 12557\n",
      "\n",
      "대구시 데이터 수 : 134846\n",
      "대구시 인구수=0인 타일: 18830\n"
     ]
    }
   ],
   "source": [
    "# 인구수 = 0 & 충전소 = 0 인 타일 제거\n",
    "\n",
    "sejong_pp = sejong.drop(sejong[(sejong['인구수']==0) & (sejong['EV']==0)].index)\n",
    "daegu_pp = daegu.drop(daegu[(daegu['인구수']==0) & (daegu['EV']==0)].index)\n",
    "daejeon_pp = daejeon.drop(daejeon[(daejeon['인구수']==0) & (daejeon['EV']==0)].index)\n",
    "\n",
    "print('세종시 데이터 수 :', len(sejong))\n",
    "print('세종시 인구수=0인 타일:', len(sejong_pp), end='\\n\\n')\n",
    "\n",
    "print('대전시 데이터 수 :', len(daejeon))\n",
    "print('대전시 인구수=0인 타일:', len(daejeon_pp), end='\\n\\n')\n",
    "\n",
    "print('대구시 데이터 수 :', len(daegu))\n",
    "print('대구시 인구수=0인 타일:', len(daegu_pp))\n",
    "\n",
    "sejong_pp_idx = sejong_pp.index\n",
    "\n",
    "sejong_pp.reset_index(drop=True, inplace=True)\n",
    "daejeon_pp.reset_index(drop=True, inplace=True)\n",
    "daegu_pp.reset_index(drop=True, inplace=True)"
   ]
  },
  {
   "cell_type": "code",
   "execution_count": 47,
   "id": "1eae2d6e",
   "metadata": {
    "scrolled": false
   },
   "outputs": [],
   "source": [
    "# 정규화\n",
    "\n",
    "scaler = MinMaxScaler()\n",
    "sejong_pp_minmax = scaler.fit_transform(sejong_pp[['인구수', '건축물수', '주거용도면적', '건축물높이', '건축물연면적', '고저차']])\n",
    "sejong_pp_minmax = pd.DataFrame(sejong_pp_minmax, columns=['인구수', '건축물수', '주거용도면적', '건축물높이', '건축물연면적', '고저차'])\n",
    "sejong_pp[['인구수', '건축물수', '주거용도면적', '건축물높이', '건축물연면적', '고저차']] = sejong_pp_minmax\n",
    "\n",
    "daegu_pp_minmax = scaler.fit_transform(daegu_pp[['인구수', '건축물수', '주거용도면적', '건축물높이', '건축물연면적', '고저차']])\n",
    "daegu_pp_minmax = pd.DataFrame(daegu_pp_minmax, columns=['인구수', '건축물수', '주거용도면적', '건축물높이', '건축물연면적', '고저차'])\n",
    "daegu_pp[['인구수', '건축물수', '주거용도면적', '건축물높이', '건축물연면적', '고저차']] = daegu_pp_minmax\n",
    "\n",
    "daejeon_pp_minmax = scaler.fit_transform(daejeon_pp[['인구수', '건축물수', '주거용도면적', '건축물높이', '건축물연면적', '고저차']])\n",
    "daejeon_pp_minmax = pd.DataFrame(daejeon_pp_minmax, columns=['인구수', '건축물수', '주거용도면적', '건축물높이', '건축물연면적', '고저차'])\n",
    "daejeon_pp[['인구수', '건축물수', '주거용도면적', '건축물높이', '건축물연면적', '고저차']] = daejeon_pp_minmax"
   ]
  },
  {
   "cell_type": "code",
   "execution_count": 48,
   "id": "b8051067",
   "metadata": {},
   "outputs": [],
   "source": [
    "# 학습 / 검증 데이터 셋 분리\n",
    "\n",
    "train_data = pd.concat([daegu_pp[daegu_pp.columns[3:-1]], daejeon_pp[daejeon_pp.columns[3:-1]]])\n",
    "train_target = pd.concat([daegu_pp[daegu_pp.columns[-1]], daejeon_pp[daejeon_pp.columns[-1]]])\n",
    "\n",
    "test_data = sejong_pp[sejong_pp.columns[3:-1]]\n",
    "test_target = sejong_pp[sejong_pp.columns[-1]]\n",
    "\n",
    "test_data.set_index(sejong_pp_idx, inplace=True)"
   ]
  },
  {
   "cell_type": "code",
   "execution_count": 49,
   "id": "dace9770",
   "metadata": {},
   "outputs": [
    {
     "name": "stdout",
     "output_type": "stream",
     "text": [
      "\n",
      "best_params (test 성능이 가장 좋은 파라미터) :  n_estimators= 3 max_depth= 10 max_features= 3\n",
      "best_score (test F1 score): 0.9563550575051607\n",
      "\n"
     ]
    },
    {
     "data": {
      "image/png": "[encoded data removed]",
      "text/plain": [
       "<Figure size 1080x432 with 1 Axes>"
      ]
     },
     "metadata": {
      "needs_background": "light"
     },
     "output_type": "display_data"
    },
    {
     "name": "stdout",
     "output_type": "stream",
     "text": [
      "실제 충전소 수 : 276\n",
      "충전소가 있어야 한다고 분류한 타일 수 : 132\n",
      "recall score 실제 충전소가 맞는 지 맞춘 경우 : 128 / 276\n",
      "precision score 실제 충전소가 없는 곳을 맞춘 경우 : 47116 / 47120\n",
      "최적 입지 후보(실제론 없지만, 있어야 한다고 분류) : 4 / 47120\n"
     ]
    },
    {
     "data": {
      "image/png": "[encoded data removed]",
      "text/plain": [
       "<Figure size 432x288 with 1 Axes>"
      ]
     },
     "metadata": {
      "needs_background": "light"
     },
     "output_type": "display_data"
    },
    {
     "data": {
      "image/png": "[encoded data removed]",
      "text/plain": [
       "<Figure size 1080x1080 with 1 Axes>"
      ]
     },
     "metadata": {},
     "output_type": "display_data"
    }
   ],
   "source": [
    "dists = {\n",
    "    'max_depth' : [3,5,10,15,20,30,50,100],\n",
    "    'max_features' : [3,5,7,9,11,13,15], \n",
    "    'n_estimators' : [10,20,30,50,100,200]\n",
    "}\n",
    "\n",
    "clf, df = RandomForest(dists, train_data, train_target, test_data, test_target)"
   ]
  },
  {
   "cell_type": "markdown",
   "id": "61a77aed",
   "metadata": {},
   "source": [
    "### 언더샘플링"
   ]
  },
  {
   "cell_type": "code",
   "execution_count": 50,
   "id": "8fed10c6",
   "metadata": {},
   "outputs": [
    {
     "data": {
      "image/png": "[encoded data removed]",
      "text/plain": [
       "<Figure size 432x288 with 1 Axes>"
      ]
     },
     "metadata": {
      "needs_background": "light"
     },
     "output_type": "display_data"
    }
   ],
   "source": [
    "rus = RandomUnderSampler()\n",
    "train_data_ruc, train_target_ruc = rus.fit_resample(train_data, train_target)\n",
    "\n",
    "plt.bar([0, 1], train_target_ruc.value_counts())\n",
    "plt.xticks([0, 1], label=[0,1])\n",
    "plt.show()"
   ]
  },
  {
   "cell_type": "code",
   "execution_count": 51,
   "id": "5e6f688e",
   "metadata": {},
   "outputs": [
    {
     "name": "stdout",
     "output_type": "stream",
     "text": [
      "\n",
      "best_params (test 성능이 가장 좋은 파라미터) :  n_estimators= 3 max_depth= 10 max_features= 7\n",
      "best_score (test F1 score): 0.9563550575051607\n",
      "\n"
     ]
    },
    {
     "data": {
      "image/png": "[encoded data removed]",
      "text/plain": [
       "<Figure size 1080x432 with 1 Axes>"
      ]
     },
     "metadata": {
      "needs_background": "light"
     },
     "output_type": "display_data"
    },
    {
     "name": "stdout",
     "output_type": "stream",
     "text": [
      "실제 충전소 수 : 276\n",
      "충전소가 있어야 한다고 분류한 타일 수 : 322\n",
      "recall score 실제 충전소가 맞는 지 맞춘 경우 : 153 / 276\n",
      "precision score 실제 충전소가 없는 곳을 맞춘 경우 : 46951 / 47120\n",
      "최적 입지 후보(실제론 없지만, 있어야 한다고 분류) : 169 / 47120\n"
     ]
    },
    {
     "data": {
      "image/png": "[encoded data removed]",
      "text/plain": [
       "<Figure size 432x288 with 1 Axes>"
      ]
     },
     "metadata": {
      "needs_background": "light"
     },
     "output_type": "display_data"
    },
    {
     "data": {
      "image/png": "[encoded data removed]",
      "text/plain": [
       "<Figure size 1080x1080 with 1 Axes>"
      ]
     },
     "metadata": {},
     "output_type": "display_data"
    }
   ],
   "source": [
    "dists = {\n",
    "    'max_depth' : [3,5,10,15,20,30,50,100],\n",
    "    'max_features' : [3,5,7,9,11,13,15], \n",
    "    'n_estimators' : [10,20,30,50,100,200]\n",
    "}\n",
    "\n",
    "clf, df = RandomForest(dists, train_data, train_target, test_data, test_target)"
   ]
  },
  {
   "cell_type": "markdown",
   "id": "e56b66fe",
   "metadata": {},
   "source": [
    "### 오버샘플링"
   ]
  },
  {
   "cell_type": "code",
   "execution_count": 52,
   "id": "4ce44b71",
   "metadata": {},
   "outputs": [
    {
     "data": {
      "image/png": "[encoded data removed]",
      "text/plain": [
       "<Figure size 432x288 with 1 Axes>"
      ]
     },
     "metadata": {
      "needs_background": "light"
     },
     "output_type": "display_data"
    }
   ],
   "source": [
    "ros = RandomOverSampler()\n",
    "train_data_roc, train_target_roc = ros.fit_resample(train_data, train_target)\n",
    "\n",
    "plt.bar([0, 1], train_target_roc.value_counts())\n",
    "plt.xticks([0, 1], label=[0,1])\n",
    "plt.show()"
   ]
  },
  {
   "cell_type": "code",
   "execution_count": 53,
   "id": "7860c4b5",
   "metadata": {},
   "outputs": [
    {
     "name": "stdout",
     "output_type": "stream",
     "text": [
      "\n",
      "best_params (test 성능이 가장 좋은 파라미터) :  n_estimators= 3 max_depth= 10 max_features= 5\n",
      "best_score (test F1 score): 0.956649955765261\n",
      "\n"
     ]
    },
    {
     "data": {
      "image/png": "[encoded data removed]",
      "text/plain": [
       "<Figure size 1080x432 with 1 Axes>"
      ]
     },
     "metadata": {
      "needs_background": "light"
     },
     "output_type": "display_data"
    },
    {
     "name": "stdout",
     "output_type": "stream",
     "text": [
      "실제 충전소 수 : 276\n",
      "충전소가 있어야 한다고 분류한 타일 수 : 131\n",
      "recall score 실제 충전소가 맞는 지 맞춘 경우 : 128 / 276\n",
      "precision score 실제 충전소가 없는 곳을 맞춘 경우 : 47117 / 47120\n",
      "최적 입지 후보(실제론 없지만, 있어야 한다고 분류) : 3 / 47120\n"
     ]
    },
    {
     "data": {
      "image/png": "[encoded data removed]",
      "text/plain": [
       "<Figure size 432x288 with 1 Axes>"
      ]
     },
     "metadata": {
      "needs_background": "light"
     },
     "output_type": "display_data"
    },
    {
     "data": {
      "image/png": "[encoded data removed]",
      "text/plain": [
       "<Figure size 1080x1080 with 1 Axes>"
      ]
     },
     "metadata": {},
     "output_type": "display_data"
    }
   ],
   "source": [
    "dists = {\n",
    "    'max_depth' : [3,5,10,15,20,30,50,100],\n",
    "    'max_features' : [3,5,7,9,11,13,15], \n",
    "    'n_estimators' : [10,20,30,50,100]\n",
    "}\n",
    "\n",
    "clf, df = RandomForest(dists, train_data, train_target, test_data, test_target)"
   ]
  },
  {
   "cell_type": "markdown",
   "id": "967d42cd",
   "metadata": {},
   "source": [
    "### 오버샘플링 (SMOTE)"
   ]
  },
  {
   "cell_type": "code",
   "execution_count": 54,
   "id": "3f0ba725",
   "metadata": {},
   "outputs": [
    {
     "data": {
      "image/png": "[encoded data removed]",
      "text/plain": [
       "<Figure size 432x288 with 1 Axes>"
      ]
     },
     "metadata": {
      "needs_background": "light"
     },
     "output_type": "display_data"
    }
   ],
   "source": [
    "ros = SMOTE()\n",
    "train_data_roc, train_target_roc = ros.fit_resample(train_data, train_target)\n",
    "\n",
    "plt.bar([0, 1], train_target_roc.value_counts())\n",
    "plt.xticks([0, 1], label=[0,1])\n",
    "plt.show()"
   ]
  },
  {
   "cell_type": "code",
   "execution_count": 55,
   "id": "129726eb",
   "metadata": {
    "scrolled": false
   },
   "outputs": [
    {
     "name": "stdout",
     "output_type": "stream",
     "text": [
      "\n",
      "best_params (test 성능이 가장 좋은 파라미터) :  n_estimators= 20 max_depth= 10 max_features= 15\n",
      "best_score (test F1 score): 0.956649955765261\n",
      "\n"
     ]
    },
    {
     "data": {
      "image/png": "[encoded data removed]",
      "text/plain": [
       "<Figure size 1080x432 with 1 Axes>"
      ]
     },
     "metadata": {
      "needs_background": "light"
     },
     "output_type": "display_data"
    },
    {
     "name": "stdout",
     "output_type": "stream",
     "text": [
      "실제 충전소 수 : 276\n",
      "충전소가 있어야 한다고 분류한 타일 수 : 134\n",
      "recall score 실제 충전소가 맞는 지 맞춘 경우 : 129 / 276\n",
      "precision score 실제 충전소가 없는 곳을 맞춘 경우 : 47115 / 47120\n",
      "최적 입지 후보(실제론 없지만, 있어야 한다고 분류) : 5 / 47120\n"
     ]
    },
    {
     "data": {
      "image/png": "[encoded data removed]",
      "text/plain": [
       "<Figure size 432x288 with 1 Axes>"
      ]
     },
     "metadata": {
      "needs_background": "light"
     },
     "output_type": "display_data"
    },
    {
     "data": {
      "image/png": "[encoded data removed]",
      "text/plain": [
       "<Figure size 1080x1080 with 1 Axes>"
      ]
     },
     "metadata": {},
     "output_type": "display_data"
    }
   ],
   "source": [
    "dists = {\n",
    "    'max_depth' : [3,5,10,15,20,30,50,100],\n",
    "    'max_features' : [3,5,7,9,11,13,15], \n",
    "    'n_estimators' : [10,20,30,50,100,200]\n",
    "}\n",
    "\n",
    "clf, df = RandomForest(dists, train_data, train_target, test_data, test_target)"
   ]
  },
  {
   "cell_type": "code",
   "execution_count": null,
   "id": "c1a5f04b",
   "metadata": {},
   "outputs": [],
   "source": []
  },
  {
   "cell_type": "markdown",
   "id": "9497d940",
   "metadata": {},
   "source": [
    "## class_weight 설정"
   ]
  },
  {
   "cell_type": "code",
   "execution_count": 57,
   "id": "9e206a11",
   "metadata": {},
   "outputs": [],
   "source": [
    "def RandomForest(dists, train_data, train_target, test_data, test_target):\n",
    "    \n",
    "    trainF1 = []\n",
    "    testF1 = []\n",
    "    sketch_trainF1 = []\n",
    "    sketch_testF1 = []\n",
    "    param = []\n",
    "    \n",
    "    for estimators in dists['max_depth']:\n",
    "        testf1indepth = []\n",
    "        trainf1indepth = []\n",
    "        for depth in dists['n_estimators']:\n",
    "            for features in dists['max_features']:\n",
    "                for cw in dists['class_weight']:\n",
    "                    clf = ensemble.RandomForestClassifier(n_estimators=estimators, max_depth=depth, max_features=features, class_weight=cw, n_jobs=4)\n",
    "                    clf.fit(train_data, train_target)\n",
    "                    Y_predTrain = clf.predict(train_data)\n",
    "                    Y_predTest = clf.predict(test_data)\n",
    "\n",
    "                    param.append([estimators, depth, features, cw])\n",
    "                    trainF1.append(f1_score(train_target, Y_predTrain, average='micro'))\n",
    "                    testF1.append(f1_score(test_target, Y_predTest, average='micro'))\n",
    "                    testf1indepth.append(f1_score(test_target, Y_predTest, average='micro'))\n",
    "                    trainf1indepth.append(f1_score(train_target, Y_predTrain, average='micro'))\n",
    "        \n",
    "        sketch_trainF1.append(max(trainf1indepth))\n",
    "        sketch_testF1.append(max(testf1indepth))\n",
    "                    \n",
    "    best_params = param[testF1.index(max(testF1))]\n",
    "    print()\n",
    "    print('best_params (test 성능이 가장 좋은 파라미터) : ', 'n_estimators=', best_params[0], 'max_depth=', best_params[1], 'max_features=', best_params[2], 'class_weight=', best_params[3])\n",
    "    print('best_score (test F1 score):', max(testF1))\n",
    "    print()\n",
    "\n",
    "    # F1 score 비교\n",
    "    plt.figure(figsize=(15, 6))\n",
    "    plt.plot(dists['max_depth'], sketch_trainF1, 'ro-', dists['max_depth'], sketch_testF1, 'bv--')\n",
    "    plt.legend(['Train F1', 'Test F1'])\n",
    "    plt.xlabel('estimators')\n",
    "    plt.ylabel('F1 score')\n",
    "    plt.show()\n",
    "    \n",
    "    # 최적의 파라미터를 입력해 모델을 생성\n",
    "    clf = ensemble.RandomForestClassifier(n_estimators=best_params[0], max_depth=best_params[1], max_features=best_params[2], class_weight=best_params[3], n_jobs=4)\n",
    "    clf.fit(train_data, train_target)\n",
    "    Y_predTest = clf.predict(test_data)\n",
    "    \n",
    "    # 지도 그리기\n",
    "    temp = sejong.copy()\n",
    "    temp['pred'] = [0]*len(temp)\n",
    "    for i, idx in enumerate(test_data.index):\n",
    "        temp['pred'][idx] = Y_predTest[i]\n",
    "    #temp['pred'] = pred\n",
    "        \n",
    "    print('실제 충전소 수 :', len(temp[temp['EV']==1]))\n",
    "    print('충전소가 있어야 한다고 분류한 타일 수 :', len(temp[temp['pred']==1]))\n",
    "    print('recall score 실제 충전소가 맞는 지 맞춘 경우 :', len(temp[(temp['pred']==1) & (temp['EV']==1)]), '/', len(temp[temp['EV']==1]))\n",
    "    print('precision score 실제 충전소가 없는 곳을 맞춘 경우 :', len(temp[(temp['pred']==0) & (temp['EV']==0)]), '/', len(temp[temp['EV']==0]))\n",
    "    print('최적 입지 후보(실제론 없지만, 있어야 한다고 분류) :', len(temp[(temp['pred']==1) & (temp['EV']==0)]), '/', len(temp[temp['EV']==0]))\n",
    "    \n",
    "    # feature inportance\n",
    "    importances = clf.feature_importances_\n",
    "    std = np.std([tree.feature_importances_ for tree in clf.estimators_], axis=0)\n",
    "    clf_importances = pd.Series(importances, index=test_data.columns)\n",
    "\n",
    "    fig, ax = plt.subplots()\n",
    "    clf_importances.plot.bar(yerr=std, ax=ax)\n",
    "    ax.set_title(\"Feature importances using MDI\")\n",
    "    ax.set_ylabel(\"Mean decrease in impurity\")\n",
    "    fig.tight_layout()\n",
    "    \n",
    "    idx = temp[(temp['EV'] == 0) & (temp['pred'] == 1)].index\n",
    "    for i in temp[temp['pred'] == 1].index:\n",
    "        temp['pred'].loc[i] = 0\n",
    "    for i in idx:\n",
    "        temp['pred'].loc[i] = 1\n",
    "\n",
    "    fig, ax1 = plt.subplots(figsize=(15, 15))\n",
    "    fig.set_facecolor('white')\n",
    "    sejong['geometry'].plot(ax=ax1, color='gainsboro')\n",
    "    sejong[sejong['EV']==1].plot(ax=ax1, column='EV', color='lime', aspect=1)\n",
    "    temp[temp['pred']==1].plot(ax=ax1, column='pred', color='red', aspect=1)\n",
    "    ax1.set_axis_off()\n",
    "    plt.show()\n",
    "    \n",
    "    return clf, temp"
   ]
  },
  {
   "cell_type": "code",
   "execution_count": 58,
   "id": "7e99099d",
   "metadata": {
    "scrolled": true
   },
   "outputs": [
    {
     "name": "stdout",
     "output_type": "stream",
     "text": [
      "\n",
      "best_params (test 성능이 가장 좋은 파라미터) :  n_estimators= 15 max_depth= 10 max_features= 15 class_weight= {0: 3, 1: 7}\n",
      "best_score (test F1 score): 0.956649955765261\n",
      "\n"
     ]
    },
    {
     "data": {
      "image/png": "[encoded data removed]",
      "text/plain": [
       "<Figure size 1080x432 with 1 Axes>"
      ]
     },
     "metadata": {
      "needs_background": "light"
     },
     "output_type": "display_data"
    },
    {
     "name": "stdout",
     "output_type": "stream",
     "text": [
      "실제 충전소 수 : 276\n",
      "충전소가 있어야 한다고 분류한 타일 수 : 136\n",
      "recall score 실제 충전소가 맞는 지 맞춘 경우 : 131 / 276\n",
      "precision score 실제 충전소가 없는 곳을 맞춘 경우 : 47115 / 47120\n",
      "최적 입지 후보(실제론 없지만, 있어야 한다고 분류) : 5 / 47120\n"
     ]
    },
    {
     "data": {
      "image/png": "[encoded data removed]",
      "text/plain": [
       "<Figure size 432x288 with 1 Axes>"
      ]
     },
     "metadata": {
      "needs_background": "light"
     },
     "output_type": "display_data"
    },
    {
     "data": {
      "image/png": "[encoded data removed]",
      "text/plain": [
       "<Figure size 1080x1080 with 1 Axes>"
      ]
     },
     "metadata": {},
     "output_type": "display_data"
    }
   ],
   "source": [
    "dists = {\n",
    "    'max_depth' : [3,5,10,15,20,30,50,100],\n",
    "    'max_features' : [3,5,7,9,11,13,15], \n",
    "    'n_estimators' : [10,20,30,50,100,200],\n",
    "    'class_weight' : [{0:3, 1:7}]\n",
    "}\n",
    "\n",
    "clf, df = RandomForest(dists, train_data, train_target, test_data, test_target)"
   ]
  },
  {
   "cell_type": "code",
   "execution_count": 56,
   "id": "6617e5b3",
   "metadata": {},
   "outputs": [],
   "source": [
    "### 가중치도 넣어서 해보자\n",
    "### 다른 모델도 써보자\n",
    "### 데이터도 늘려보자"
   ]
  },
  {
   "cell_type": "code",
   "execution_count": null,
   "id": "0eda6e42",
   "metadata": {},
   "outputs": [],
   "source": []
  },
  {
   "cell_type": "code",
   "execution_count": null,
   "id": "706e6922",
   "metadata": {},
   "outputs": [],
   "source": []
  },
  {
   "cell_type": "code",
   "execution_count": null,
   "id": "5e4a5ff9",
   "metadata": {},
   "outputs": [],
   "source": []
  },
  {
   "cell_type": "code",
   "execution_count": null,
   "id": "fcbf7804",
   "metadata": {},
   "outputs": [],
   "source": []
  },
  {
   "cell_type": "code",
   "execution_count": null,
   "id": "59a4df1a",
   "metadata": {},
   "outputs": [],
   "source": []
  },
  {
   "cell_type": "code",
   "execution_count": null,
   "id": "54a8b7cb",
   "metadata": {},
   "outputs": [],
   "source": []
  },
  {
   "cell_type": "code",
   "execution_count": null,
   "id": "226e3a51",
   "metadata": {},
   "outputs": [],
   "source": []
  },
  {
   "cell_type": "code",
   "execution_count": null,
   "id": "d36af151",
   "metadata": {},
   "outputs": [],
   "source": []
  },
  {
   "cell_type": "code",
   "execution_count": null,
   "id": "4b6fe2bb",
   "metadata": {},
   "outputs": [],
   "source": []
  },
  {
   "cell_type": "code",
   "execution_count": null,
   "id": "9ee2ac45",
   "metadata": {},
   "outputs": [],
   "source": []
  },
  {
   "cell_type": "code",
   "execution_count": null,
   "id": "a46b4e98",
   "metadata": {},
   "outputs": [],
   "source": []
  },
  {
   "cell_type": "code",
   "execution_count": null,
   "id": "9878a06f",
   "metadata": {},
   "outputs": [],
   "source": []
  },
  {
   "cell_type": "code",
   "execution_count": null,
   "id": "561782ef",
   "metadata": {},
   "outputs": [],
   "source": []
  },
  {
   "cell_type": "code",
   "execution_count": null,
   "id": "d624c1aa",
   "metadata": {},
   "outputs": [],
   "source": []
  },
  {
   "cell_type": "code",
   "execution_count": null,
   "id": "907ec288",
   "metadata": {},
   "outputs": [],
   "source": []
  },
  {
   "cell_type": "code",
   "execution_count": null,
   "id": "b4bd86d0",
   "metadata": {},
   "outputs": [],
   "source": []
  },
  {
   "cell_type": "code",
   "execution_count": 58,
   "id": "e0c9eb72",
   "metadata": {
    "scrolled": false
   },
   "outputs": [
    {
     "data": {
      "text/html": [
       "<div>\n",
       "<style scoped>\n",
       "    .dataframe tbody tr th:only-of-type {\n",
       "        vertical-align: middle;\n",
       "    }\n",
       "\n",
       "    .dataframe tbody tr th {\n",
       "        vertical-align: top;\n",
       "    }\n",
       "\n",
       "    .dataframe thead th {\n",
       "        text-align: right;\n",
       "    }\n",
       "</style>\n",
       "<table border=\"1\" class=\"dataframe\">\n",
       "  <thead>\n",
       "    <tr style=\"text-align: right;\">\n",
       "      <th></th>\n",
       "      <th>geometry</th>\n",
       "      <th>lat</th>\n",
       "      <th>lng</th>\n",
       "      <th>고저차</th>\n",
       "      <th>인구수</th>\n",
       "      <th>건축물수</th>\n",
       "      <th>주거용도면적</th>\n",
       "      <th>건축물높이</th>\n",
       "      <th>건축물연면적</th>\n",
       "      <th>주차장수</th>\n",
       "      <th>교육연구시설</th>\n",
       "      <th>주거지</th>\n",
       "      <th>농축산업시설</th>\n",
       "      <th>창고시설</th>\n",
       "      <th>편의시설</th>\n",
       "      <th>생산시설</th>\n",
       "      <th>님비시설</th>\n",
       "      <th>자동차관련시설</th>\n",
       "      <th>EV</th>\n",
       "      <th>pred</th>\n",
       "    </tr>\n",
       "  </thead>\n",
       "  <tbody>\n",
       "    <tr>\n",
       "      <th>55</th>\n",
       "      <td>POLYGON ((980100.00000 1829500.00000, 980100.0...</td>\n",
       "      <td>36.463804</td>\n",
       "      <td>127.276783</td>\n",
       "      <td>24.915</td>\n",
       "      <td>334</td>\n",
       "      <td>2</td>\n",
       "      <td>0.00</td>\n",
       "      <td>26.23</td>\n",
       "      <td>8475.39</td>\n",
       "      <td>0</td>\n",
       "      <td>0</td>\n",
       "      <td>0</td>\n",
       "      <td>0</td>\n",
       "      <td>0</td>\n",
       "      <td>0</td>\n",
       "      <td>0</td>\n",
       "      <td>0</td>\n",
       "      <td>0</td>\n",
       "      <td>0</td>\n",
       "      <td>1</td>\n",
       "    </tr>\n",
       "    <tr>\n",
       "      <th>269</th>\n",
       "      <td>POLYGON ((984500.00000 1840000.00000, 984500.0...</td>\n",
       "      <td>36.558132</td>\n",
       "      <td>127.325567</td>\n",
       "      <td>24.937</td>\n",
       "      <td>9</td>\n",
       "      <td>7</td>\n",
       "      <td>70.07</td>\n",
       "      <td>5.00</td>\n",
       "      <td>90.88</td>\n",
       "      <td>1</td>\n",
       "      <td>0</td>\n",
       "      <td>0</td>\n",
       "      <td>0</td>\n",
       "      <td>0</td>\n",
       "      <td>0</td>\n",
       "      <td>0</td>\n",
       "      <td>0</td>\n",
       "      <td>0</td>\n",
       "      <td>0</td>\n",
       "      <td>1</td>\n",
       "    </tr>\n",
       "    <tr>\n",
       "      <th>328</th>\n",
       "      <td>POLYGON ((980900.00000 1830900.00000, 980900.0...</td>\n",
       "      <td>36.476381</td>\n",
       "      <td>127.285652</td>\n",
       "      <td>24.920</td>\n",
       "      <td>246</td>\n",
       "      <td>2</td>\n",
       "      <td>0.00</td>\n",
       "      <td>42.85</td>\n",
       "      <td>4899.98</td>\n",
       "      <td>0</td>\n",
       "      <td>0</td>\n",
       "      <td>0</td>\n",
       "      <td>0</td>\n",
       "      <td>0</td>\n",
       "      <td>0</td>\n",
       "      <td>0</td>\n",
       "      <td>0</td>\n",
       "      <td>0</td>\n",
       "      <td>0</td>\n",
       "      <td>1</td>\n",
       "    </tr>\n",
       "    <tr>\n",
       "      <th>434</th>\n",
       "      <td>POLYGON ((976800.00000 1834000.00000, 976800.0...</td>\n",
       "      <td>36.504231</td>\n",
       "      <td>127.240195</td>\n",
       "      <td>24.801</td>\n",
       "      <td>166</td>\n",
       "      <td>1</td>\n",
       "      <td>0.00</td>\n",
       "      <td>34.80</td>\n",
       "      <td>6652.28</td>\n",
       "      <td>0</td>\n",
       "      <td>0</td>\n",
       "      <td>0</td>\n",
       "      <td>0</td>\n",
       "      <td>0</td>\n",
       "      <td>0</td>\n",
       "      <td>0</td>\n",
       "      <td>0</td>\n",
       "      <td>0</td>\n",
       "      <td>0</td>\n",
       "      <td>1</td>\n",
       "    </tr>\n",
       "    <tr>\n",
       "      <th>529</th>\n",
       "      <td>POLYGON ((975600.00000 1835000.00000, 975600.0...</td>\n",
       "      <td>36.513214</td>\n",
       "      <td>127.226890</td>\n",
       "      <td>24.769</td>\n",
       "      <td>177</td>\n",
       "      <td>1</td>\n",
       "      <td>0.00</td>\n",
       "      <td>43.75</td>\n",
       "      <td>7208.54</td>\n",
       "      <td>0</td>\n",
       "      <td>0</td>\n",
       "      <td>0</td>\n",
       "      <td>0</td>\n",
       "      <td>0</td>\n",
       "      <td>0</td>\n",
       "      <td>0</td>\n",
       "      <td>0</td>\n",
       "      <td>0</td>\n",
       "      <td>0</td>\n",
       "      <td>1</td>\n",
       "    </tr>\n",
       "    <tr>\n",
       "      <th>652</th>\n",
       "      <td>POLYGON ((971800.00000 1853700.00000, 971800.0...</td>\n",
       "      <td>36.681208</td>\n",
       "      <td>127.184758</td>\n",
       "      <td>24.587</td>\n",
       "      <td>36</td>\n",
       "      <td>1</td>\n",
       "      <td>0.00</td>\n",
       "      <td>15.50</td>\n",
       "      <td>1800.15</td>\n",
       "      <td>0</td>\n",
       "      <td>0</td>\n",
       "      <td>0</td>\n",
       "      <td>0</td>\n",
       "      <td>0</td>\n",
       "      <td>0</td>\n",
       "      <td>0</td>\n",
       "      <td>0</td>\n",
       "      <td>0</td>\n",
       "      <td>0</td>\n",
       "      <td>1</td>\n",
       "    </tr>\n",
       "    <tr>\n",
       "      <th>998</th>\n",
       "      <td>POLYGON ((981300.00000 1830800.00000, 981300.0...</td>\n",
       "      <td>36.475483</td>\n",
       "      <td>127.290087</td>\n",
       "      <td>24.932</td>\n",
       "      <td>288</td>\n",
       "      <td>2</td>\n",
       "      <td>0.00</td>\n",
       "      <td>35.70</td>\n",
       "      <td>5669.32</td>\n",
       "      <td>0</td>\n",
       "      <td>0</td>\n",
       "      <td>0</td>\n",
       "      <td>0</td>\n",
       "      <td>0</td>\n",
       "      <td>0</td>\n",
       "      <td>0</td>\n",
       "      <td>0</td>\n",
       "      <td>0</td>\n",
       "      <td>0</td>\n",
       "      <td>1</td>\n",
       "    </tr>\n",
       "    <tr>\n",
       "      <th>1081</th>\n",
       "      <td>POLYGON ((982300.00000 1831400.00000, 982300.0...</td>\n",
       "      <td>36.480873</td>\n",
       "      <td>127.301175</td>\n",
       "      <td>24.952</td>\n",
       "      <td>209</td>\n",
       "      <td>1</td>\n",
       "      <td>0.00</td>\n",
       "      <td>51.86</td>\n",
       "      <td>7872.93</td>\n",
       "      <td>0</td>\n",
       "      <td>0</td>\n",
       "      <td>0</td>\n",
       "      <td>0</td>\n",
       "      <td>0</td>\n",
       "      <td>0</td>\n",
       "      <td>0</td>\n",
       "      <td>0</td>\n",
       "      <td>0</td>\n",
       "      <td>0</td>\n",
       "      <td>1</td>\n",
       "    </tr>\n",
       "    <tr>\n",
       "      <th>1397</th>\n",
       "      <td>POLYGON ((977100.00000 1834000.00000, 977100.0...</td>\n",
       "      <td>36.504231</td>\n",
       "      <td>127.243521</td>\n",
       "      <td>24.807</td>\n",
       "      <td>159</td>\n",
       "      <td>1</td>\n",
       "      <td>0.00</td>\n",
       "      <td>34.80</td>\n",
       "      <td>6652.28</td>\n",
       "      <td>0</td>\n",
       "      <td>0</td>\n",
       "      <td>0</td>\n",
       "      <td>0</td>\n",
       "      <td>0</td>\n",
       "      <td>0</td>\n",
       "      <td>0</td>\n",
       "      <td>0</td>\n",
       "      <td>0</td>\n",
       "      <td>0</td>\n",
       "      <td>1</td>\n",
       "    </tr>\n",
       "    <tr>\n",
       "      <th>2062</th>\n",
       "      <td>POLYGON ((976600.00000 1834000.00000, 976600.0...</td>\n",
       "      <td>36.504231</td>\n",
       "      <td>127.237977</td>\n",
       "      <td>24.796</td>\n",
       "      <td>130</td>\n",
       "      <td>1</td>\n",
       "      <td>0.00</td>\n",
       "      <td>76.90</td>\n",
       "      <td>6462.33</td>\n",
       "      <td>0</td>\n",
       "      <td>0</td>\n",
       "      <td>0</td>\n",
       "      <td>0</td>\n",
       "      <td>0</td>\n",
       "      <td>0</td>\n",
       "      <td>0</td>\n",
       "      <td>0</td>\n",
       "      <td>0</td>\n",
       "      <td>0</td>\n",
       "      <td>1</td>\n",
       "    </tr>\n",
       "    <tr>\n",
       "      <th>2224</th>\n",
       "      <td>POLYGON ((971400.00000 1833800.00000, 971400.0...</td>\n",
       "      <td>36.502434</td>\n",
       "      <td>127.180323</td>\n",
       "      <td>24.675</td>\n",
       "      <td>11</td>\n",
       "      <td>1</td>\n",
       "      <td>0.00</td>\n",
       "      <td>9.60</td>\n",
       "      <td>1998.83</td>\n",
       "      <td>0</td>\n",
       "      <td>0</td>\n",
       "      <td>0</td>\n",
       "      <td>0</td>\n",
       "      <td>0</td>\n",
       "      <td>0</td>\n",
       "      <td>0</td>\n",
       "      <td>0</td>\n",
       "      <td>0</td>\n",
       "      <td>0</td>\n",
       "      <td>1</td>\n",
       "    </tr>\n",
       "    <tr>\n",
       "      <th>2251</th>\n",
       "      <td>POLYGON ((981600.00000 1831600.00000, 981600.0...</td>\n",
       "      <td>36.482670</td>\n",
       "      <td>127.293413</td>\n",
       "      <td>24.930</td>\n",
       "      <td>364</td>\n",
       "      <td>3</td>\n",
       "      <td>0.00</td>\n",
       "      <td>48.57</td>\n",
       "      <td>5052.00</td>\n",
       "      <td>0</td>\n",
       "      <td>0</td>\n",
       "      <td>0</td>\n",
       "      <td>0</td>\n",
       "      <td>0</td>\n",
       "      <td>0</td>\n",
       "      <td>0</td>\n",
       "      <td>0</td>\n",
       "      <td>0</td>\n",
       "      <td>0</td>\n",
       "      <td>1</td>\n",
       "    </tr>\n",
       "    <tr>\n",
       "      <th>2565</th>\n",
       "      <td>POLYGON ((982400.00000 1844900.00000, 982400.0...</td>\n",
       "      <td>36.602152</td>\n",
       "      <td>127.302283</td>\n",
       "      <td>24.861</td>\n",
       "      <td>75</td>\n",
       "      <td>32</td>\n",
       "      <td>92.61</td>\n",
       "      <td>7.72</td>\n",
       "      <td>140.52</td>\n",
       "      <td>1</td>\n",
       "      <td>0</td>\n",
       "      <td>0</td>\n",
       "      <td>0</td>\n",
       "      <td>0</td>\n",
       "      <td>0</td>\n",
       "      <td>0</td>\n",
       "      <td>0</td>\n",
       "      <td>0</td>\n",
       "      <td>0</td>\n",
       "      <td>1</td>\n",
       "    </tr>\n",
       "    <tr>\n",
       "      <th>2577</th>\n",
       "      <td>POLYGON ((982200.00000 1844600.00000, 982200.0...</td>\n",
       "      <td>36.599457</td>\n",
       "      <td>127.300066</td>\n",
       "      <td>24.857</td>\n",
       "      <td>77</td>\n",
       "      <td>32</td>\n",
       "      <td>135.15</td>\n",
       "      <td>8.17</td>\n",
       "      <td>168.07</td>\n",
       "      <td>4</td>\n",
       "      <td>0</td>\n",
       "      <td>0</td>\n",
       "      <td>0</td>\n",
       "      <td>0</td>\n",
       "      <td>0</td>\n",
       "      <td>0</td>\n",
       "      <td>0</td>\n",
       "      <td>0</td>\n",
       "      <td>0</td>\n",
       "      <td>1</td>\n",
       "    </tr>\n",
       "    <tr>\n",
       "      <th>2579</th>\n",
       "      <td>POLYGON ((980300.00000 1830700.00000, 980300.0...</td>\n",
       "      <td>36.474585</td>\n",
       "      <td>127.279000</td>\n",
       "      <td>24.908</td>\n",
       "      <td>259</td>\n",
       "      <td>2</td>\n",
       "      <td>0.00</td>\n",
       "      <td>44.43</td>\n",
       "      <td>5696.30</td>\n",
       "      <td>0</td>\n",
       "      <td>0</td>\n",
       "      <td>0</td>\n",
       "      <td>0</td>\n",
       "      <td>0</td>\n",
       "      <td>0</td>\n",
       "      <td>0</td>\n",
       "      <td>0</td>\n",
       "      <td>0</td>\n",
       "      <td>0</td>\n",
       "      <td>1</td>\n",
       "    </tr>\n",
       "    <tr>\n",
       "      <th>2633</th>\n",
       "      <td>POLYGON ((982400.00000 1831500.00000, 982400.0...</td>\n",
       "      <td>36.481772</td>\n",
       "      <td>127.302283</td>\n",
       "      <td>24.953</td>\n",
       "      <td>313</td>\n",
       "      <td>8</td>\n",
       "      <td>0.00</td>\n",
       "      <td>53.64</td>\n",
       "      <td>5373.69</td>\n",
       "      <td>0</td>\n",
       "      <td>0</td>\n",
       "      <td>0</td>\n",
       "      <td>0</td>\n",
       "      <td>0</td>\n",
       "      <td>0</td>\n",
       "      <td>0</td>\n",
       "      <td>0</td>\n",
       "      <td>0</td>\n",
       "      <td>0</td>\n",
       "      <td>1</td>\n",
       "    </tr>\n",
       "    <tr>\n",
       "      <th>2686</th>\n",
       "      <td>POLYGON ((983300.00000 1833600.00000, 983300.0...</td>\n",
       "      <td>36.500637</td>\n",
       "      <td>127.312262</td>\n",
       "      <td>24.962</td>\n",
       "      <td>201</td>\n",
       "      <td>1</td>\n",
       "      <td>0.00</td>\n",
       "      <td>58.55</td>\n",
       "      <td>7852.00</td>\n",
       "      <td>0</td>\n",
       "      <td>0</td>\n",
       "      <td>0</td>\n",
       "      <td>0</td>\n",
       "      <td>0</td>\n",
       "      <td>0</td>\n",
       "      <td>0</td>\n",
       "      <td>0</td>\n",
       "      <td>0</td>\n",
       "      <td>0</td>\n",
       "      <td>1</td>\n",
       "    </tr>\n",
       "    <tr>\n",
       "      <th>3338</th>\n",
       "      <td>POLYGON ((983200.00000 1833700.00000, 983200.0...</td>\n",
       "      <td>36.501536</td>\n",
       "      <td>127.311153</td>\n",
       "      <td>24.959</td>\n",
       "      <td>270</td>\n",
       "      <td>2</td>\n",
       "      <td>0.00</td>\n",
       "      <td>61.40</td>\n",
       "      <td>5829.49</td>\n",
       "      <td>0</td>\n",
       "      <td>0</td>\n",
       "      <td>0</td>\n",
       "      <td>0</td>\n",
       "      <td>0</td>\n",
       "      <td>0</td>\n",
       "      <td>0</td>\n",
       "      <td>0</td>\n",
       "      <td>0</td>\n",
       "      <td>0</td>\n",
       "      <td>1</td>\n",
       "    </tr>\n",
       "    <tr>\n",
       "      <th>4461</th>\n",
       "      <td>POLYGON ((976600.00000 1831300.00000, 976600.0...</td>\n",
       "      <td>36.479975</td>\n",
       "      <td>127.237977</td>\n",
       "      <td>24.823</td>\n",
       "      <td>10</td>\n",
       "      <td>0</td>\n",
       "      <td>0.00</td>\n",
       "      <td>0.00</td>\n",
       "      <td>0.00</td>\n",
       "      <td>0</td>\n",
       "      <td>0</td>\n",
       "      <td>0</td>\n",
       "      <td>0</td>\n",
       "      <td>0</td>\n",
       "      <td>0</td>\n",
       "      <td>0</td>\n",
       "      <td>0</td>\n",
       "      <td>0</td>\n",
       "      <td>0</td>\n",
       "      <td>1</td>\n",
       "    </tr>\n",
       "    <tr>\n",
       "      <th>4473</th>\n",
       "      <td>POLYGON ((978200.00000 1831800.00000, 978200.0...</td>\n",
       "      <td>36.484467</td>\n",
       "      <td>127.255717</td>\n",
       "      <td>24.850</td>\n",
       "      <td>381</td>\n",
       "      <td>3</td>\n",
       "      <td>0.00</td>\n",
       "      <td>56.20</td>\n",
       "      <td>5334.11</td>\n",
       "      <td>0</td>\n",
       "      <td>0</td>\n",
       "      <td>0</td>\n",
       "      <td>0</td>\n",
       "      <td>0</td>\n",
       "      <td>0</td>\n",
       "      <td>0</td>\n",
       "      <td>0</td>\n",
       "      <td>0</td>\n",
       "      <td>0</td>\n",
       "      <td>1</td>\n",
       "    </tr>\n",
       "    <tr>\n",
       "      <th>4669</th>\n",
       "      <td>POLYGON ((979400.00000 1836600.00000, 979400.0...</td>\n",
       "      <td>36.527588</td>\n",
       "      <td>127.269021</td>\n",
       "      <td>24.840</td>\n",
       "      <td>53</td>\n",
       "      <td>1</td>\n",
       "      <td>0.00</td>\n",
       "      <td>28.94</td>\n",
       "      <td>2123.48</td>\n",
       "      <td>0</td>\n",
       "      <td>0</td>\n",
       "      <td>0</td>\n",
       "      <td>0</td>\n",
       "      <td>0</td>\n",
       "      <td>0</td>\n",
       "      <td>0</td>\n",
       "      <td>0</td>\n",
       "      <td>0</td>\n",
       "      <td>0</td>\n",
       "      <td>1</td>\n",
       "    </tr>\n",
       "    <tr>\n",
       "      <th>4707</th>\n",
       "      <td>POLYGON ((972200.00000 1851500.00000, 972200.0...</td>\n",
       "      <td>36.661444</td>\n",
       "      <td>127.189193</td>\n",
       "      <td>24.623</td>\n",
       "      <td>6</td>\n",
       "      <td>0</td>\n",
       "      <td>0.00</td>\n",
       "      <td>0.00</td>\n",
       "      <td>0.00</td>\n",
       "      <td>0</td>\n",
       "      <td>0</td>\n",
       "      <td>0</td>\n",
       "      <td>0</td>\n",
       "      <td>0</td>\n",
       "      <td>0</td>\n",
       "      <td>0</td>\n",
       "      <td>0</td>\n",
       "      <td>0</td>\n",
       "      <td>0</td>\n",
       "      <td>1</td>\n",
       "    </tr>\n",
       "    <tr>\n",
       "      <th>4903</th>\n",
       "      <td>POLYGON ((979400.00000 1843400.00000, 979400.0...</td>\n",
       "      <td>36.588677</td>\n",
       "      <td>127.269021</td>\n",
       "      <td>24.801</td>\n",
       "      <td>6</td>\n",
       "      <td>0</td>\n",
       "      <td>0.00</td>\n",
       "      <td>0.00</td>\n",
       "      <td>0.00</td>\n",
       "      <td>0</td>\n",
       "      <td>0</td>\n",
       "      <td>0</td>\n",
       "      <td>0</td>\n",
       "      <td>0</td>\n",
       "      <td>0</td>\n",
       "      <td>0</td>\n",
       "      <td>0</td>\n",
       "      <td>0</td>\n",
       "      <td>0</td>\n",
       "      <td>1</td>\n",
       "    </tr>\n",
       "    <tr>\n",
       "      <th>5099</th>\n",
       "      <td>POLYGON ((982200.00000 1845000.00000, 982200.0...</td>\n",
       "      <td>36.603050</td>\n",
       "      <td>127.300066</td>\n",
       "      <td>24.857</td>\n",
       "      <td>100</td>\n",
       "      <td>32</td>\n",
       "      <td>121.20</td>\n",
       "      <td>7.89</td>\n",
       "      <td>152.01</td>\n",
       "      <td>1</td>\n",
       "      <td>0</td>\n",
       "      <td>0</td>\n",
       "      <td>0</td>\n",
       "      <td>0</td>\n",
       "      <td>0</td>\n",
       "      <td>0</td>\n",
       "      <td>0</td>\n",
       "      <td>0</td>\n",
       "      <td>0</td>\n",
       "      <td>1</td>\n",
       "    </tr>\n",
       "    <tr>\n",
       "      <th>5150</th>\n",
       "      <td>POLYGON ((982100.00000 1831600.00000, 982100.0...</td>\n",
       "      <td>36.482670</td>\n",
       "      <td>127.298957</td>\n",
       "      <td>24.944</td>\n",
       "      <td>308</td>\n",
       "      <td>2</td>\n",
       "      <td>0.00</td>\n",
       "      <td>37.50</td>\n",
       "      <td>5664.76</td>\n",
       "      <td>0</td>\n",
       "      <td>0</td>\n",
       "      <td>0</td>\n",
       "      <td>0</td>\n",
       "      <td>0</td>\n",
       "      <td>0</td>\n",
       "      <td>0</td>\n",
       "      <td>0</td>\n",
       "      <td>0</td>\n",
       "      <td>0</td>\n",
       "      <td>1</td>\n",
       "    </tr>\n",
       "    <tr>\n",
       "      <th>5793</th>\n",
       "      <td>POLYGON ((975700.00000 1835200.00000, 975700.0...</td>\n",
       "      <td>36.515011</td>\n",
       "      <td>127.227999</td>\n",
       "      <td>24.770</td>\n",
       "      <td>99</td>\n",
       "      <td>1</td>\n",
       "      <td>0.00</td>\n",
       "      <td>24.43</td>\n",
       "      <td>3043.61</td>\n",
       "      <td>0</td>\n",
       "      <td>0</td>\n",
       "      <td>0</td>\n",
       "      <td>0</td>\n",
       "      <td>0</td>\n",
       "      <td>0</td>\n",
       "      <td>0</td>\n",
       "      <td>0</td>\n",
       "      <td>0</td>\n",
       "      <td>0</td>\n",
       "      <td>1</td>\n",
       "    </tr>\n",
       "    <tr>\n",
       "      <th>6345</th>\n",
       "      <td>POLYGON ((981900.00000 1846100.00000, 981900.0...</td>\n",
       "      <td>36.612932</td>\n",
       "      <td>127.296740</td>\n",
       "      <td>24.850</td>\n",
       "      <td>13</td>\n",
       "      <td>1</td>\n",
       "      <td>0.00</td>\n",
       "      <td>0.00</td>\n",
       "      <td>15.48</td>\n",
       "      <td>0</td>\n",
       "      <td>0</td>\n",
       "      <td>6</td>\n",
       "      <td>0</td>\n",
       "      <td>0</td>\n",
       "      <td>0</td>\n",
       "      <td>0</td>\n",
       "      <td>0</td>\n",
       "      <td>0</td>\n",
       "      <td>0</td>\n",
       "      <td>1</td>\n",
       "    </tr>\n",
       "    <tr>\n",
       "      <th>6734</th>\n",
       "      <td>POLYGON ((982700.00000 1833400.00000, 982700.0...</td>\n",
       "      <td>36.498840</td>\n",
       "      <td>127.305609</td>\n",
       "      <td>24.945</td>\n",
       "      <td>335</td>\n",
       "      <td>3</td>\n",
       "      <td>0.00</td>\n",
       "      <td>69.55</td>\n",
       "      <td>5276.99</td>\n",
       "      <td>0</td>\n",
       "      <td>0</td>\n",
       "      <td>0</td>\n",
       "      <td>0</td>\n",
       "      <td>0</td>\n",
       "      <td>0</td>\n",
       "      <td>0</td>\n",
       "      <td>0</td>\n",
       "      <td>0</td>\n",
       "      <td>0</td>\n",
       "      <td>1</td>\n",
       "    </tr>\n",
       "  </tbody>\n",
       "</table>\n",
       "</div>"
      ],
      "text/plain": [
       "                                               geometry        lat  \\\n",
       "55    POLYGON ((980100.00000 1829500.00000, 980100.0...  36.463804   \n",
       "269   POLYGON ((984500.00000 1840000.00000, 984500.0...  36.558132   \n",
       "328   POLYGON ((980900.00000 1830900.00000, 980900.0...  36.476381   \n",
       "434   POLYGON ((976800.00000 1834000.00000, 976800.0...  36.504231   \n",
       "529   POLYGON ((975600.00000 1835000.00000, 975600.0...  36.513214   \n",
       "652   POLYGON ((971800.00000 1853700.00000, 971800.0...  36.681208   \n",
       "998   POLYGON ((981300.00000 1830800.00000, 981300.0...  36.475483   \n",
       "1081  POLYGON ((982300.00000 1831400.00000, 982300.0...  36.480873   \n",
       "1397  POLYGON ((977100.00000 1834000.00000, 977100.0...  36.504231   \n",
       "2062  POLYGON ((976600.00000 1834000.00000, 976600.0...  36.504231   \n",
       "2224  POLYGON ((971400.00000 1833800.00000, 971400.0...  36.502434   \n",
       "2251  POLYGON ((981600.00000 1831600.00000, 981600.0...  36.482670   \n",
       "2565  POLYGON ((982400.00000 1844900.00000, 982400.0...  36.602152   \n",
       "2577  POLYGON ((982200.00000 1844600.00000, 982200.0...  36.599457   \n",
       "2579  POLYGON ((980300.00000 1830700.00000, 980300.0...  36.474585   \n",
       "2633  POLYGON ((982400.00000 1831500.00000, 982400.0...  36.481772   \n",
       "2686  POLYGON ((983300.00000 1833600.00000, 983300.0...  36.500637   \n",
       "3338  POLYGON ((983200.00000 1833700.00000, 983200.0...  36.501536   \n",
       "4461  POLYGON ((976600.00000 1831300.00000, 976600.0...  36.479975   \n",
       "4473  POLYGON ((978200.00000 1831800.00000, 978200.0...  36.484467   \n",
       "4669  POLYGON ((979400.00000 1836600.00000, 979400.0...  36.527588   \n",
       "4707  POLYGON ((972200.00000 1851500.00000, 972200.0...  36.661444   \n",
       "4903  POLYGON ((979400.00000 1843400.00000, 979400.0...  36.588677   \n",
       "5099  POLYGON ((982200.00000 1845000.00000, 982200.0...  36.603050   \n",
       "5150  POLYGON ((982100.00000 1831600.00000, 982100.0...  36.482670   \n",
       "5793  POLYGON ((975700.00000 1835200.00000, 975700.0...  36.515011   \n",
       "6345  POLYGON ((981900.00000 1846100.00000, 981900.0...  36.612932   \n",
       "6734  POLYGON ((982700.00000 1833400.00000, 982700.0...  36.498840   \n",
       "\n",
       "             lng     고저차  인구수  건축물수  주거용도면적  건축물높이   건축물연면적  주차장수  교육연구시설  \\\n",
       "55    127.276783  24.915  334     2    0.00  26.23  8475.39     0       0   \n",
       "269   127.325567  24.937    9     7   70.07   5.00    90.88     1       0   \n",
       "328   127.285652  24.920  246     2    0.00  42.85  4899.98     0       0   \n",
       "434   127.240195  24.801  166     1    0.00  34.80  6652.28     0       0   \n",
       "529   127.226890  24.769  177     1    0.00  43.75  7208.54     0       0   \n",
       "652   127.184758  24.587   36     1    0.00  15.50  1800.15     0       0   \n",
       "998   127.290087  24.932  288     2    0.00  35.70  5669.32     0       0   \n",
       "1081  127.301175  24.952  209     1    0.00  51.86  7872.93     0       0   \n",
       "1397  127.243521  24.807  159     1    0.00  34.80  6652.28     0       0   \n",
       "2062  127.237977  24.796  130     1    0.00  76.90  6462.33     0       0   \n",
       "2224  127.180323  24.675   11     1    0.00   9.60  1998.83     0       0   \n",
       "2251  127.293413  24.930  364     3    0.00  48.57  5052.00     0       0   \n",
       "2565  127.302283  24.861   75    32   92.61   7.72   140.52     1       0   \n",
       "2577  127.300066  24.857   77    32  135.15   8.17   168.07     4       0   \n",
       "2579  127.279000  24.908  259     2    0.00  44.43  5696.30     0       0   \n",
       "2633  127.302283  24.953  313     8    0.00  53.64  5373.69     0       0   \n",
       "2686  127.312262  24.962  201     1    0.00  58.55  7852.00     0       0   \n",
       "3338  127.311153  24.959  270     2    0.00  61.40  5829.49     0       0   \n",
       "4461  127.237977  24.823   10     0    0.00   0.00     0.00     0       0   \n",
       "4473  127.255717  24.850  381     3    0.00  56.20  5334.11     0       0   \n",
       "4669  127.269021  24.840   53     1    0.00  28.94  2123.48     0       0   \n",
       "4707  127.189193  24.623    6     0    0.00   0.00     0.00     0       0   \n",
       "4903  127.269021  24.801    6     0    0.00   0.00     0.00     0       0   \n",
       "5099  127.300066  24.857  100    32  121.20   7.89   152.01     1       0   \n",
       "5150  127.298957  24.944  308     2    0.00  37.50  5664.76     0       0   \n",
       "5793  127.227999  24.770   99     1    0.00  24.43  3043.61     0       0   \n",
       "6345  127.296740  24.850   13     1    0.00   0.00    15.48     0       0   \n",
       "6734  127.305609  24.945  335     3    0.00  69.55  5276.99     0       0   \n",
       "\n",
       "      주거지  농축산업시설  창고시설  편의시설  생산시설  님비시설  자동차관련시설  EV  pred  \n",
       "55      0       0     0     0     0     0        0   0     1  \n",
       "269     0       0     0     0     0     0        0   0     1  \n",
       "328     0       0     0     0     0     0        0   0     1  \n",
       "434     0       0     0     0     0     0        0   0     1  \n",
       "529     0       0     0     0     0     0        0   0     1  \n",
       "652     0       0     0     0     0     0        0   0     1  \n",
       "998     0       0     0     0     0     0        0   0     1  \n",
       "1081    0       0     0     0     0     0        0   0     1  \n",
       "1397    0       0     0     0     0     0        0   0     1  \n",
       "2062    0       0     0     0     0     0        0   0     1  \n",
       "2224    0       0     0     0     0     0        0   0     1  \n",
       "2251    0       0     0     0     0     0        0   0     1  \n",
       "2565    0       0     0     0     0     0        0   0     1  \n",
       "2577    0       0     0     0     0     0        0   0     1  \n",
       "2579    0       0     0     0     0     0        0   0     1  \n",
       "2633    0       0     0     0     0     0        0   0     1  \n",
       "2686    0       0     0     0     0     0        0   0     1  \n",
       "3338    0       0     0     0     0     0        0   0     1  \n",
       "4461    0       0     0     0     0     0        0   0     1  \n",
       "4473    0       0     0     0     0     0        0   0     1  \n",
       "4669    0       0     0     0     0     0        0   0     1  \n",
       "4707    0       0     0     0     0     0        0   0     1  \n",
       "4903    0       0     0     0     0     0        0   0     1  \n",
       "5099    0       0     0     0     0     0        0   0     1  \n",
       "5150    0       0     0     0     0     0        0   0     1  \n",
       "5793    0       0     0     0     0     0        0   0     1  \n",
       "6345    6       0     0     0     0     0        0   0     1  \n",
       "6734    0       0     0     0     0     0        0   0     1  "
      ]
     },
     "execution_count": 58,
     "metadata": {},
     "output_type": "execute_result"
    }
   ],
   "source": [
    "df[(df['pred']==1) & (df['EV']==0)]"
   ]
  },
  {
   "cell_type": "code",
   "execution_count": null,
   "id": "ac940688",
   "metadata": {},
   "outputs": [],
   "source": [
    "예림님이 estimators 옵션만 건드려서 성능이 좋앗던데 그렇게도 해보자\n",
    "0 삭제 -> 정규화 -> class_weight\n",
    "정규화 -> 0 삭제 -> class_weight\n",
    "auroc, clustering"
   ]
  },
  {
   "cell_type": "code",
   "execution_count": null,
   "id": "29742976",
   "metadata": {},
   "outputs": [],
   "source": []
  },
  {
   "cell_type": "code",
   "execution_count": null,
   "id": "c50177c1",
   "metadata": {},
   "outputs": [],
   "source": [
    "xgb, light gbm, catboost, auroc"
   ]
  }
 ],
 "metadata": {
  "kernelspec": {
   "display_name": "Python 3 (ipykernel)",
   "language": "python",
   "name": "python3"
  },
  "language_info": {
   "codemirror_mode": {
    "name": "ipython",
    "version": 3
   },
   "file_extension": ".py",
   "mimetype": "text/x-python",
   "name": "python",
   "nbconvert_exporter": "python",
   "pygments_lexer": "ipython3",
   "version": "3.9.12"
  }
 },
 "nbformat": 4,
 "nbformat_minor": 5
}
