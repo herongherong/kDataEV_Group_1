{
 "cells": [
  {
   "cell_type": "code",
   "execution_count": 1,
   "id": "7198d37f",
   "metadata": {},
   "outputs": [],
   "source": [
    "import warnings\n",
    "warnings.filterwarnings('ignore')"
   ]
  },
  {
   "cell_type": "code",
   "execution_count": 2,
   "id": "ca00e640",
   "metadata": {},
   "outputs": [],
   "source": [
    "# 지도 데이터 분석 라이브러리\n",
    "import fiona\n",
    "import geopandas\n",
    "\n",
    "# 데이터 분석 라이브러리\n",
    "import pandas as pd\n",
    "import numpy as np\n",
    "import os\n",
    "\n",
    "# 데이터 시각화 라이브러리\n",
    "import matplotlib.pyplot as plt\n",
    "import matplotlib as mpl\n",
    "from matplotlib.pyplot import style\n",
    "import seaborn as sns\n",
    "import folium\n",
    "from folium.plugins import HeatMap\n",
    "\n",
    "# 머신러닝 라이브러리\n",
    "from sklearn.model_selection import train_test_split\n",
    "from sklearn.tree import DecisionTreeClassifier\n",
    "from sklearn.neighbors import KNeighborsClassifier\n",
    "from sklearn import ensemble\n",
    "from sklearn.model_selection import GridSearchCV\n",
    "from sklearn.model_selection import RandomizedSearchCV\n",
    "from sklearn.metrics import f1_score\n",
    "from sklearn.metrics import accuracy_score\n",
    "from sklearn.metrics import recall_score\n",
    "from sklearn.metrics import precision_score\n",
    "from sklearn.metrics import fbeta_score\n",
    "from sklearn.metrics import make_scorer"
   ]
  },
  {
   "cell_type": "code",
   "execution_count": 3,
   "id": "d97de700",
   "metadata": {},
   "outputs": [],
   "source": [
    "# matplotlib 한글 지원 폰트 설정\n",
    "plt.rc(\"font\", family=\"Malgun Gothic\")"
   ]
  },
  {
   "cell_type": "code",
   "execution_count": 4,
   "id": "018adcd2",
   "metadata": {},
   "outputs": [
    {
     "data": {
      "text/html": [
       "<div>\n",
       "<style scoped>\n",
       "    .dataframe tbody tr th:only-of-type {\n",
       "        vertical-align: middle;\n",
       "    }\n",
       "\n",
       "    .dataframe tbody tr th {\n",
       "        vertical-align: top;\n",
       "    }\n",
       "\n",
       "    .dataframe thead th {\n",
       "        text-align: right;\n",
       "    }\n",
       "</style>\n",
       "<table border=\"1\" class=\"dataframe\">\n",
       "  <thead>\n",
       "    <tr style=\"text-align: right;\">\n",
       "      <th></th>\n",
       "      <th>geometry</th>\n",
       "      <th>인구수</th>\n",
       "      <th>건축물수</th>\n",
       "      <th>주차장수</th>\n",
       "      <th>주유소</th>\n",
       "      <th>주차구획수</th>\n",
       "      <th>교통량</th>\n",
       "      <th>교육연구시설</th>\n",
       "      <th>주거지</th>\n",
       "      <th>농축산업시설</th>\n",
       "      <th>창고시설</th>\n",
       "      <th>편의시설</th>\n",
       "      <th>생산시설</th>\n",
       "      <th>님비시설</th>\n",
       "      <th>자동차관련시설</th>\n",
       "      <th>EV</th>\n",
       "    </tr>\n",
       "  </thead>\n",
       "  <tbody>\n",
       "    <tr>\n",
       "      <th>0</th>\n",
       "      <td>POLYGON ((977800.00000 1828600.00000, 977800.0...</td>\n",
       "      <td>0</td>\n",
       "      <td>1</td>\n",
       "      <td>0</td>\n",
       "      <td>0</td>\n",
       "      <td>0</td>\n",
       "      <td>0.0</td>\n",
       "      <td>0</td>\n",
       "      <td>0</td>\n",
       "      <td>0</td>\n",
       "      <td>0</td>\n",
       "      <td>0</td>\n",
       "      <td>0</td>\n",
       "      <td>0</td>\n",
       "      <td>0</td>\n",
       "      <td>0</td>\n",
       "    </tr>\n",
       "    <tr>\n",
       "      <th>1</th>\n",
       "      <td>POLYGON ((990100.00000 1837300.00000, 990100.0...</td>\n",
       "      <td>0</td>\n",
       "      <td>1</td>\n",
       "      <td>0</td>\n",
       "      <td>0</td>\n",
       "      <td>0</td>\n",
       "      <td>0.0</td>\n",
       "      <td>0</td>\n",
       "      <td>0</td>\n",
       "      <td>0</td>\n",
       "      <td>0</td>\n",
       "      <td>0</td>\n",
       "      <td>0</td>\n",
       "      <td>0</td>\n",
       "      <td>0</td>\n",
       "      <td>0</td>\n",
       "    </tr>\n",
       "    <tr>\n",
       "      <th>2</th>\n",
       "      <td>POLYGON ((980600.00000 1843000.00000, 980600.0...</td>\n",
       "      <td>27</td>\n",
       "      <td>4</td>\n",
       "      <td>0</td>\n",
       "      <td>0</td>\n",
       "      <td>0</td>\n",
       "      <td>0.0</td>\n",
       "      <td>0</td>\n",
       "      <td>0</td>\n",
       "      <td>0</td>\n",
       "      <td>0</td>\n",
       "      <td>0</td>\n",
       "      <td>0</td>\n",
       "      <td>0</td>\n",
       "      <td>0</td>\n",
       "      <td>0</td>\n",
       "    </tr>\n",
       "    <tr>\n",
       "      <th>3</th>\n",
       "      <td>POLYGON ((983800.00000 1830600.00000, 983800.0...</td>\n",
       "      <td>0</td>\n",
       "      <td>3</td>\n",
       "      <td>0</td>\n",
       "      <td>0</td>\n",
       "      <td>0</td>\n",
       "      <td>0.0</td>\n",
       "      <td>0</td>\n",
       "      <td>0</td>\n",
       "      <td>0</td>\n",
       "      <td>0</td>\n",
       "      <td>0</td>\n",
       "      <td>0</td>\n",
       "      <td>0</td>\n",
       "      <td>0</td>\n",
       "      <td>0</td>\n",
       "    </tr>\n",
       "    <tr>\n",
       "      <th>4</th>\n",
       "      <td>POLYGON ((969300.00000 1857700.00000, 969300.0...</td>\n",
       "      <td>27</td>\n",
       "      <td>20</td>\n",
       "      <td>0</td>\n",
       "      <td>0</td>\n",
       "      <td>0</td>\n",
       "      <td>0.0</td>\n",
       "      <td>0</td>\n",
       "      <td>0</td>\n",
       "      <td>0</td>\n",
       "      <td>0</td>\n",
       "      <td>0</td>\n",
       "      <td>0</td>\n",
       "      <td>0</td>\n",
       "      <td>0</td>\n",
       "      <td>0</td>\n",
       "    </tr>\n",
       "  </tbody>\n",
       "</table>\n",
       "</div>"
      ],
      "text/plain": [
       "                                            geometry  인구수  건축물수  주차장수  주유소  \\\n",
       "0  POLYGON ((977800.00000 1828600.00000, 977800.0...    0     1     0    0   \n",
       "1  POLYGON ((990100.00000 1837300.00000, 990100.0...    0     1     0    0   \n",
       "2  POLYGON ((980600.00000 1843000.00000, 980600.0...   27     4     0    0   \n",
       "3  POLYGON ((983800.00000 1830600.00000, 983800.0...    0     3     0    0   \n",
       "4  POLYGON ((969300.00000 1857700.00000, 969300.0...   27    20     0    0   \n",
       "\n",
       "   주차구획수  교통량  교육연구시설  주거지  농축산업시설  창고시설  편의시설  생산시설  님비시설  자동차관련시설  EV  \n",
       "0      0  0.0       0    0       0     0     0     0     0        0   0  \n",
       "1      0  0.0       0    0       0     0     0     0     0        0   0  \n",
       "2      0  0.0       0    0       0     0     0     0     0        0   0  \n",
       "3      0  0.0       0    0       0     0     0     0     0        0   0  \n",
       "4      0  0.0       0    0       0     0     0     0     0        0   0  "
      ]
     },
     "execution_count": 4,
     "metadata": {},
     "output_type": "execute_result"
    }
   ],
   "source": [
    "gdf = geopandas.read_file('./dataset/전처리후/merge_6.geojson', encoding='utf-8')\n",
    "gdf = gdf[['geometry', '인구수', '건축물수', '주차장수', '주유소', '주차구획수', '교통량', '교육연구시설', '주거지', '농축산업시설', '창고시설',\n",
    "       '편의시설', '생산시설', '님비시설', '자동차관련시설', 'EV']]\n",
    "\n",
    "gdf.head()"
   ]
  },
  {
   "cell_type": "markdown",
   "id": "d6731323",
   "metadata": {},
   "source": [
    "### data / target 분리"
   ]
  },
  {
   "cell_type": "code",
   "execution_count": 5,
   "id": "89f1da1f",
   "metadata": {},
   "outputs": [
    {
     "data": {
      "text/html": [
       "<div>\n",
       "<style scoped>\n",
       "    .dataframe tbody tr th:only-of-type {\n",
       "        vertical-align: middle;\n",
       "    }\n",
       "\n",
       "    .dataframe tbody tr th {\n",
       "        vertical-align: top;\n",
       "    }\n",
       "\n",
       "    .dataframe thead th {\n",
       "        text-align: right;\n",
       "    }\n",
       "</style>\n",
       "<table border=\"1\" class=\"dataframe\">\n",
       "  <thead>\n",
       "    <tr style=\"text-align: right;\">\n",
       "      <th></th>\n",
       "      <th>인구수</th>\n",
       "      <th>건축물수</th>\n",
       "      <th>주차장수</th>\n",
       "      <th>주유소</th>\n",
       "      <th>주차구획수</th>\n",
       "      <th>교통량</th>\n",
       "      <th>교육연구시설</th>\n",
       "      <th>주거지</th>\n",
       "      <th>농축산업시설</th>\n",
       "      <th>창고시설</th>\n",
       "      <th>편의시설</th>\n",
       "      <th>생산시설</th>\n",
       "      <th>님비시설</th>\n",
       "      <th>자동차관련시설</th>\n",
       "    </tr>\n",
       "  </thead>\n",
       "  <tbody>\n",
       "    <tr>\n",
       "      <th>0</th>\n",
       "      <td>0</td>\n",
       "      <td>1</td>\n",
       "      <td>0</td>\n",
       "      <td>0</td>\n",
       "      <td>0</td>\n",
       "      <td>0.0</td>\n",
       "      <td>0</td>\n",
       "      <td>0</td>\n",
       "      <td>0</td>\n",
       "      <td>0</td>\n",
       "      <td>0</td>\n",
       "      <td>0</td>\n",
       "      <td>0</td>\n",
       "      <td>0</td>\n",
       "    </tr>\n",
       "    <tr>\n",
       "      <th>1</th>\n",
       "      <td>0</td>\n",
       "      <td>1</td>\n",
       "      <td>0</td>\n",
       "      <td>0</td>\n",
       "      <td>0</td>\n",
       "      <td>0.0</td>\n",
       "      <td>0</td>\n",
       "      <td>0</td>\n",
       "      <td>0</td>\n",
       "      <td>0</td>\n",
       "      <td>0</td>\n",
       "      <td>0</td>\n",
       "      <td>0</td>\n",
       "      <td>0</td>\n",
       "    </tr>\n",
       "    <tr>\n",
       "      <th>2</th>\n",
       "      <td>27</td>\n",
       "      <td>4</td>\n",
       "      <td>0</td>\n",
       "      <td>0</td>\n",
       "      <td>0</td>\n",
       "      <td>0.0</td>\n",
       "      <td>0</td>\n",
       "      <td>0</td>\n",
       "      <td>0</td>\n",
       "      <td>0</td>\n",
       "      <td>0</td>\n",
       "      <td>0</td>\n",
       "      <td>0</td>\n",
       "      <td>0</td>\n",
       "    </tr>\n",
       "    <tr>\n",
       "      <th>3</th>\n",
       "      <td>0</td>\n",
       "      <td>3</td>\n",
       "      <td>0</td>\n",
       "      <td>0</td>\n",
       "      <td>0</td>\n",
       "      <td>0.0</td>\n",
       "      <td>0</td>\n",
       "      <td>0</td>\n",
       "      <td>0</td>\n",
       "      <td>0</td>\n",
       "      <td>0</td>\n",
       "      <td>0</td>\n",
       "      <td>0</td>\n",
       "      <td>0</td>\n",
       "    </tr>\n",
       "    <tr>\n",
       "      <th>4</th>\n",
       "      <td>27</td>\n",
       "      <td>20</td>\n",
       "      <td>0</td>\n",
       "      <td>0</td>\n",
       "      <td>0</td>\n",
       "      <td>0.0</td>\n",
       "      <td>0</td>\n",
       "      <td>0</td>\n",
       "      <td>0</td>\n",
       "      <td>0</td>\n",
       "      <td>0</td>\n",
       "      <td>0</td>\n",
       "      <td>0</td>\n",
       "      <td>0</td>\n",
       "    </tr>\n",
       "  </tbody>\n",
       "</table>\n",
       "</div>"
      ],
      "text/plain": [
       "   인구수  건축물수  주차장수  주유소  주차구획수  교통량  교육연구시설  주거지  농축산업시설  창고시설  편의시설  생산시설  \\\n",
       "0    0     1     0    0      0  0.0       0    0       0     0     0     0   \n",
       "1    0     1     0    0      0  0.0       0    0       0     0     0     0   \n",
       "2   27     4     0    0      0  0.0       0    0       0     0     0     0   \n",
       "3    0     3     0    0      0  0.0       0    0       0     0     0     0   \n",
       "4   27    20     0    0      0  0.0       0    0       0     0     0     0   \n",
       "\n",
       "   님비시설  자동차관련시설  \n",
       "0     0        0  \n",
       "1     0        0  \n",
       "2     0        0  \n",
       "3     0        0  \n",
       "4     0        0  "
      ]
     },
     "execution_count": 5,
     "metadata": {},
     "output_type": "execute_result"
    }
   ],
   "source": [
    "data = gdf[gdf.columns[1:-1]]\n",
    "data.head()"
   ]
  },
  {
   "cell_type": "code",
   "execution_count": 6,
   "id": "a33214d3",
   "metadata": {
    "scrolled": true
   },
   "outputs": [
    {
     "data": {
      "image/png": "[encoded data removed]",
      "text/plain": [
       "<Figure size 432x288 with 1 Axes>"
      ]
     },
     "metadata": {
      "needs_background": "light"
     },
     "output_type": "display_data"
    },
    {
     "name": "stdout",
     "output_type": "stream",
     "text": [
      "0    0.994177\n",
      "1    0.005823\n",
      "Name: EV, dtype: float64\n"
     ]
    }
   ],
   "source": [
    "target = gdf[gdf.columns[-1]]\n",
    "\n",
    "plt.bar(target.unique(), target.value_counts())\n",
    "plt.xticks([0, 1])\n",
    "plt.show()\n",
    "print(target.value_counts()/len(target))"
   ]
  },
  {
   "cell_type": "code",
   "execution_count": null,
   "id": "f629362d",
   "metadata": {},
   "outputs": [],
   "source": []
  },
  {
   "cell_type": "markdown",
   "id": "07f7950e",
   "metadata": {},
   "source": [
    "### 모델 비교"
   ]
  },
  {
   "cell_type": "markdown",
   "id": "cb27b676",
   "metadata": {},
   "source": [
    "### RandomForest (FBeta Scoring)\n",
    "\n",
    "#### precision에 지나치게 유리하기때문"
   ]
  },
  {
   "cell_type": "code",
   "execution_count": 66,
   "id": "5578c1d0",
   "metadata": {},
   "outputs": [
    {
     "name": "stdout",
     "output_type": "stream",
     "text": [
      "Fitting 5 folds for each of 100 candidates, totalling 500 fits\n",
      "best_params : {'n_estimators': 20, 'max_features': 5, 'max_depth': 50, 'class_weight': {0: 2, 1: 8}}\n",
      "best_score : 0.05254257445827215\n"
     ]
    }
   ],
   "source": [
    "fbeta = make_scorer(fbeta_score, beta=3)\n",
    "\n",
    "dists = {\n",
    "    'max_depth' : [3,5,10,15,20,30,50,100],\n",
    "    'max_features' : [1,3,5,10],\n",
    "    'n_estimators' : [10,20,30,50,70,100],\n",
    "    'class_weight' : [{0:2, 1:8}, {0:3, 1:7}, {0:4, 1:6}] # 1:9는 너무 편향이 심함\n",
    "}\n",
    "\n",
    "clf = GridSearchCV(\n",
    "    ensemble.RandomForestClassifier(),\n",
    "    param_distributions=dists, # 파라미터 입력\n",
    "    n_iter = 100,   # random search 탐색 횟수\n",
    "    scoring=fbeta,  # 오차 평가방법\n",
    "    verbose=1,     # 진행상황\n",
    "    n_jobs = 4\n",
    "  )\n",
    "\n",
    "clf.fit(data, target)\n",
    "\n",
    "print('best_params :', clf.best_params_)\n",
    "print('best_score :', clf.best_score_)"
   ]
  },
  {
   "cell_type": "code",
   "execution_count": 67,
   "id": "ce5fc294",
   "metadata": {},
   "outputs": [],
   "source": [
    "#### 가중치에 따라 최적 입지 후보군이 수천~수십개까지 바뀌는데, TP도 변동이 심하며, 과반을 넘기 어려움\n",
    "#### 아무래도 성장 중인 신도시인 세종시의 특성상, 과거 기준으로 지어진 충전소가 학습에 방해되는 듯함\n",
    "#### 최소한 모델이 다양한 피쳐를 활용하여 선정한만큼,\n",
    "#### 신뢰성은 있으며 적은 수의 최적입지후보를 선정한 모델의 성능이 더 높다고 가정하는 것이 좋을 듯 함"
   ]
  },
  {
   "cell_type": "code",
   "execution_count": 68,
   "id": "1cb52156",
   "metadata": {},
   "outputs": [
    {
     "name": "stdout",
     "output_type": "stream",
     "text": [
      "실제 충전소 수 : 276\n",
      "충전소가 있어야 한다고 분류한 타일 수 : 148\n",
      "recall score(True Positive) : 120 / 276\n",
      "최적 입지 후보 : 28 / 47120\n"
     ]
    }
   ],
   "source": [
    "pred = clf.predict(data)\n",
    "\n",
    "temp = gdf.copy()\n",
    "temp['pred'] = pred\n",
    "\n",
    "print('실제 충전소 수 :', len(target[target==1]))\n",
    "print('충전소가 있어야 한다고 분류한 타일 수 :', len(temp[temp['pred']==1]))\n",
    "print('recall score(True Positive) 실제 충전소가 맞는 지 맞춘 경우 :', len(temp[(temp['pred']==1) & (temp['EV']==1)]), '/', len(target[target==1]))\n",
    "print('최적 입지 후보 :', len(temp[(temp['pred']==1) & (temp['EV']==0)]), '/', len(temp[temp['EV']==0]))"
   ]
  },
  {
   "cell_type": "code",
   "execution_count": 69,
   "id": "e025409a",
   "metadata": {
    "scrolled": false
   },
   "outputs": [
    {
     "data": {
      "image/png": "[encoded data removed]",
      "text/plain": [
       "<Figure size 1080x1080 with 1 Axes>"
      ]
     },
     "metadata": {},
     "output_type": "display_data"
    }
   ],
   "source": [
    "idx = temp[(temp['EV'] == 0) & (temp['pred'] == 1)].index\n",
    "for i in temp[temp['pred'] == 1].index:\n",
    "    temp['pred'].loc[i] = 0\n",
    "for i in idx:\n",
    "    temp['pred'].loc[i] = 1\n",
    "\n",
    "fig, ax1 = plt.subplots(figsize=(15, 15))\n",
    "fig.set_facecolor('white') ## 캔버스 색상 설정\n",
    "\n",
    "gdf['geometry'].plot(ax=ax1, color='gainsboro')\n",
    "gdf[gdf['EV']==1].plot(ax=ax1, column='EV', color='lime', aspect=1)\n",
    "temp[temp['pred']==1].plot(ax=ax1, column='pred', color='red', aspect=1)\n",
    "ax1.set_axis_off()\n",
    "plt.show()"
   ]
  },
  {
   "cell_type": "code",
   "execution_count": null,
   "id": "4885412a",
   "metadata": {},
   "outputs": [],
   "source": []
  },
  {
   "cell_type": "code",
   "execution_count": null,
   "id": "bc833411",
   "metadata": {},
   "outputs": [],
   "source": []
  },
  {
   "cell_type": "code",
   "execution_count": null,
   "id": "54be07ee",
   "metadata": {},
   "outputs": [],
   "source": []
  },
  {
   "cell_type": "code",
   "execution_count": null,
   "id": "fe7567cd",
   "metadata": {},
   "outputs": [],
   "source": []
  },
  {
   "cell_type": "code",
   "execution_count": null,
   "id": "4ae3ac40",
   "metadata": {},
   "outputs": [],
   "source": []
  },
  {
   "cell_type": "code",
   "execution_count": null,
   "id": "2bc0ee76",
   "metadata": {},
   "outputs": [],
   "source": []
  },
  {
   "cell_type": "code",
   "execution_count": null,
   "id": "2d87f73d",
   "metadata": {},
   "outputs": [],
   "source": [
    "numNeighbors = list(range(1, 30))\n",
    "\n",
    "trainF1 = []\n",
    "testF1 = []\n",
    "for k in numNeighbors:\n",
    "    clf = KNeighborsClassifier(n_neighbors=k, metric='minkowski', p=2)\n",
    "    clf.fit(data_train, target_train)\n",
    "    Y_predTrain = clf.predict(data_train)\n",
    "    Y_predTest = clf.predict(data_test)\n",
    "    trainF1.append(f1_score(target_train, Y_predTrain, average='micro'))\n",
    "    testF1.append(f1_score(target_test, Y_predTest, average='micro'))\n",
    "plt.figure(figsize=(15, 6))\n",
    "plt.plot(numNeighbors, trainF1, 'ro-', numNeighbors, testF1, 'bv--')\n",
    "plt.legend(['Train F1', 'Test F1'])\n",
    "plt.xlabel('Number of neighbors')\n",
    "plt.ylabel('F1 score')\n",
    "plt.show()\n",
    "print(\"best testF1 :\", max(testF1))"
   ]
  },
  {
   "cell_type": "code",
   "execution_count": null,
   "id": "920893d0",
   "metadata": {},
   "outputs": [],
   "source": [
    "num_depth = list(range(1, 30))\n",
    "\n",
    "trainF1 = []\n",
    "testF1 = []\n",
    "for k in numNeighbors:\n",
    "    clf = DecisionTreeClassifier(max_depth=k)\n",
    "    clf.fit(data_train, target_train)\n",
    "    Y_predTrain = clf.predict(data_train)\n",
    "    Y_predTest = clf.predict(data_test)\n",
    "    trainF1.append(f1_score(target_train, Y_predTrain, average='micro'))\n",
    "    testF1.append(f1_score(target_test, Y_predTest, average='micro'))\n",
    "plt.figure(figsize=(15, 6))\n",
    "plt.plot(numNeighbors, trainF1, 'ro-', numNeighbors, testF1, 'bv--')\n",
    "plt.legend(['Train F1', 'Test F1'])\n",
    "plt.xlabel('Number of Max_depth')\n",
    "plt.ylabel('F1 score')\n",
    "plt.show()\n",
    "print(\"best testF1 :\", max(testF1))"
   ]
  },
  {
   "cell_type": "code",
   "execution_count": null,
   "id": "351925ea",
   "metadata": {},
   "outputs": [],
   "source": []
  },
  {
   "cell_type": "code",
   "execution_count": null,
   "id": "68f97119",
   "metadata": {},
   "outputs": [],
   "source": []
  },
  {
   "cell_type": "code",
   "execution_count": null,
   "id": "9772ac27",
   "metadata": {},
   "outputs": [],
   "source": []
  }
 ],
 "metadata": {
  "kernelspec": {
   "display_name": "Python 3 (ipykernel)",
   "language": "python",
   "name": "python3"
  },
  "language_info": {
   "codemirror_mode": {
    "name": "ipython",
    "version": 3
   },
   "file_extension": ".py",
   "mimetype": "text/x-python",
   "name": "python",
   "nbconvert_exporter": "python",
   "pygments_lexer": "ipython3",
   "version": "3.9.12"
  }
 },
 "nbformat": 4,
 "nbformat_minor": 5
}
