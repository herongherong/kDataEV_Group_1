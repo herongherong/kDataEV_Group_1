{
 "cells": [
  {
   "cell_type": "code",
   "execution_count": 1,
   "id": "3ac6b4cd",
   "metadata": {},
   "outputs": [],
   "source": [
    "import warnings\n",
    "warnings.filterwarnings('ignore')\n",
    "from IPython.display import clear_output\n",
    "\n",
    "import os\n",
    "import time\n",
    "\n",
    "# 지도 데이터 분석 라이브러리\n",
    "import fiona\n",
    "import geopandas\n",
    "\n",
    "# 데이터 분석 라|이브러리\n",
    "import pandas as pd\n",
    "import numpy as np\n",
    "\n",
    "# 데이터 시각화 라이브러리\n",
    "import matplotlib.pyplot as plt\n",
    "import matplotlib as mpl\n",
    "from matplotlib.pyplot import style\n",
    "import seaborn as sns\n",
    "import folium\n",
    "from folium.plugins import HeatMap\n",
    "\n",
    "# 데이터 분리\n",
    "from sklearn.model_selection import train_test_split\n",
    "\n",
    "# 데이터 스케일링\n",
    "from sklearn.preprocessing import MinMaxScaler\n",
    "\n",
    "# 데이터 샘플링\n",
    "from imblearn.under_sampling import RandomUnderSampler\n",
    "from imblearn.over_sampling import RandomOverSampler\n",
    "from imblearn.over_sampling import SMOTE\n",
    "\n",
    "# 머신러닝\n",
    "from sklearn.tree import DecisionTreeClassifier\n",
    "from sklearn.neighbors import KNeighborsClassifier\n",
    "import xgboost\n",
    "import catboost\n",
    "import lightgbm\n",
    "from catboost import CatBoostClassifier\n",
    "from xgboost import XGBClassifier\n",
    "from lightgbm import LGBMClassifier\n",
    "from sklearn import ensemble\n",
    "from sklearn.model_selection import GridSearchCV\n",
    "from sklearn.model_selection import RandomizedSearchCV\n",
    "import optuna\n",
    "from optuna.samplers import TPESampler\n",
    "\n",
    "# 모델 스코어링\n",
    "from sklearn.metrics import f1_score\n",
    "from sklearn.metrics import accuracy_score\n",
    "from sklearn.metrics import recall_score\n",
    "from sklearn.metrics import precision_score\n",
    "from sklearn.metrics import fbeta_score\n",
    "from sklearn.metrics import make_scorer"
   ]
  },
  {
   "cell_type": "code",
   "execution_count": 2,
   "id": "959dd6da",
   "metadata": {},
   "outputs": [],
   "source": [
    "# matplotlib 한글 지원 폰트 설정\n",
    "plt.rc(\"font\", family=\"Malgun Gothic\")"
   ]
  },
  {
   "cell_type": "code",
   "execution_count": 3,
   "id": "18406de2",
   "metadata": {},
   "outputs": [],
   "source": [
    "# 데이터 불러오기\n",
    "\n",
    "sejong = geopandas.read_file('./dataset/전처리후/세종/merge_11.geojson', encoding='utf-8')\n",
    "sejong = sejong[['geometry', 'lat', 'lng', '고저차', '인구수', '건축물수', '차량수', '주거용도면적', '건축물높이', '건축물연면적', '주차장수', '교육연구시설', '주거지', '농축산업시설', '창고시설',\n",
    "       '편의시설', '생산시설', '님비시설', '자동차관련시설', 'EV']]\n",
    "\n",
    "daegu = geopandas.read_file('./dataset/전처리후/대구/merge_11.geojson', encoding='utf-8')\n",
    "daegu = daegu[['geometry', 'lat', 'lng', '고저차', '인구수', '건축물수', '차량수', '주거용도면적', '건축물높이', '건축물연면적', '주차장수', '교육연구시설', '주거지', '농축산업시설', '창고시설',\n",
    "       '편의시설', '생산시설', '님비시설', '자동차관련시설', 'EV']]\n",
    "\n",
    "daejeon = geopandas.read_file('./dataset/전처리후/대전/merge_11.geojson', encoding='utf-8')\n",
    "daejeon = daejeon[['geometry', 'lat', 'lng', '고저차', '인구수', '건축물수', '차량수', '주거용도면적', '건축물높이', '건축물연면적', '주차장수', '교육연구시설', '주거지', '농축산업시설', '창고시설',\n",
    "       '편의시설', '생산시설', '님비시설', '자동차관련시설', 'EV']]"
   ]
  },
  {
   "cell_type": "code",
   "execution_count": 4,
   "id": "818a9687",
   "metadata": {
    "scrolled": true
   },
   "outputs": [
    {
     "name": "stdout",
     "output_type": "stream",
     "text": [
      "세종시 데이터 수 : 47396\n",
      "세종시 인구수=0, 충전소=0인 타일: 3391\n",
      "\n",
      "대전시 데이터 수 : 92051\n",
      "대전시 인구수=0인, 충전소=0인 타일: 12557\n",
      "\n",
      "대구시 데이터 수 : 134846\n",
      "대구시 인구수=0인, 충전소=0인 타일: 18830\n"
     ]
    }
   ],
   "source": [
    "# 인구수 = 0 & 충전소 = 0 인 타일 제거\n",
    "\n",
    "sejong_pp = sejong.drop(sejong[(sejong['인구수']==0) & (sejong['EV']==0)].index)\n",
    "daegu_pp = daegu.drop(daegu[(daegu['인구수']==0) & (daegu['EV']==0)].index)\n",
    "daejeon_pp = daejeon.drop(daejeon[(daejeon['인구수']==0) & (daejeon['EV']==0)].index)\n",
    "\n",
    "print('세종시 데이터 수 :', len(sejong))\n",
    "print('세종시 인구수=0, 충전소=0인 타일:', len(sejong_pp), end='\\n\\n')\n",
    "\n",
    "print('대전시 데이터 수 :', len(daejeon))\n",
    "print('대전시 인구수=0인, 충전소=0인 타일:', len(daejeon_pp), end='\\n\\n')\n",
    "\n",
    "print('대구시 데이터 수 :', len(daegu))\n",
    "print('대구시 인구수=0인, 충전소=0인 타일:', len(daegu_pp))\n",
    "\n",
    "sejong_pp_idx = sejong_pp.index\n",
    "\n",
    "sejong_pp.reset_index(drop=True, inplace=True)\n",
    "daejeon_pp.reset_index(drop=True, inplace=True)\n",
    "daegu_pp.reset_index(drop=True, inplace=True)"
   ]
  },
  {
   "cell_type": "code",
   "execution_count": 5,
   "id": "1eae2d6e",
   "metadata": {
    "scrolled": false
   },
   "outputs": [],
   "source": [
    "# 정규화\n",
    "\n",
    "scaler = MinMaxScaler()\n",
    "sejong_pp_minmax = scaler.fit_transform(sejong_pp[['인구수', '건축물수', '차량수', '주거용도면적', '건축물높이', '건축물연면적', '고저차']])\n",
    "sejong_pp_minmax = pd.DataFrame(sejong_pp_minmax, columns=['인구수', '건축물수', '차량수', '주거용도면적', '건축물높이', '건축물연면적', '고저차'])\n",
    "sejong_pp[['인구수', '건축물수', '차량수', '주거용도면적', '건축물높이', '건축물연면적', '고저차']] = sejong_pp_minmax\n",
    "\n",
    "daegu_pp_minmax = scaler.fit_transform(daegu_pp[['인구수', '건축물수', '차량수', '주거용도면적', '건축물높이', '건축물연면적', '고저차']])\n",
    "daegu_pp_minmax = pd.DataFrame(daegu_pp_minmax, columns=['인구수', '건축물수', '차량수', '주거용도면적', '건축물높이', '건축물연면적', '고저차'])\n",
    "daegu_pp[['인구수', '건축물수', '차량수', '주거용도면적', '건축물높이', '건축물연면적', '고저차']] = daegu_pp_minmax\n",
    "\n",
    "daejeon_pp_minmax = scaler.fit_transform(daejeon_pp[['인구수', '건축물수', '차량수', '주거용도면적', '건축물높이', '건축물연면적', '고저차']])\n",
    "daejeon_pp_minmax = pd.DataFrame(daejeon_pp_minmax, columns=['인구수', '건축물수', '차량수', '주거용도면적', '건축물높이', '건축물연면적', '고저차'])\n",
    "daejeon_pp[['인구수', '건축물수', '차량수', '주거용도면적', '건축물높이', '건축물연면적', '고저차']] = daejeon_pp_minmax"
   ]
  },
  {
   "cell_type": "code",
   "execution_count": 6,
   "id": "b8051067",
   "metadata": {},
   "outputs": [],
   "source": [
    "# 학습 / 검증 데이터 셋 분리\n",
    "\n",
    "train_data = pd.concat([daegu_pp[daegu_pp.columns[3:-1]], daejeon_pp[daejeon_pp.columns[3:-1]]])\n",
    "train_target = pd.concat([daegu_pp[daegu_pp.columns[-1]], daejeon_pp[daejeon_pp.columns[-1]]])\n",
    "\n",
    "test_data = sejong_pp[sejong_pp.columns[3:-1]]\n",
    "test_target = sejong_pp[sejong_pp.columns[-1]]\n",
    "\n",
    "test_data.set_index(sejong_pp_idx, inplace=True)"
   ]
  },
  {
   "cell_type": "code",
   "execution_count": 7,
   "id": "e26fce38",
   "metadata": {},
   "outputs": [],
   "source": [
    "### 랜덤언더샘플링\n",
    "rus = RandomUnderSampler()\n",
    "train_data_rus, train_target_rus = rus.fit_resample(train_data, train_target)\n",
    "\n",
    "### 랜덤오버샘플링\n",
    "ros = RandomOverSampler()\n",
    "train_data_ros, train_target_ros = ros.fit_resample(train_data, train_target)\n",
    "\n",
    "### 스모트오버샘플링\n",
    "smote = SMOTE()\n",
    "train_data_smote, train_target_smote = smote.fit_resample(train_data, train_target)"
   ]
  },
  {
   "cell_type": "markdown",
   "id": "20ca9f62",
   "metadata": {},
   "source": [
    "## 하이퍼파라미터 튜닝 ( Optuna )"
   ]
  },
  {
   "cell_type": "markdown",
   "id": "a5fe4f52",
   "metadata": {},
   "source": [
    "### RandomForest"
   ]
  },
  {
   "cell_type": "code",
   "execution_count": 27,
   "id": "2a6e6554",
   "metadata": {},
   "outputs": [],
   "source": [
    "def rf_optuna(train_data, train_target, test_data, test_target, threshold):\n",
    "    def rf_objective(trial):\n",
    "        \n",
    "        params = {\n",
    "                    'max_depth' : trial.suggest_int('max_depth', 1, 10),\n",
    "                    'max_leaf_nodes' : trial.suggest_int('max_leaf_nodes', 2, 1000),\n",
    "                    'n_estimators' : trial.suggest_int('n_estimators', 100, 500),\n",
    "                    \"n_jobs\": 4\n",
    "            }\n",
    "\n",
    "        clf = ensemble.RandomForestClassifier(**params, verbose=0)\n",
    "        clf.fit(train_data, train_target)\n",
    "        proba = clf.predict_proba(test_data)\n",
    "        preds = (proba[:,1] >= threshold).astype('int')\n",
    "        f1 = f1_score(test_target, preds)\n",
    "\n",
    "        return f1\n",
    "\n",
    "    study = optuna.create_study(direction='maximize')\n",
    "    study.optimize(rf_objective, n_trials=50, show_progress_bar=True)\n",
    "\n",
    "    print(\"Number of finished trials: \", len(study.trials))\n",
    "    print(\"Best trial:\")\n",
    "\n",
    "    trial = study.best_trial\n",
    "\n",
    "    print(\"  F1 : {}\".format(trial.value))\n",
    "    print(\"  Best hyperparameters: \")\n",
    "\n",
    "    for key, value in trial.params.items():\n",
    "        print(\"    {}: {}\".format(key, value))\n",
    "        \n",
    "    clf = ensemble.RandomForestClassifier(**study.best_params)\n",
    "    clf.fit(train_data, train_target)\n",
    "    preds = clf.predict(test_data)\n",
    "    \n",
    "    temp = sejong.copy()\n",
    "    temp['pred'] = [0]*len(temp)\n",
    "    for i, idx in enumerate(test_data.index):\n",
    "        temp['pred'][idx] = preds[i]\n",
    "    \n",
    "    temp = select_EV(temp)\n",
    "    f1 = f1_score(test_target, preds)\n",
    "    \n",
    "    return clf, temp, f1"
   ]
  },
  {
   "cell_type": "markdown",
   "id": "692346b2",
   "metadata": {},
   "source": [
    "### XGBoost"
   ]
  },
  {
   "cell_type": "code",
   "execution_count": 28,
   "id": "51cd796a",
   "metadata": {},
   "outputs": [],
   "source": [
    "def xgb_optuna(train_data, train_target, test_data, test_target, threshold):\n",
    "    def xgb_objective(trial):\n",
    "        params = {\n",
    "                #\"objective\": \"multiclass\",\n",
    "                #\"eval_metric\":'mlogloss',\n",
    "                \"booster\": 'gbtree',\n",
    "                #'tree_method':'gpu_hist', 'predictor':'gpu_predictor', 'gpu_id': 0, # GPU 사용시\n",
    "                \"tree_method\": 'exact', 'gpu_id': -1,  # CPU 사용시\n",
    "                \"n_jobs\": 4,\n",
    "                #\"verbosity\": 0,\n",
    "                \"max_depth\": trial.suggest_int(\"max_depth\", 4, 16),\n",
    "                \"learning_rate\": trial.suggest_uniform('learning_rate', 0.0001, 0.99),\n",
    "                'n_estimators': trial.suggest_int(\"n_estimators\", 1000, 10000, step=100),\n",
    "                \"colsample_bytree\": trial.suggest_float(\"colsample_bytree\", 0.5, 1.0),\n",
    "                \"colsample_bylevel\": trial.suggest_float(\"colsample_bylevel\", 0.5, 1.0),\n",
    "                \"colsample_bynode\": trial.suggest_float(\"colsample_bynode\", 0.5, 1.0),\n",
    "                \"reg_lambda\": trial.suggest_loguniform(\"reg_lambda\", 1e-2, 1),\n",
    "                \"reg_alpha\": trial.suggest_loguniform(\"reg_alpha\", 1e-2, 1),\n",
    "                #'subsample': trial.suggest_discrete_uniform('subsample', 0.6, 1.0, 0.05),     \n",
    "                'min_child_weight': trial.suggest_int('min_child_weight', 2, 15),\n",
    "                \"gamma\": trial.suggest_float(\"gamma\", 0.1, 1.0, log=True),\n",
    "                # 'num_parallel_tree': trial.suggest_int(\"num_parallel_tree\", 1, 500) 추가하면 느려짐.\n",
    "            }\n",
    "\n",
    "        clf = xgboost.XGBClassifier(**params)\n",
    "        clf.fit(train_data, train_target, verbose=0)\n",
    "        proba = clf.predict_proba(test_data)\n",
    "        preds = (proba[:,1] >= threshold).astype('int')\n",
    "        f1 = f1_score(test_target, preds)\n",
    "\n",
    "        return f1\n",
    "\n",
    "    study = optuna.create_study(direction='maximize')\n",
    "    study.optimize(xgb_objective, n_trials=50, n_jobs=4, show_progress_bar=True)\n",
    "\n",
    "    print(\"Number of finished trials: \", len(study.trials))\n",
    "    print(\"Best trial:\")\n",
    "\n",
    "    trial = study.best_trial\n",
    "\n",
    "    print(\"  F1 : {}\".format(trial.value))\n",
    "    print(\"  Best hyperparameters: \")\n",
    "\n",
    "    for key, value in trial.params.items():\n",
    "        print(\"    {}: {}\".format(key, value))\n",
    "        \n",
    "    clf = xgboost.XGBClassifier(**study.best_params)\n",
    "    clf.fit(train_data, train_target)\n",
    "    preds = clf.predict(test_data)\n",
    "    \n",
    "    temp = sejong.copy()\n",
    "    temp['pred'] = [0]*len(temp)\n",
    "    for i, idx in enumerate(test_data.index):\n",
    "        temp['pred'][idx] = preds[i]\n",
    "    \n",
    "    temp = select_EV(temp)\n",
    "    f1 = f1_score(test_target, preds)\n",
    "    \n",
    "    return clf, temp, f1"
   ]
  },
  {
   "cell_type": "markdown",
   "id": "7cb5345b",
   "metadata": {},
   "source": [
    "### LightGBM"
   ]
  },
  {
   "cell_type": "code",
   "execution_count": 29,
   "id": "eaa102ec",
   "metadata": {},
   "outputs": [],
   "source": [
    "def lgbm_optuna(train_data, train_target, test_data, test_target, threshold):\n",
    "    def lgbm_objective(trial):\n",
    "\n",
    "        params = {\n",
    "                #\"objective\": \"multiclass\",\n",
    "                #\"eval_metric\":'mlogloss',\n",
    "                \"booster\": 'gbtree',\n",
    "                #'tree_method':'gpu_hist', 'predictor':'gpu_predictor', 'gpu_id': 0, # GPU 사용시\n",
    "                \"tree_method\": 'exact', 'gpu_id': -1,  # CPU 사용시\n",
    "                \"n_jobs\": 4,\n",
    "                #\"verbosity\": 0,\n",
    "                \"max_depth\": trial.suggest_int(\"max_depth\", 4, 16),\n",
    "                \"learning_rate\": trial.suggest_uniform('learning_rate', 0.0001, 0.99),\n",
    "                'n_estimators': trial.suggest_int(\"n_estimators\", 1000, 10000, step=100),\n",
    "                \"colsample_bytree\": trial.suggest_float(\"colsample_bytree\", 0.5, 1.0),\n",
    "                \"colsample_bylevel\": trial.suggest_float(\"colsample_bylevel\", 0.5, 1.0),\n",
    "                \"colsample_bynode\": trial.suggest_float(\"colsample_bynode\", 0.5, 1.0),\n",
    "                \"reg_lambda\": trial.suggest_loguniform(\"reg_lambda\", 1e-2, 1),\n",
    "                \"reg_alpha\": trial.suggest_loguniform(\"reg_alpha\", 1e-2, 1),\n",
    "                #'subsample': trial.suggest_discrete_uniform('subsample', 0.6, 1.0, 0.05),     \n",
    "                'min_child_weight': trial.suggest_int('min_child_weight', 2, 15),\n",
    "                \"gamma\": trial.suggest_float(\"gamma\", 0.1, 1.0, log=True),\n",
    "                # 'num_parallel_tree': trial.suggest_int(\"num_parallel_tree\", 1, 500) 추가하면 느려짐.\n",
    "            }\n",
    "\n",
    "        clf = lightgbm.LGBMClassifier(**params)\n",
    "        clf.fit(train_data, train_target, verbose=0)\n",
    "        proba = clf.predict_proba(test_data)\n",
    "        preds = (proba[:,1] >= threshold).astype('int')\n",
    "        f1 = f1_score(test_target, preds)\n",
    "\n",
    "        return f1\n",
    "\n",
    "    study = optuna.create_study(direction='maximize')\n",
    "    study.optimize(lgbm_objective, n_trials=50, n_jobs=4, show_progress_bar=True)\n",
    "\n",
    "    print(\"Number of finished trials: \", len(study.trials))\n",
    "    print(\"Best trial:\")\n",
    "\n",
    "    trial = study.best_trial\n",
    "\n",
    "    print(\"  F1 : {}\".format(trial.value))\n",
    "    print(\"  Best hyperparameters: \")\n",
    "\n",
    "    for key, value in trial.params.items():\n",
    "        print(\"    {}: {}\".format(key, value))\n",
    "        \n",
    "    clf = lightgbm.LGBMClassifier(**study.best_params)\n",
    "    clf.fit(train_data, train_target)\n",
    "    preds = clf.predict(test_data)\n",
    "    \n",
    "    temp = sejong.copy()\n",
    "    temp['pred'] = [0]*len(temp)\n",
    "    for i, idx in enumerate(test_data.index):\n",
    "        temp['pred'][idx] = preds[i]\n",
    "    \n",
    "    temp = select_EV(temp)\n",
    "    f1 = f1_score(test_target, preds)\n",
    "    \n",
    "    return clf, temp, f1"
   ]
  },
  {
   "cell_type": "markdown",
   "id": "42589384",
   "metadata": {},
   "source": [
    "### CatBoost"
   ]
  },
  {
   "cell_type": "code",
   "execution_count": 30,
   "id": "0edc4429",
   "metadata": {},
   "outputs": [],
   "source": [
    "def catb_optuna(train_data, train_target, test_data, test_target, threshold):\n",
    "    def catb_objective(trial):\n",
    "\n",
    "        params = {\n",
    "        #\"objective\": trial.suggest_categorical(\"objective\", [\"Logloss\", \"CrossEntropy\"]),\n",
    "        \"colsample_bylevel\": trial.suggest_float(\"colsample_bylevel\", 0.01, 0.1),\n",
    "        \"depth\": trial.suggest_int(\"depth\", 1, 12),\n",
    "        \"boosting_type\": trial.suggest_categorical(\"boosting_type\", [\"Ordered\", \"Plain\"]),\n",
    "        \"bootstrap_type\": trial.suggest_categorical(\n",
    "            \"bootstrap_type\", [\"Bayesian\", \"Bernoulli\", \"MVS\"]\n",
    "        ),\n",
    "        \"used_ram_limit\": \"3gb\",\n",
    "        \"n_jobs\": 4,\n",
    "        }\n",
    "\n",
    "\n",
    "        clf = catboost.CatBoostClassifier(**params)\n",
    "        clf.fit(train_data, train_target, verbose=0, early_stopping_rounds=100)\n",
    "        proba = clf.predict_proba(test_data)\n",
    "        preds = (proba[:,1] >= threshold).astype('int')\n",
    "        f1 = f1_score(test_target, preds)\n",
    "\n",
    "        return f1\n",
    "\n",
    "    study = optuna.create_study(direction='maximize')\n",
    "    study.optimize(catb_objective, n_trials=50, n_jobs=4, show_progress_bar=True)\n",
    "\n",
    "    print(\"Number of finished trials: \", len(study.trials))\n",
    "    print(\"Best trial:\")\n",
    "\n",
    "    trial = study.best_trial\n",
    "\n",
    "    print(\"  F1 : {}\".format(trial.value))\n",
    "    print(\"  Best hyperparameters: \")\n",
    "\n",
    "    for key, value in trial.params.items():\n",
    "        print(\"    {}: {}\".format(key, value))\n",
    "        \n",
    "    clf = catboost.CatBoostClassifier(**study.best_params)\n",
    "    clf.fit(train_data, train_target)\n",
    "    preds = clf.predict(test_data)\n",
    "    \n",
    "    temp = sejong.copy()\n",
    "    temp['pred'] = [0]*len(temp)\n",
    "    for i, idx in enumerate(test_data.index):\n",
    "        temp['pred'][idx] = preds[i]\n",
    "    \n",
    "    temp = select_EV(temp)\n",
    "    f1 = f1_score(test_target, preds)\n",
    "    \n",
    "    return clf, temp, f1"
   ]
  },
  {
   "cell_type": "markdown",
   "id": "d680e80f",
   "metadata": {},
   "source": [
    "## feature_importance"
   ]
  },
  {
   "cell_type": "code",
   "execution_count": 12,
   "id": "10dd1c0c",
   "metadata": {},
   "outputs": [],
   "source": [
    "def feature_importance(clf):\n",
    "    feature_importance = clf.feature_importances_\n",
    "    sorted_idx = np.argsort(feature_importance)\n",
    "    fig = plt.figure(figsize=(12, 6))\n",
    "    plt.barh(range(len(sorted_idx)), feature_importance[sorted_idx], align='center')\n",
    "    plt.yticks(range(len(sorted_idx)), np.array(test_data.columns)[sorted_idx])\n",
    "    plt.title('Feature Importance')"
   ]
  },
  {
   "cell_type": "markdown",
   "id": "7bce2f51",
   "metadata": {},
   "source": [
    "## Arrange"
   ]
  },
  {
   "cell_type": "code",
   "execution_count": 13,
   "id": "4798a07c",
   "metadata": {},
   "outputs": [],
   "source": [
    "def arrange(df):\n",
    "    print('실제 충전소 수 :', len(df[df['EV']==1]))\n",
    "    print('충전소가 있어야 한다고 분류한 타일 수 :', len(df[df['pred']==1]))\n",
    "    print('recall score 실제 충전소가 맞는 지 맞춘 경우 :', len(df[(df['pred']==1) & (df['EV']==1)]), '/', len(df[df['EV']==1]))\n",
    "    print('precision score 실제 충전소가 없는 곳을 맞춘 경우 :', len(df[(df['pred']==0) & (df['EV']==0)]), '/', len(df[df['EV']==0]))\n",
    "    print('최적 입지 후보(실제론 없지만, 있어야 한다고 분류) :', len(df[(df['pred']==1) & (df['EV']==0)]), '/', len(df[df['EV']==0]))"
   ]
  },
  {
   "cell_type": "markdown",
   "id": "1ac55813",
   "metadata": {},
   "source": [
    "## select_EV"
   ]
  },
  {
   "cell_type": "code",
   "execution_count": 32,
   "id": "f93fbb3d",
   "metadata": {},
   "outputs": [],
   "source": [
    "def select_EV(df):\n",
    "    df['FN'] = [0]*len(df)\n",
    "    # EV == 0 & predict == 1 인 경우만 ['pred']에서 1로 설정\n",
    "    idx = df[(df['EV'] == 0) & (df['pred'] == 1)].index\n",
    "    for i in df[df['pred'] == 1].index:\n",
    "        df['FN'].loc[i] = 0\n",
    "    for i in idx:\n",
    "        df['FN'].loc[i] = 1\n",
    "        \n",
    "    return df"
   ]
  },
  {
   "cell_type": "markdown",
   "id": "2e54c1c0",
   "metadata": {},
   "source": [
    "## map_visualization"
   ]
  },
  {
   "cell_type": "code",
   "execution_count": 37,
   "id": "d1ad7702",
   "metadata": {},
   "outputs": [],
   "source": [
    "def map_visualization(df):\n",
    "    fig, ax1 = plt.subplots(figsize=(15, 15))\n",
    "    fig.set_facecolor('white')\n",
    "    sejong['geometry'].plot(ax=ax1, color='gainsboro')\n",
    "    sejong[sejong['EV']==1].plot(ax=ax1, column='EV', color='lime', aspect=1)\n",
    "    df[df['FN']==1].plot(ax=ax1, column='FN', color='red', aspect=1)\n",
    "    ax1.set_axis_off()\n",
    "    plt.show()"
   ]
  },
  {
   "cell_type": "markdown",
   "id": "17959f6d",
   "metadata": {},
   "source": [
    "## 임계치 별 모델 학습"
   ]
  },
  {
   "cell_type": "code",
   "execution_count": 16,
   "id": "e32a8d47",
   "metadata": {},
   "outputs": [],
   "source": [
    "train_data_list = [train_data_ros, train_data_smote]\n",
    "train_target_list = [train_target_ros, train_target_smote]"
   ]
  },
  {
   "cell_type": "code",
   "execution_count": 33,
   "id": "44fc44fb",
   "metadata": {
    "scrolled": true
   },
   "outputs": [
    {
     "name": "stderr",
     "output_type": "stream",
     "text": [
      "\u001b[32m[I 2022-08-28 03:49:37,644]\u001b[0m A new study created in memory with name: no-name-2cf26950-00f4-4d9b-878b-7a2a4f7694a8\u001b[0m\n"
     ]
    },
    {
     "name": "stdout",
     "output_type": "stream",
     "text": [
      "threshold : 0.4 ( 0  번째 데이터 )\n"
     ]
    },
    {
     "data": {
      "application/json": {
       "ascii": false,
       "bar_format": null,
       "colour": null,
       "elapsed": 0.012000322341918945,
       "initial": 0,
       "n": 0,
       "ncols": null,
       "nrows": null,
       "postfix": null,
       "prefix": "",
       "rate": null,
       "total": 50,
       "unit": "it",
       "unit_divisor": 1000,
       "unit_scale": false
      },
      "application/vnd.jupyter.widget-view+json": {
       "model_id": "1eeb332e787c48dbb28adc4ab3a9bca5",
       "version_major": 2,
       "version_minor": 0
      },
      "text/plain": [
       "  0%|          | 0/50 [00:00<?, ?it/s]"
      ]
     },
     "metadata": {},
     "output_type": "display_data"
    },
    {
     "name": "stdout",
     "output_type": "stream",
     "text": [
      "\u001b[32m[I 2022-08-28 03:49:39,205]\u001b[0m Trial 0 finished with value: 0.6262135922330098 and parameters: {'max_depth': 5, 'max_leaf_nodes': 206, 'n_estimators': 276}. Best is trial 0 with value: 0.6262135922330098.\u001b[0m\n",
      "\u001b[32m[I 2022-08-28 03:49:40,215]\u001b[0m Trial 1 finished with value: 0.6213592233009708 and parameters: {'max_depth': 3, 'max_leaf_nodes': 854, 'n_estimators': 236}. Best is trial 0 with value: 0.6262135922330098.\u001b[0m\n",
      "\u001b[32m[I 2022-08-28 03:49:41,308]\u001b[0m Trial 2 finished with value: 0.6262135922330098 and parameters: {'max_depth': 4, 'max_leaf_nodes': 637, 'n_estimators': 215}. Best is trial 0 with value: 0.6262135922330098.\u001b[0m\n",
      "\u001b[32m[I 2022-08-28 03:49:43,505]\u001b[0m Trial 3 finished with value: 0.6231884057971014 and parameters: {'max_depth': 6, 'max_leaf_nodes': 392, 'n_estimators': 345}. Best is trial 0 with value: 0.6262135922330098.\u001b[0m\n",
      "\u001b[32m[I 2022-08-28 03:49:45,125]\u001b[0m Trial 4 finished with value: 0.6037735849056604 and parameters: {'max_depth': 2, 'max_leaf_nodes': 479, 'n_estimators': 472}. Best is trial 0 with value: 0.6262135922330098.\u001b[0m\n",
      "\u001b[32m[I 2022-08-28 03:49:46,486]\u001b[0m Trial 5 finished with value: 0.5259515570934256 and parameters: {'max_depth': 7, 'max_leaf_nodes': 856, 'n_estimators': 193}. Best is trial 0 with value: 0.6262135922330098.\u001b[0m\n",
      "\u001b[32m[I 2022-08-28 03:49:47,683]\u001b[0m Trial 6 finished with value: 0.6277372262773723 and parameters: {'max_depth': 5, 'max_leaf_nodes': 864, 'n_estimators': 212}. Best is trial 6 with value: 0.6277372262773723.\u001b[0m\n",
      "\u001b[32m[I 2022-08-28 03:49:48,385]\u001b[0m Trial 7 finished with value: 0.5953488372093023 and parameters: {'max_depth': 2, 'max_leaf_nodes': 459, 'n_estimators': 200}. Best is trial 6 with value: 0.6277372262773723.\u001b[0m\n",
      "\u001b[32m[I 2022-08-28 03:49:50,688]\u001b[0m Trial 8 finished with value: 0.6088992974238876 and parameters: {'max_depth': 6, 'max_leaf_nodes': 278, 'n_estimators': 372}. Best is trial 6 with value: 0.6277372262773723.\u001b[0m\n",
      "\u001b[32m[I 2022-08-28 03:49:54,076]\u001b[0m Trial 9 finished with value: 0.5161290322580645 and parameters: {'max_depth': 9, 'max_leaf_nodes': 387, 'n_estimators': 414}. Best is trial 6 with value: 0.6277372262773723.\u001b[0m\n",
      "\u001b[32m[I 2022-08-28 03:49:55,105]\u001b[0m Trial 10 finished with value: 0.5080385852090032 and parameters: {'max_depth': 10, 'max_leaf_nodes': 702, 'n_estimators': 118}. Best is trial 6 with value: 0.6277372262773723.\u001b[0m\n",
      "\u001b[32m[I 2022-08-28 03:49:56,445]\u001b[0m Trial 11 finished with value: 0.6323529411764707 and parameters: {'max_depth': 4, 'max_leaf_nodes': 43, 'n_estimators': 269}. Best is trial 11 with value: 0.6323529411764707.\u001b[0m\n",
      "\u001b[32m[I 2022-08-28 03:49:57,165]\u001b[0m Trial 12 finished with value: 0.6292682926829268 and parameters: {'max_depth': 4, 'max_leaf_nodes': 17, 'n_estimators': 143}. Best is trial 11 with value: 0.6323529411764707.\u001b[0m\n",
      "\u001b[32m[I 2022-08-28 03:49:57,488]\u001b[0m Trial 13 finished with value: 0.5765765765765766 and parameters: {'max_depth': 1, 'max_leaf_nodes': 27, 'n_estimators': 111}. Best is trial 11 with value: 0.6323529411764707.\u001b[0m\n"
     ]
    },
    {
     "ename": "KeyboardInterrupt",
     "evalue": "",
     "output_type": "error",
     "traceback": [
      "\u001b[1;31m---------------------------------------------------------------------------\u001b[0m",
      "\u001b[1;31mKeyboardInterrupt\u001b[0m                         Traceback (most recent call last)",
      "Input \u001b[1;32mIn [33]\u001b[0m, in \u001b[0;36m<cell line: 7>\u001b[1;34m()\u001b[0m\n\u001b[0;32m      9\u001b[0m clear_output()\n\u001b[0;32m     10\u001b[0m \u001b[38;5;28mprint\u001b[39m(\u001b[38;5;124m'\u001b[39m\u001b[38;5;124mthreshold :\u001b[39m\u001b[38;5;124m'\u001b[39m, threshold, \u001b[38;5;124m'\u001b[39m\u001b[38;5;124m(\u001b[39m\u001b[38;5;124m'\u001b[39m, i, \u001b[38;5;124m'\u001b[39m\u001b[38;5;124m 번째 데이터 )\u001b[39m\u001b[38;5;124m'\u001b[39m)\n\u001b[1;32m---> 11\u001b[0m clf, df, f1 \u001b[38;5;241m=\u001b[39m \u001b[43mrf_optuna\u001b[49m\u001b[43m(\u001b[49m\u001b[43mtrain_data\u001b[49m\u001b[43m,\u001b[49m\u001b[43m \u001b[49m\u001b[43mtrain_target\u001b[49m\u001b[43m,\u001b[49m\u001b[43m \u001b[49m\u001b[43mtest_data\u001b[49m\u001b[43m,\u001b[49m\u001b[43m \u001b[49m\u001b[43mtest_target\u001b[49m\u001b[43m,\u001b[49m\u001b[43m \u001b[49m\u001b[43mthreshold\u001b[49m\u001b[43m)\u001b[49m\n\u001b[0;32m     12\u001b[0m clear_output()\n\u001b[0;32m     13\u001b[0m rf_F1\u001b[38;5;241m.\u001b[39mappend(f1)\n",
      "Input \u001b[1;32mIn [27]\u001b[0m, in \u001b[0;36mrf_optuna\u001b[1;34m(train_data, train_target, test_data, test_target, threshold)\u001b[0m\n\u001b[0;32m     17\u001b[0m     \u001b[38;5;28;01mreturn\u001b[39;00m f1\n\u001b[0;32m     19\u001b[0m study \u001b[38;5;241m=\u001b[39m optuna\u001b[38;5;241m.\u001b[39mcreate_study(direction\u001b[38;5;241m=\u001b[39m\u001b[38;5;124m'\u001b[39m\u001b[38;5;124mmaximize\u001b[39m\u001b[38;5;124m'\u001b[39m)\n\u001b[1;32m---> 20\u001b[0m \u001b[43mstudy\u001b[49m\u001b[38;5;241;43m.\u001b[39;49m\u001b[43moptimize\u001b[49m\u001b[43m(\u001b[49m\u001b[43mrf_objective\u001b[49m\u001b[43m,\u001b[49m\u001b[43m \u001b[49m\u001b[43mn_trials\u001b[49m\u001b[38;5;241;43m=\u001b[39;49m\u001b[38;5;241;43m50\u001b[39;49m\u001b[43m,\u001b[49m\u001b[43m \u001b[49m\u001b[43mshow_progress_bar\u001b[49m\u001b[38;5;241;43m=\u001b[39;49m\u001b[38;5;28;43;01mTrue\u001b[39;49;00m\u001b[43m)\u001b[49m\n\u001b[0;32m     22\u001b[0m \u001b[38;5;28mprint\u001b[39m(\u001b[38;5;124m\"\u001b[39m\u001b[38;5;124mNumber of finished trials: \u001b[39m\u001b[38;5;124m\"\u001b[39m, \u001b[38;5;28mlen\u001b[39m(study\u001b[38;5;241m.\u001b[39mtrials))\n\u001b[0;32m     23\u001b[0m \u001b[38;5;28mprint\u001b[39m(\u001b[38;5;124m\"\u001b[39m\u001b[38;5;124mBest trial:\u001b[39m\u001b[38;5;124m\"\u001b[39m)\n",
      "File \u001b[1;32m~\\anaconda3\\envs\\py39\\lib\\site-packages\\optuna\\study\\study.py:400\u001b[0m, in \u001b[0;36mStudy.optimize\u001b[1;34m(self, func, n_trials, timeout, n_jobs, catch, callbacks, gc_after_trial, show_progress_bar)\u001b[0m\n\u001b[0;32m    392\u001b[0m \u001b[38;5;28;01mif\u001b[39;00m n_jobs \u001b[38;5;241m!=\u001b[39m \u001b[38;5;241m1\u001b[39m:\n\u001b[0;32m    393\u001b[0m     warnings\u001b[38;5;241m.\u001b[39mwarn(\n\u001b[0;32m    394\u001b[0m         \u001b[38;5;124m\"\u001b[39m\u001b[38;5;124m`n_jobs` argument has been deprecated in v2.7.0. \u001b[39m\u001b[38;5;124m\"\u001b[39m\n\u001b[0;32m    395\u001b[0m         \u001b[38;5;124m\"\u001b[39m\u001b[38;5;124mThis feature will be removed in v4.0.0. \u001b[39m\u001b[38;5;124m\"\u001b[39m\n\u001b[0;32m    396\u001b[0m         \u001b[38;5;124m\"\u001b[39m\u001b[38;5;124mSee https://github.com/optuna/optuna/releases/tag/v2.7.0.\u001b[39m\u001b[38;5;124m\"\u001b[39m,\n\u001b[0;32m    397\u001b[0m         \u001b[38;5;167;01mFutureWarning\u001b[39;00m,\n\u001b[0;32m    398\u001b[0m     )\n\u001b[1;32m--> 400\u001b[0m \u001b[43m_optimize\u001b[49m\u001b[43m(\u001b[49m\n\u001b[0;32m    401\u001b[0m \u001b[43m    \u001b[49m\u001b[43mstudy\u001b[49m\u001b[38;5;241;43m=\u001b[39;49m\u001b[38;5;28;43mself\u001b[39;49m\u001b[43m,\u001b[49m\n\u001b[0;32m    402\u001b[0m \u001b[43m    \u001b[49m\u001b[43mfunc\u001b[49m\u001b[38;5;241;43m=\u001b[39;49m\u001b[43mfunc\u001b[49m\u001b[43m,\u001b[49m\n\u001b[0;32m    403\u001b[0m \u001b[43m    \u001b[49m\u001b[43mn_trials\u001b[49m\u001b[38;5;241;43m=\u001b[39;49m\u001b[43mn_trials\u001b[49m\u001b[43m,\u001b[49m\n\u001b[0;32m    404\u001b[0m \u001b[43m    \u001b[49m\u001b[43mtimeout\u001b[49m\u001b[38;5;241;43m=\u001b[39;49m\u001b[43mtimeout\u001b[49m\u001b[43m,\u001b[49m\n\u001b[0;32m    405\u001b[0m \u001b[43m    \u001b[49m\u001b[43mn_jobs\u001b[49m\u001b[38;5;241;43m=\u001b[39;49m\u001b[43mn_jobs\u001b[49m\u001b[43m,\u001b[49m\n\u001b[0;32m    406\u001b[0m \u001b[43m    \u001b[49m\u001b[43mcatch\u001b[49m\u001b[38;5;241;43m=\u001b[39;49m\u001b[43mcatch\u001b[49m\u001b[43m,\u001b[49m\n\u001b[0;32m    407\u001b[0m \u001b[43m    \u001b[49m\u001b[43mcallbacks\u001b[49m\u001b[38;5;241;43m=\u001b[39;49m\u001b[43mcallbacks\u001b[49m\u001b[43m,\u001b[49m\n\u001b[0;32m    408\u001b[0m \u001b[43m    \u001b[49m\u001b[43mgc_after_trial\u001b[49m\u001b[38;5;241;43m=\u001b[39;49m\u001b[43mgc_after_trial\u001b[49m\u001b[43m,\u001b[49m\n\u001b[0;32m    409\u001b[0m \u001b[43m    \u001b[49m\u001b[43mshow_progress_bar\u001b[49m\u001b[38;5;241;43m=\u001b[39;49m\u001b[43mshow_progress_bar\u001b[49m\u001b[43m,\u001b[49m\n\u001b[0;32m    410\u001b[0m \u001b[43m\u001b[49m\u001b[43m)\u001b[49m\n",
      "File \u001b[1;32m~\\anaconda3\\envs\\py39\\lib\\site-packages\\optuna\\study\\_optimize.py:66\u001b[0m, in \u001b[0;36m_optimize\u001b[1;34m(study, func, n_trials, timeout, n_jobs, catch, callbacks, gc_after_trial, show_progress_bar)\u001b[0m\n\u001b[0;32m     64\u001b[0m \u001b[38;5;28;01mtry\u001b[39;00m:\n\u001b[0;32m     65\u001b[0m     \u001b[38;5;28;01mif\u001b[39;00m n_jobs \u001b[38;5;241m==\u001b[39m \u001b[38;5;241m1\u001b[39m:\n\u001b[1;32m---> 66\u001b[0m         \u001b[43m_optimize_sequential\u001b[49m\u001b[43m(\u001b[49m\n\u001b[0;32m     67\u001b[0m \u001b[43m            \u001b[49m\u001b[43mstudy\u001b[49m\u001b[43m,\u001b[49m\n\u001b[0;32m     68\u001b[0m \u001b[43m            \u001b[49m\u001b[43mfunc\u001b[49m\u001b[43m,\u001b[49m\n\u001b[0;32m     69\u001b[0m \u001b[43m            \u001b[49m\u001b[43mn_trials\u001b[49m\u001b[43m,\u001b[49m\n\u001b[0;32m     70\u001b[0m \u001b[43m            \u001b[49m\u001b[43mtimeout\u001b[49m\u001b[43m,\u001b[49m\n\u001b[0;32m     71\u001b[0m \u001b[43m            \u001b[49m\u001b[43mcatch\u001b[49m\u001b[43m,\u001b[49m\n\u001b[0;32m     72\u001b[0m \u001b[43m            \u001b[49m\u001b[43mcallbacks\u001b[49m\u001b[43m,\u001b[49m\n\u001b[0;32m     73\u001b[0m \u001b[43m            \u001b[49m\u001b[43mgc_after_trial\u001b[49m\u001b[43m,\u001b[49m\n\u001b[0;32m     74\u001b[0m \u001b[43m            \u001b[49m\u001b[43mreseed_sampler_rng\u001b[49m\u001b[38;5;241;43m=\u001b[39;49m\u001b[38;5;28;43;01mFalse\u001b[39;49;00m\u001b[43m,\u001b[49m\n\u001b[0;32m     75\u001b[0m \u001b[43m            \u001b[49m\u001b[43mtime_start\u001b[49m\u001b[38;5;241;43m=\u001b[39;49m\u001b[38;5;28;43;01mNone\u001b[39;49;00m\u001b[43m,\u001b[49m\n\u001b[0;32m     76\u001b[0m \u001b[43m            \u001b[49m\u001b[43mprogress_bar\u001b[49m\u001b[38;5;241;43m=\u001b[39;49m\u001b[43mprogress_bar\u001b[49m\u001b[43m,\u001b[49m\n\u001b[0;32m     77\u001b[0m \u001b[43m        \u001b[49m\u001b[43m)\u001b[49m\n\u001b[0;32m     78\u001b[0m     \u001b[38;5;28;01melse\u001b[39;00m:\n\u001b[0;32m     79\u001b[0m         \u001b[38;5;28;01mif\u001b[39;00m show_progress_bar:\n",
      "File \u001b[1;32m~\\anaconda3\\envs\\py39\\lib\\site-packages\\optuna\\study\\_optimize.py:163\u001b[0m, in \u001b[0;36m_optimize_sequential\u001b[1;34m(study, func, n_trials, timeout, catch, callbacks, gc_after_trial, reseed_sampler_rng, time_start, progress_bar)\u001b[0m\n\u001b[0;32m    160\u001b[0m         \u001b[38;5;28;01mbreak\u001b[39;00m\n\u001b[0;32m    162\u001b[0m \u001b[38;5;28;01mtry\u001b[39;00m:\n\u001b[1;32m--> 163\u001b[0m     trial \u001b[38;5;241m=\u001b[39m \u001b[43m_run_trial\u001b[49m\u001b[43m(\u001b[49m\u001b[43mstudy\u001b[49m\u001b[43m,\u001b[49m\u001b[43m \u001b[49m\u001b[43mfunc\u001b[49m\u001b[43m,\u001b[49m\u001b[43m \u001b[49m\u001b[43mcatch\u001b[49m\u001b[43m)\u001b[49m\n\u001b[0;32m    164\u001b[0m \u001b[38;5;28;01mexcept\u001b[39;00m \u001b[38;5;167;01mException\u001b[39;00m:\n\u001b[0;32m    165\u001b[0m     \u001b[38;5;28;01mraise\u001b[39;00m\n",
      "File \u001b[1;32m~\\anaconda3\\envs\\py39\\lib\\site-packages\\optuna\\study\\_optimize.py:213\u001b[0m, in \u001b[0;36m_run_trial\u001b[1;34m(study, func, catch)\u001b[0m\n\u001b[0;32m    210\u001b[0m     thread\u001b[38;5;241m.\u001b[39mstart()\n\u001b[0;32m    212\u001b[0m \u001b[38;5;28;01mtry\u001b[39;00m:\n\u001b[1;32m--> 213\u001b[0m     value_or_values \u001b[38;5;241m=\u001b[39m \u001b[43mfunc\u001b[49m\u001b[43m(\u001b[49m\u001b[43mtrial\u001b[49m\u001b[43m)\u001b[49m\n\u001b[0;32m    214\u001b[0m \u001b[38;5;28;01mexcept\u001b[39;00m exceptions\u001b[38;5;241m.\u001b[39mTrialPruned \u001b[38;5;28;01mas\u001b[39;00m e:\n\u001b[0;32m    215\u001b[0m     \u001b[38;5;66;03m# TODO(mamu): Handle multi-objective cases.\u001b[39;00m\n\u001b[0;32m    216\u001b[0m     state \u001b[38;5;241m=\u001b[39m TrialState\u001b[38;5;241m.\u001b[39mPRUNED\n",
      "Input \u001b[1;32mIn [27]\u001b[0m, in \u001b[0;36mrf_optuna.<locals>.rf_objective\u001b[1;34m(trial)\u001b[0m\n\u001b[0;32m      4\u001b[0m params \u001b[38;5;241m=\u001b[39m {\n\u001b[0;32m      5\u001b[0m             \u001b[38;5;124m'\u001b[39m\u001b[38;5;124mmax_depth\u001b[39m\u001b[38;5;124m'\u001b[39m : trial\u001b[38;5;241m.\u001b[39msuggest_int(\u001b[38;5;124m'\u001b[39m\u001b[38;5;124mmax_depth\u001b[39m\u001b[38;5;124m'\u001b[39m, \u001b[38;5;241m1\u001b[39m, \u001b[38;5;241m10\u001b[39m),\n\u001b[0;32m      6\u001b[0m             \u001b[38;5;124m'\u001b[39m\u001b[38;5;124mmax_leaf_nodes\u001b[39m\u001b[38;5;124m'\u001b[39m : trial\u001b[38;5;241m.\u001b[39msuggest_int(\u001b[38;5;124m'\u001b[39m\u001b[38;5;124mmax_leaf_nodes\u001b[39m\u001b[38;5;124m'\u001b[39m, \u001b[38;5;241m2\u001b[39m, \u001b[38;5;241m1000\u001b[39m),\n\u001b[0;32m      7\u001b[0m             \u001b[38;5;124m'\u001b[39m\u001b[38;5;124mn_estimators\u001b[39m\u001b[38;5;124m'\u001b[39m : trial\u001b[38;5;241m.\u001b[39msuggest_int(\u001b[38;5;124m'\u001b[39m\u001b[38;5;124mn_estimators\u001b[39m\u001b[38;5;124m'\u001b[39m, \u001b[38;5;241m100\u001b[39m, \u001b[38;5;241m500\u001b[39m),\n\u001b[0;32m      8\u001b[0m             \u001b[38;5;124m\"\u001b[39m\u001b[38;5;124mn_jobs\u001b[39m\u001b[38;5;124m\"\u001b[39m: \u001b[38;5;241m4\u001b[39m\n\u001b[0;32m      9\u001b[0m     }\n\u001b[0;32m     11\u001b[0m clf \u001b[38;5;241m=\u001b[39m ensemble\u001b[38;5;241m.\u001b[39mRandomForestClassifier(\u001b[38;5;241m*\u001b[39m\u001b[38;5;241m*\u001b[39mparams, verbose\u001b[38;5;241m=\u001b[39m\u001b[38;5;241m0\u001b[39m)\n\u001b[1;32m---> 12\u001b[0m \u001b[43mclf\u001b[49m\u001b[38;5;241;43m.\u001b[39;49m\u001b[43mfit\u001b[49m\u001b[43m(\u001b[49m\u001b[43mtrain_data\u001b[49m\u001b[43m,\u001b[49m\u001b[43m \u001b[49m\u001b[43mtrain_target\u001b[49m\u001b[43m)\u001b[49m\n\u001b[0;32m     13\u001b[0m proba \u001b[38;5;241m=\u001b[39m clf\u001b[38;5;241m.\u001b[39mpredict_proba(test_data)\n\u001b[0;32m     14\u001b[0m preds \u001b[38;5;241m=\u001b[39m (proba[:,\u001b[38;5;241m1\u001b[39m] \u001b[38;5;241m>\u001b[39m\u001b[38;5;241m=\u001b[39m threshold)\u001b[38;5;241m.\u001b[39mastype(\u001b[38;5;124m'\u001b[39m\u001b[38;5;124mint\u001b[39m\u001b[38;5;124m'\u001b[39m)\n",
      "File \u001b[1;32m~\\anaconda3\\envs\\py39\\lib\\site-packages\\sklearn\\ensemble\\_forest.py:476\u001b[0m, in \u001b[0;36mBaseForest.fit\u001b[1;34m(self, X, y, sample_weight)\u001b[0m\n\u001b[0;32m    465\u001b[0m trees \u001b[38;5;241m=\u001b[39m [\n\u001b[0;32m    466\u001b[0m     \u001b[38;5;28mself\u001b[39m\u001b[38;5;241m.\u001b[39m_make_estimator(append\u001b[38;5;241m=\u001b[39m\u001b[38;5;28;01mFalse\u001b[39;00m, random_state\u001b[38;5;241m=\u001b[39mrandom_state)\n\u001b[0;32m    467\u001b[0m     \u001b[38;5;28;01mfor\u001b[39;00m i \u001b[38;5;129;01min\u001b[39;00m \u001b[38;5;28mrange\u001b[39m(n_more_estimators)\n\u001b[0;32m    468\u001b[0m ]\n\u001b[0;32m    470\u001b[0m \u001b[38;5;66;03m# Parallel loop: we prefer the threading backend as the Cython code\u001b[39;00m\n\u001b[0;32m    471\u001b[0m \u001b[38;5;66;03m# for fitting the trees is internally releasing the Python GIL\u001b[39;00m\n\u001b[0;32m    472\u001b[0m \u001b[38;5;66;03m# making threading more efficient than multiprocessing in\u001b[39;00m\n\u001b[0;32m    473\u001b[0m \u001b[38;5;66;03m# that case. However, for joblib 0.12+ we respect any\u001b[39;00m\n\u001b[0;32m    474\u001b[0m \u001b[38;5;66;03m# parallel_backend contexts set at a higher level,\u001b[39;00m\n\u001b[0;32m    475\u001b[0m \u001b[38;5;66;03m# since correctness does not rely on using threads.\u001b[39;00m\n\u001b[1;32m--> 476\u001b[0m trees \u001b[38;5;241m=\u001b[39m \u001b[43mParallel\u001b[49m\u001b[43m(\u001b[49m\n\u001b[0;32m    477\u001b[0m \u001b[43m    \u001b[49m\u001b[43mn_jobs\u001b[49m\u001b[38;5;241;43m=\u001b[39;49m\u001b[38;5;28;43mself\u001b[39;49m\u001b[38;5;241;43m.\u001b[39;49m\u001b[43mn_jobs\u001b[49m\u001b[43m,\u001b[49m\n\u001b[0;32m    478\u001b[0m \u001b[43m    \u001b[49m\u001b[43mverbose\u001b[49m\u001b[38;5;241;43m=\u001b[39;49m\u001b[38;5;28;43mself\u001b[39;49m\u001b[38;5;241;43m.\u001b[39;49m\u001b[43mverbose\u001b[49m\u001b[43m,\u001b[49m\n\u001b[0;32m    479\u001b[0m \u001b[43m    \u001b[49m\u001b[43mprefer\u001b[49m\u001b[38;5;241;43m=\u001b[39;49m\u001b[38;5;124;43m\"\u001b[39;49m\u001b[38;5;124;43mthreads\u001b[39;49m\u001b[38;5;124;43m\"\u001b[39;49m\u001b[43m,\u001b[49m\n\u001b[0;32m    480\u001b[0m \u001b[43m\u001b[49m\u001b[43m)\u001b[49m\u001b[43m(\u001b[49m\n\u001b[0;32m    481\u001b[0m \u001b[43m    \u001b[49m\u001b[43mdelayed\u001b[49m\u001b[43m(\u001b[49m\u001b[43m_parallel_build_trees\u001b[49m\u001b[43m)\u001b[49m\u001b[43m(\u001b[49m\n\u001b[0;32m    482\u001b[0m \u001b[43m        \u001b[49m\u001b[43mt\u001b[49m\u001b[43m,\u001b[49m\n\u001b[0;32m    483\u001b[0m \u001b[43m        \u001b[49m\u001b[38;5;28;43mself\u001b[39;49m\u001b[38;5;241;43m.\u001b[39;49m\u001b[43mbootstrap\u001b[49m\u001b[43m,\u001b[49m\n\u001b[0;32m    484\u001b[0m \u001b[43m        \u001b[49m\u001b[43mX\u001b[49m\u001b[43m,\u001b[49m\n\u001b[0;32m    485\u001b[0m \u001b[43m        \u001b[49m\u001b[43my\u001b[49m\u001b[43m,\u001b[49m\n\u001b[0;32m    486\u001b[0m \u001b[43m        \u001b[49m\u001b[43msample_weight\u001b[49m\u001b[43m,\u001b[49m\n\u001b[0;32m    487\u001b[0m \u001b[43m        \u001b[49m\u001b[43mi\u001b[49m\u001b[43m,\u001b[49m\n\u001b[0;32m    488\u001b[0m \u001b[43m        \u001b[49m\u001b[38;5;28;43mlen\u001b[39;49m\u001b[43m(\u001b[49m\u001b[43mtrees\u001b[49m\u001b[43m)\u001b[49m\u001b[43m,\u001b[49m\n\u001b[0;32m    489\u001b[0m \u001b[43m        \u001b[49m\u001b[43mverbose\u001b[49m\u001b[38;5;241;43m=\u001b[39;49m\u001b[38;5;28;43mself\u001b[39;49m\u001b[38;5;241;43m.\u001b[39;49m\u001b[43mverbose\u001b[49m\u001b[43m,\u001b[49m\n\u001b[0;32m    490\u001b[0m \u001b[43m        \u001b[49m\u001b[43mclass_weight\u001b[49m\u001b[38;5;241;43m=\u001b[39;49m\u001b[38;5;28;43mself\u001b[39;49m\u001b[38;5;241;43m.\u001b[39;49m\u001b[43mclass_weight\u001b[49m\u001b[43m,\u001b[49m\n\u001b[0;32m    491\u001b[0m \u001b[43m        \u001b[49m\u001b[43mn_samples_bootstrap\u001b[49m\u001b[38;5;241;43m=\u001b[39;49m\u001b[43mn_samples_bootstrap\u001b[49m\u001b[43m,\u001b[49m\n\u001b[0;32m    492\u001b[0m \u001b[43m    \u001b[49m\u001b[43m)\u001b[49m\n\u001b[0;32m    493\u001b[0m \u001b[43m    \u001b[49m\u001b[38;5;28;43;01mfor\u001b[39;49;00m\u001b[43m \u001b[49m\u001b[43mi\u001b[49m\u001b[43m,\u001b[49m\u001b[43m \u001b[49m\u001b[43mt\u001b[49m\u001b[43m \u001b[49m\u001b[38;5;129;43;01min\u001b[39;49;00m\u001b[43m \u001b[49m\u001b[38;5;28;43menumerate\u001b[39;49m\u001b[43m(\u001b[49m\u001b[43mtrees\u001b[49m\u001b[43m)\u001b[49m\n\u001b[0;32m    494\u001b[0m \u001b[43m\u001b[49m\u001b[43m)\u001b[49m\n\u001b[0;32m    496\u001b[0m \u001b[38;5;66;03m# Collect newly grown trees\u001b[39;00m\n\u001b[0;32m    497\u001b[0m \u001b[38;5;28mself\u001b[39m\u001b[38;5;241m.\u001b[39mestimators_\u001b[38;5;241m.\u001b[39mextend(trees)\n",
      "File \u001b[1;32m~\\anaconda3\\envs\\py39\\lib\\site-packages\\joblib\\parallel.py:1056\u001b[0m, in \u001b[0;36mParallel.__call__\u001b[1;34m(self, iterable)\u001b[0m\n\u001b[0;32m   1053\u001b[0m     \u001b[38;5;28mself\u001b[39m\u001b[38;5;241m.\u001b[39m_iterating \u001b[38;5;241m=\u001b[39m \u001b[38;5;28;01mFalse\u001b[39;00m\n\u001b[0;32m   1055\u001b[0m \u001b[38;5;28;01mwith\u001b[39;00m \u001b[38;5;28mself\u001b[39m\u001b[38;5;241m.\u001b[39m_backend\u001b[38;5;241m.\u001b[39mretrieval_context():\n\u001b[1;32m-> 1056\u001b[0m     \u001b[38;5;28;43mself\u001b[39;49m\u001b[38;5;241;43m.\u001b[39;49m\u001b[43mretrieve\u001b[49m\u001b[43m(\u001b[49m\u001b[43m)\u001b[49m\n\u001b[0;32m   1057\u001b[0m \u001b[38;5;66;03m# Make sure that we get a last message telling us we are done\u001b[39;00m\n\u001b[0;32m   1058\u001b[0m elapsed_time \u001b[38;5;241m=\u001b[39m time\u001b[38;5;241m.\u001b[39mtime() \u001b[38;5;241m-\u001b[39m \u001b[38;5;28mself\u001b[39m\u001b[38;5;241m.\u001b[39m_start_time\n",
      "File \u001b[1;32m~\\anaconda3\\envs\\py39\\lib\\site-packages\\joblib\\parallel.py:935\u001b[0m, in \u001b[0;36mParallel.retrieve\u001b[1;34m(self)\u001b[0m\n\u001b[0;32m    933\u001b[0m \u001b[38;5;28;01mtry\u001b[39;00m:\n\u001b[0;32m    934\u001b[0m     \u001b[38;5;28;01mif\u001b[39;00m \u001b[38;5;28mgetattr\u001b[39m(\u001b[38;5;28mself\u001b[39m\u001b[38;5;241m.\u001b[39m_backend, \u001b[38;5;124m'\u001b[39m\u001b[38;5;124msupports_timeout\u001b[39m\u001b[38;5;124m'\u001b[39m, \u001b[38;5;28;01mFalse\u001b[39;00m):\n\u001b[1;32m--> 935\u001b[0m         \u001b[38;5;28mself\u001b[39m\u001b[38;5;241m.\u001b[39m_output\u001b[38;5;241m.\u001b[39mextend(\u001b[43mjob\u001b[49m\u001b[38;5;241;43m.\u001b[39;49m\u001b[43mget\u001b[49m\u001b[43m(\u001b[49m\u001b[43mtimeout\u001b[49m\u001b[38;5;241;43m=\u001b[39;49m\u001b[38;5;28;43mself\u001b[39;49m\u001b[38;5;241;43m.\u001b[39;49m\u001b[43mtimeout\u001b[49m\u001b[43m)\u001b[49m)\n\u001b[0;32m    936\u001b[0m     \u001b[38;5;28;01melse\u001b[39;00m:\n\u001b[0;32m    937\u001b[0m         \u001b[38;5;28mself\u001b[39m\u001b[38;5;241m.\u001b[39m_output\u001b[38;5;241m.\u001b[39mextend(job\u001b[38;5;241m.\u001b[39mget())\n",
      "File \u001b[1;32m~\\anaconda3\\envs\\py39\\lib\\multiprocessing\\pool.py:765\u001b[0m, in \u001b[0;36mApplyResult.get\u001b[1;34m(self, timeout)\u001b[0m\n\u001b[0;32m    764\u001b[0m \u001b[38;5;28;01mdef\u001b[39;00m \u001b[38;5;21mget\u001b[39m(\u001b[38;5;28mself\u001b[39m, timeout\u001b[38;5;241m=\u001b[39m\u001b[38;5;28;01mNone\u001b[39;00m):\n\u001b[1;32m--> 765\u001b[0m     \u001b[38;5;28;43mself\u001b[39;49m\u001b[38;5;241;43m.\u001b[39;49m\u001b[43mwait\u001b[49m\u001b[43m(\u001b[49m\u001b[43mtimeout\u001b[49m\u001b[43m)\u001b[49m\n\u001b[0;32m    766\u001b[0m     \u001b[38;5;28;01mif\u001b[39;00m \u001b[38;5;129;01mnot\u001b[39;00m \u001b[38;5;28mself\u001b[39m\u001b[38;5;241m.\u001b[39mready():\n\u001b[0;32m    767\u001b[0m         \u001b[38;5;28;01mraise\u001b[39;00m \u001b[38;5;167;01mTimeoutError\u001b[39;00m\n",
      "File \u001b[1;32m~\\anaconda3\\envs\\py39\\lib\\multiprocessing\\pool.py:762\u001b[0m, in \u001b[0;36mApplyResult.wait\u001b[1;34m(self, timeout)\u001b[0m\n\u001b[0;32m    761\u001b[0m \u001b[38;5;28;01mdef\u001b[39;00m \u001b[38;5;21mwait\u001b[39m(\u001b[38;5;28mself\u001b[39m, timeout\u001b[38;5;241m=\u001b[39m\u001b[38;5;28;01mNone\u001b[39;00m):\n\u001b[1;32m--> 762\u001b[0m     \u001b[38;5;28;43mself\u001b[39;49m\u001b[38;5;241;43m.\u001b[39;49m\u001b[43m_event\u001b[49m\u001b[38;5;241;43m.\u001b[39;49m\u001b[43mwait\u001b[49m\u001b[43m(\u001b[49m\u001b[43mtimeout\u001b[49m\u001b[43m)\u001b[49m\n",
      "File \u001b[1;32m~\\anaconda3\\envs\\py39\\lib\\threading.py:574\u001b[0m, in \u001b[0;36mEvent.wait\u001b[1;34m(self, timeout)\u001b[0m\n\u001b[0;32m    572\u001b[0m signaled \u001b[38;5;241m=\u001b[39m \u001b[38;5;28mself\u001b[39m\u001b[38;5;241m.\u001b[39m_flag\n\u001b[0;32m    573\u001b[0m \u001b[38;5;28;01mif\u001b[39;00m \u001b[38;5;129;01mnot\u001b[39;00m signaled:\n\u001b[1;32m--> 574\u001b[0m     signaled \u001b[38;5;241m=\u001b[39m \u001b[38;5;28;43mself\u001b[39;49m\u001b[38;5;241;43m.\u001b[39;49m\u001b[43m_cond\u001b[49m\u001b[38;5;241;43m.\u001b[39;49m\u001b[43mwait\u001b[49m\u001b[43m(\u001b[49m\u001b[43mtimeout\u001b[49m\u001b[43m)\u001b[49m\n\u001b[0;32m    575\u001b[0m \u001b[38;5;28;01mreturn\u001b[39;00m signaled\n",
      "File \u001b[1;32m~\\anaconda3\\envs\\py39\\lib\\threading.py:312\u001b[0m, in \u001b[0;36mCondition.wait\u001b[1;34m(self, timeout)\u001b[0m\n\u001b[0;32m    310\u001b[0m \u001b[38;5;28;01mtry\u001b[39;00m:    \u001b[38;5;66;03m# restore state no matter what (e.g., KeyboardInterrupt)\u001b[39;00m\n\u001b[0;32m    311\u001b[0m     \u001b[38;5;28;01mif\u001b[39;00m timeout \u001b[38;5;129;01mis\u001b[39;00m \u001b[38;5;28;01mNone\u001b[39;00m:\n\u001b[1;32m--> 312\u001b[0m         \u001b[43mwaiter\u001b[49m\u001b[38;5;241;43m.\u001b[39;49m\u001b[43macquire\u001b[49m\u001b[43m(\u001b[49m\u001b[43m)\u001b[49m\n\u001b[0;32m    313\u001b[0m         gotit \u001b[38;5;241m=\u001b[39m \u001b[38;5;28;01mTrue\u001b[39;00m\n\u001b[0;32m    314\u001b[0m     \u001b[38;5;28;01melse\u001b[39;00m:\n",
      "\u001b[1;31mKeyboardInterrupt\u001b[0m: "
     ]
    }
   ],
   "source": [
    "rf_F1 = [] # 0~9 : rus, 10~19 : ros, 20~29 : smote\n",
    "rf_TP = [] # TrusPositive\n",
    "rf_df = []\n",
    "rf_clf = []\n",
    "rf_FN = [] # FalseNegative = 최적입지\n",
    "\n",
    "for i, (train_data, train_target) in enumerate(zip(train_data_list, train_target_list)):\n",
    "    for threshold in np.arange(0.1, 1, 0.1):\n",
    "        clear_output()\n",
    "        print('threshold :', threshold, '(', i, ' 번째 데이터 )')\n",
    "        clf, df, f1 = rf_optuna(train_data, train_target, test_data, test_target, threshold)\n",
    "        clear_output()\n",
    "        rf_F1.append(f1)\n",
    "        rf_TP.append(len(df[(df['pred']==1) & (df['EV']==1)]))\n",
    "        rf_df.append(df)\n",
    "        rf_clf.append(clf)\n",
    "        rf_FN.append(len(df[df['FN']==1]))\n",
    "\n",
    "'''\n",
    "feature_importance(rf_clf)\n",
    "arrange(rf_df)\n",
    "rf_result = select_EV(rf_df)\n",
    "map_visualization(rf_result)\n",
    "'''"
   ]
  },
  {
   "cell_type": "code",
   "execution_count": null,
   "id": "b0e59e76",
   "metadata": {},
   "outputs": [],
   "source": [
    "xgb_F1 = [] # 0~9 : rus, 10~19 : ros, 20~29 : smote\n",
    "xgb_TP = [] # TruePositive\n",
    "xgb_df = []\n",
    "xgb_clf = []\n",
    "xgb_FN = [] # FalseNegative = 최적입지\n",
    "\n",
    "for i, (train_data, train_target) in enumerate(zip(train_data_list, train_target_list)):\n",
    "    for threshold in np.arange(0.1, 1, 0.1):\n",
    "        clear_output()\n",
    "        print('threshold :', threshold, '(', i, ' 번째 데이터 )')\n",
    "        clf, df, f1 = xgb_optuna(train_data, train_target, test_data, test_target, threshold)\n",
    "        clear_output()\n",
    "        xgb_F1.append(f1)\n",
    "        xgb_TP.append(len(df[(df['pred']==1) & (df['EV']==1)]))\n",
    "        xgb_df.append(df)\n",
    "        xgb_clf.append(clf)\n",
    "        xgb_FN.append(len(df[df['FN']==1]))"
   ]
  },
  {
   "cell_type": "code",
   "execution_count": null,
   "id": "7610b3e3",
   "metadata": {},
   "outputs": [],
   "source": [
    "lgbm_F1 = [] # 0~9 : rus, 10~19 : ros, 20~29 : smote\n",
    "lgbm_TP = [] # TruePositive\n",
    "lgbm_df = []\n",
    "lgbm_clf = []\n",
    "lgbm_FN = [] # FalseNegative = 최적입지\n",
    "\n",
    "for i, train_data, train_target in enumerate(zip(train_data_list, train_target_list)):\n",
    "    for threshold in np.arange(0.1, 1, 0.1):\n",
    "        clear_output()\n",
    "        print('threshold :', threshold, '(', i, ' 번째 데이터 )')\n",
    "        clf, df, f1 = lgbm_optuna(train_data, train_target, test_data, test_target, threshold)\n",
    "        clear_output()\n",
    "        lgbm_F1.append(f1)\n",
    "        lgbm_TP.append(len(df[(df['pred']==1) & (df['EV']==1)]))\n",
    "        lgbm_df.append(df)\n",
    "        lgbm_clf.append(clf)\n",
    "        lgbm_FN.append(len(df[df['FN']==1]))"
   ]
  },
  {
   "cell_type": "code",
   "execution_count": null,
   "id": "e892ac11",
   "metadata": {},
   "outputs": [],
   "source": [
    "catb_F1 = [] # 0~9 : rus, 10~19 : ros, 20~29 : smote\n",
    "catb_TP = [] # TruePositive\n",
    "catb_df = []\n",
    "catb_clf = []\n",
    "catb_FN = [] # FalseNegative = 최적입지\n",
    "\n",
    "for i, train_data, train_target in enumerate(zip(train_data_list, train_target_list)):\n",
    "    for threshold in np.arange(0.1, 1, 0.1):\n",
    "        clear_output()\n",
    "        print('threshold :', threshold, '(', i, ' 번째 데이터 )')\n",
    "        clf, df, f1 = catb_optuna(train_data, train_target, test_data, test_target, threshold)\n",
    "        clear_output()\n",
    "        catb_F1.append(f1)\n",
    "        catb_TP.append(len(df[(df['pred']==1) & (df['EV']==1)]))\n",
    "        catb_df.append(df)\n",
    "        catb_clf.append(clf)\n",
    "        catb_FN.append(len(df[df['FN']==1]))"
   ]
  },
  {
   "cell_type": "markdown",
   "id": "78d0eea6",
   "metadata": {},
   "source": [
    "## 모델 선정"
   ]
  },
  {
   "cell_type": "markdown",
   "id": "f822c19c",
   "metadata": {},
   "source": [
    "### RandomForest"
   ]
  },
  {
   "cell_type": "code",
   "execution_count": 35,
   "id": "3d4595d1",
   "metadata": {
    "scrolled": false
   },
   "outputs": [
    {
     "name": "stdout",
     "output_type": "stream",
     "text": [
      "[0.6320987654320988, 0.6354679802955665, 0.6341463414634146]\n",
      "[128, 129, 130]\n",
      "[1, 1, 4]\n"
     ]
    }
   ],
   "source": [
    "print(rf_F1)\n",
    "print(rf_TP)\n",
    "print(rf_FN)"
   ]
  },
  {
   "cell_type": "code",
   "execution_count": 34,
   "id": "1fc4d1b2",
   "metadata": {},
   "outputs": [
    {
     "name": "stdout",
     "output_type": "stream",
     "text": [
      "RandomForestClassifier\n",
      "RandomUnderSampler   threshold : 0.2    F1_score : 0.6354679802955665\n",
      "TP : 129 FN : 1\n",
      "\n",
      "\n",
      "실제 충전소 수 : 276\n",
      "충전소가 있어야 한다고 분류한 타일 수 : 130\n",
      "recall score 실제 충전소가 맞는 지 맞춘 경우 : 129 / 276\n",
      "precision score 실제 충전소가 없는 곳을 맞춘 경우 : 47119 / 47120\n",
      "최적 입지 후보(실제론 없지만, 있어야 한다고 분류) : 1 / 47120\n"
     ]
    },
    {
     "data": {
      "image/png": "[encoded data removed]",
      "text/plain": [
       "<Figure size 864x432 with 1 Axes>"
      ]
     },
     "metadata": {
      "needs_background": "light"
     },
     "output_type": "display_data"
    }
   ],
   "source": [
    "print('Best RandomForestClassifier')\n",
    "if rf_F1.index(max(rf_F1))//9 == 0:\n",
    "    print('RandomUnderSampler', end='   ')\n",
    "else:\n",
    "    print('Smote', end='   ')\n",
    "print('threshold :', (rf_F1.index(max(rf_F1))%9+1)/10, '   F1_score :', max(rf_F1))\n",
    "print('TP :', rf_TP[rf_F1.index(max(rf_F1))], 'FN :', rf_FN[rf_F1.index(max(rf_F1))])\n",
    "print()\n",
    "# rf_clf[rf_F1.index(max(rf_F1))].get_params()\n",
    "print()\n",
    "feature_importance(rf_clf[rf_F1.index(max(rf_F1))])\n",
    "arrange(rf_df[rf_F1.index(max(rf_F1))])"
   ]
  },
  {
   "cell_type": "code",
   "execution_count": 38,
   "id": "95b9bb06",
   "metadata": {},
   "outputs": [
    {
     "data": {
      "image/png": "[encoded data removed]",
      "text/plain": [
       "<Figure size 1080x1080 with 1 Axes>"
      ]
     },
     "metadata": {},
     "output_type": "display_data"
    }
   ],
   "source": [
    "map_visualization(rf_df[2])"
   ]
  },
  {
   "cell_type": "code",
   "execution_count": null,
   "id": "6c1ae2e9",
   "metadata": {},
   "outputs": [],
   "source": []
  },
  {
   "cell_type": "code",
   "execution_count": null,
   "id": "bdcc6e68",
   "metadata": {},
   "outputs": [],
   "source": []
  }
 ],
 "metadata": {
  "kernelspec": {
   "display_name": "Python 3 (ipykernel)",
   "language": "python",
   "name": "python3"
  },
  "language_info": {
   "codemirror_mode": {
    "name": "ipython",
    "version": 3
   },
   "file_extension": ".py",
   "mimetype": "text/x-python",
   "name": "python",
   "nbconvert_exporter": "python",
   "pygments_lexer": "ipython3",
   "version": "3.9.12"
  }
 },
 "nbformat": 4,
 "nbformat_minor": 5
}
