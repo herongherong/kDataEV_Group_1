{
 "cells": [
  {
   "cell_type": "code",
   "execution_count": 101,
   "id": "7198d37f",
   "metadata": {},
   "outputs": [],
   "source": [
    "import warnings\n",
    "warnings.filterwarnings('ignore')"
   ]
  },
  {
   "cell_type": "code",
   "execution_count": 102,
   "id": "ca00e640",
   "metadata": {},
   "outputs": [],
   "source": [
    "# 지도 데이터 분석 라이브러리\n",
    "import fiona\n",
    "import geopandas\n",
    "\n",
    "# 데이터 분석 라이브러리\n",
    "import pandas as pd\n",
    "import numpy as np\n",
    "import os\n",
    "\n",
    "# 데이터 시각화 라이브러리\n",
    "import matplotlib.pyplot as plt\n",
    "import matplotlib as mpl\n",
    "from matplotlib.pyplot import style\n",
    "import seaborn as sns\n",
    "import folium\n",
    "from folium.plugins import HeatMap\n",
    "\n",
    "# 머신러닝 라이브러리\n",
    "from sklearn.model_selection import train_test_split\n",
    "from sklearn.tree import DecisionTreeClassifier\n",
    "from sklearn.neighbors import KNeighborsClassifier\n",
    "from sklearn import ensemble\n",
    "from sklearn.model_selection import GridSearchCV\n",
    "from sklearn.model_selection import RandomizedSearchCV\n",
    "from sklearn.metrics import f1_score\n",
    "from sklearn.metrics import accuracy_score\n",
    "from sklearn.metrics import recall_score\n",
    "from sklearn.metrics import precision_score\n",
    "from sklearn.metrics import fbeta_score\n",
    "from sklearn.metrics import make_scorer"
   ]
  },
  {
   "cell_type": "code",
   "execution_count": 103,
   "id": "d97de700",
   "metadata": {},
   "outputs": [],
   "source": [
    "# matplotlib 한글 지원 폰트 설정\n",
    "plt.rc(\"font\", family=\"Malgun Gothic\")"
   ]
  },
  {
   "cell_type": "code",
   "execution_count": 104,
   "id": "018adcd2",
   "metadata": {},
   "outputs": [
    {
     "name": "stdout",
     "output_type": "stream",
     "text": [
      "47396\n"
     ]
    },
    {
     "data": {
      "text/html": [
       "<div>\n",
       "<style scoped>\n",
       "    .dataframe tbody tr th:only-of-type {\n",
       "        vertical-align: middle;\n",
       "    }\n",
       "\n",
       "    .dataframe tbody tr th {\n",
       "        vertical-align: top;\n",
       "    }\n",
       "\n",
       "    .dataframe thead th {\n",
       "        text-align: right;\n",
       "    }\n",
       "</style>\n",
       "<table border=\"1\" class=\"dataframe\">\n",
       "  <thead>\n",
       "    <tr style=\"text-align: right;\">\n",
       "      <th></th>\n",
       "      <th>geometry</th>\n",
       "      <th>lat</th>\n",
       "      <th>lng</th>\n",
       "      <th>고저차</th>\n",
       "      <th>인구수</th>\n",
       "      <th>건축물수</th>\n",
       "      <th>주거용도면적</th>\n",
       "      <th>건축물높이</th>\n",
       "      <th>건축물연면적</th>\n",
       "      <th>주차장수</th>\n",
       "      <th>교육연구시설</th>\n",
       "      <th>주거지</th>\n",
       "      <th>농축산업시설</th>\n",
       "      <th>창고시설</th>\n",
       "      <th>편의시설</th>\n",
       "      <th>생산시설</th>\n",
       "      <th>님비시설</th>\n",
       "      <th>자동차관련시설</th>\n",
       "      <th>EV</th>\n",
       "    </tr>\n",
       "  </thead>\n",
       "  <tbody>\n",
       "    <tr>\n",
       "      <th>0</th>\n",
       "      <td>POLYGON ((977800.00000 1828600.00000, 977800.0...</td>\n",
       "      <td>36.455719</td>\n",
       "      <td>127.251282</td>\n",
       "      <td>24.869</td>\n",
       "      <td>0</td>\n",
       "      <td>1</td>\n",
       "      <td>83.64</td>\n",
       "      <td>0.00</td>\n",
       "      <td>83.64</td>\n",
       "      <td>0</td>\n",
       "      <td>0</td>\n",
       "      <td>0</td>\n",
       "      <td>0</td>\n",
       "      <td>0</td>\n",
       "      <td>0</td>\n",
       "      <td>0</td>\n",
       "      <td>0</td>\n",
       "      <td>0</td>\n",
       "      <td>0</td>\n",
       "    </tr>\n",
       "    <tr>\n",
       "      <th>1</th>\n",
       "      <td>POLYGON ((990100.00000 1837300.00000, 990100.0...</td>\n",
       "      <td>36.533877</td>\n",
       "      <td>127.387655</td>\n",
       "      <td>25.167</td>\n",
       "      <td>0</td>\n",
       "      <td>1</td>\n",
       "      <td>208.91</td>\n",
       "      <td>7.80</td>\n",
       "      <td>198.71</td>\n",
       "      <td>0</td>\n",
       "      <td>0</td>\n",
       "      <td>0</td>\n",
       "      <td>0</td>\n",
       "      <td>0</td>\n",
       "      <td>0</td>\n",
       "      <td>0</td>\n",
       "      <td>0</td>\n",
       "      <td>0</td>\n",
       "      <td>0</td>\n",
       "    </tr>\n",
       "    <tr>\n",
       "      <th>2</th>\n",
       "      <td>POLYGON ((980600.00000 1843000.00000, 980600.0...</td>\n",
       "      <td>36.585083</td>\n",
       "      <td>127.282326</td>\n",
       "      <td>24.825</td>\n",
       "      <td>27</td>\n",
       "      <td>4</td>\n",
       "      <td>99.70</td>\n",
       "      <td>6.43</td>\n",
       "      <td>99.25</td>\n",
       "      <td>0</td>\n",
       "      <td>0</td>\n",
       "      <td>0</td>\n",
       "      <td>0</td>\n",
       "      <td>0</td>\n",
       "      <td>0</td>\n",
       "      <td>0</td>\n",
       "      <td>0</td>\n",
       "      <td>0</td>\n",
       "      <td>0</td>\n",
       "    </tr>\n",
       "    <tr>\n",
       "      <th>3</th>\n",
       "      <td>POLYGON ((983800.00000 1830600.00000, 983800.0...</td>\n",
       "      <td>36.473686</td>\n",
       "      <td>127.317805</td>\n",
       "      <td>25.007</td>\n",
       "      <td>0</td>\n",
       "      <td>3</td>\n",
       "      <td>123.00</td>\n",
       "      <td>5.37</td>\n",
       "      <td>277.76</td>\n",
       "      <td>0</td>\n",
       "      <td>0</td>\n",
       "      <td>0</td>\n",
       "      <td>0</td>\n",
       "      <td>0</td>\n",
       "      <td>0</td>\n",
       "      <td>0</td>\n",
       "      <td>0</td>\n",
       "      <td>0</td>\n",
       "      <td>0</td>\n",
       "    </tr>\n",
       "    <tr>\n",
       "      <th>4</th>\n",
       "      <td>POLYGON ((969300.00000 1857700.00000, 969300.0...</td>\n",
       "      <td>36.717142</td>\n",
       "      <td>127.157040</td>\n",
       "      <td>24.447</td>\n",
       "      <td>27</td>\n",
       "      <td>20</td>\n",
       "      <td>77.54</td>\n",
       "      <td>8.25</td>\n",
       "      <td>123.95</td>\n",
       "      <td>0</td>\n",
       "      <td>0</td>\n",
       "      <td>0</td>\n",
       "      <td>0</td>\n",
       "      <td>0</td>\n",
       "      <td>0</td>\n",
       "      <td>0</td>\n",
       "      <td>0</td>\n",
       "      <td>0</td>\n",
       "      <td>0</td>\n",
       "    </tr>\n",
       "  </tbody>\n",
       "</table>\n",
       "</div>"
      ],
      "text/plain": [
       "                                            geometry        lat         lng  \\\n",
       "0  POLYGON ((977800.00000 1828600.00000, 977800.0...  36.455719  127.251282   \n",
       "1  POLYGON ((990100.00000 1837300.00000, 990100.0...  36.533877  127.387655   \n",
       "2  POLYGON ((980600.00000 1843000.00000, 980600.0...  36.585083  127.282326   \n",
       "3  POLYGON ((983800.00000 1830600.00000, 983800.0...  36.473686  127.317805   \n",
       "4  POLYGON ((969300.00000 1857700.00000, 969300.0...  36.717142  127.157040   \n",
       "\n",
       "      고저차  인구수  건축물수  주거용도면적  건축물높이  건축물연면적  주차장수  교육연구시설  주거지  농축산업시설  창고시설  \\\n",
       "0  24.869    0     1   83.64   0.00   83.64     0       0    0       0     0   \n",
       "1  25.167    0     1  208.91   7.80  198.71     0       0    0       0     0   \n",
       "2  24.825   27     4   99.70   6.43   99.25     0       0    0       0     0   \n",
       "3  25.007    0     3  123.00   5.37  277.76     0       0    0       0     0   \n",
       "4  24.447   27    20   77.54   8.25  123.95     0       0    0       0     0   \n",
       "\n",
       "   편의시설  생산시설  님비시설  자동차관련시설  EV  \n",
       "0     0     0     0        0   0  \n",
       "1     0     0     0        0   0  \n",
       "2     0     0     0        0   0  \n",
       "3     0     0     0        0   0  \n",
       "4     0     0     0        0   0  "
      ]
     },
     "execution_count": 104,
     "metadata": {},
     "output_type": "execute_result"
    }
   ],
   "source": [
    "sejong = geopandas.read_file('./dataset/전처리후/세종/merge_9.geojson', encoding='utf-8')\n",
    "sejong = sejong[['geometry', 'lat', 'lng', '고저차', '인구수', '건축물수', '주거용도면적', '건축물높이', '건축물연면적', '주차장수', '교육연구시설', '주거지', '농축산업시설', '창고시설',\n",
    "       '편의시설', '생산시설', '님비시설', '자동차관련시설', 'EV']]\n",
    "\n",
    "print(len(sejong))\n",
    "sejong.head()"
   ]
  },
  {
   "cell_type": "code",
   "execution_count": 105,
   "id": "51834d1f",
   "metadata": {},
   "outputs": [
    {
     "name": "stdout",
     "output_type": "stream",
     "text": [
      "134846\n"
     ]
    },
    {
     "data": {
      "text/html": [
       "<div>\n",
       "<style scoped>\n",
       "    .dataframe tbody tr th:only-of-type {\n",
       "        vertical-align: middle;\n",
       "    }\n",
       "\n",
       "    .dataframe tbody tr th {\n",
       "        vertical-align: top;\n",
       "    }\n",
       "\n",
       "    .dataframe thead th {\n",
       "        text-align: right;\n",
       "    }\n",
       "</style>\n",
       "<table border=\"1\" class=\"dataframe\">\n",
       "  <thead>\n",
       "    <tr style=\"text-align: right;\">\n",
       "      <th></th>\n",
       "      <th>geometry</th>\n",
       "      <th>lat</th>\n",
       "      <th>lng</th>\n",
       "      <th>고저차</th>\n",
       "      <th>인구수</th>\n",
       "      <th>건축물수</th>\n",
       "      <th>주거용도면적</th>\n",
       "      <th>건축물높이</th>\n",
       "      <th>건축물연면적</th>\n",
       "      <th>주차장수</th>\n",
       "      <th>교육연구시설</th>\n",
       "      <th>주거지</th>\n",
       "      <th>농축산업시설</th>\n",
       "      <th>창고시설</th>\n",
       "      <th>편의시설</th>\n",
       "      <th>생산시설</th>\n",
       "      <th>님비시설</th>\n",
       "      <th>자동차관련시설</th>\n",
       "      <th>EV</th>\n",
       "    </tr>\n",
       "  </thead>\n",
       "  <tbody>\n",
       "    <tr>\n",
       "      <th>0</th>\n",
       "      <td>POLYGON ((1098300.00000 1762500.00000, 1098300...</td>\n",
       "      <td>35.861902</td>\n",
       "      <td>128.587298</td>\n",
       "      <td>28.786</td>\n",
       "      <td>124.0</td>\n",
       "      <td>18.0</td>\n",
       "      <td>473.52</td>\n",
       "      <td>9.97</td>\n",
       "      <td>452.73</td>\n",
       "      <td>0</td>\n",
       "      <td>0</td>\n",
       "      <td>0</td>\n",
       "      <td>0</td>\n",
       "      <td>0</td>\n",
       "      <td>0</td>\n",
       "      <td>0</td>\n",
       "      <td>0</td>\n",
       "      <td>0</td>\n",
       "      <td>0</td>\n",
       "    </tr>\n",
       "    <tr>\n",
       "      <th>1</th>\n",
       "      <td>POLYGON ((1095800.00000 1760400.00000, 1095800...</td>\n",
       "      <td>35.843036</td>\n",
       "      <td>128.559580</td>\n",
       "      <td>28.763</td>\n",
       "      <td>298.0</td>\n",
       "      <td>47.0</td>\n",
       "      <td>215.99</td>\n",
       "      <td>8.83</td>\n",
       "      <td>213.95</td>\n",
       "      <td>0</td>\n",
       "      <td>0</td>\n",
       "      <td>0</td>\n",
       "      <td>0</td>\n",
       "      <td>0</td>\n",
       "      <td>0</td>\n",
       "      <td>0</td>\n",
       "      <td>0</td>\n",
       "      <td>0</td>\n",
       "      <td>0</td>\n",
       "    </tr>\n",
       "    <tr>\n",
       "      <th>2</th>\n",
       "      <td>POLYGON ((1099700.00000 1760500.00000, 1099700...</td>\n",
       "      <td>35.843935</td>\n",
       "      <td>128.602820</td>\n",
       "      <td>28.865</td>\n",
       "      <td>173.0</td>\n",
       "      <td>6.0</td>\n",
       "      <td>263.28</td>\n",
       "      <td>19.39</td>\n",
       "      <td>1323.18</td>\n",
       "      <td>0</td>\n",
       "      <td>0</td>\n",
       "      <td>0</td>\n",
       "      <td>0</td>\n",
       "      <td>0</td>\n",
       "      <td>0</td>\n",
       "      <td>0</td>\n",
       "      <td>0</td>\n",
       "      <td>0</td>\n",
       "      <td>0</td>\n",
       "    </tr>\n",
       "    <tr>\n",
       "      <th>3</th>\n",
       "      <td>POLYGON ((1096100.00000 1760200.00000, 1096100...</td>\n",
       "      <td>35.841240</td>\n",
       "      <td>128.562906</td>\n",
       "      <td>28.777</td>\n",
       "      <td>166.0</td>\n",
       "      <td>34.0</td>\n",
       "      <td>201.79</td>\n",
       "      <td>8.20</td>\n",
       "      <td>213.84</td>\n",
       "      <td>0</td>\n",
       "      <td>0</td>\n",
       "      <td>0</td>\n",
       "      <td>0</td>\n",
       "      <td>0</td>\n",
       "      <td>0</td>\n",
       "      <td>0</td>\n",
       "      <td>0</td>\n",
       "      <td>0</td>\n",
       "      <td>0</td>\n",
       "    </tr>\n",
       "    <tr>\n",
       "      <th>4</th>\n",
       "      <td>POLYGON ((1099900.00000 1762300.00000, 1099900...</td>\n",
       "      <td>35.860105</td>\n",
       "      <td>128.605038</td>\n",
       "      <td>28.832</td>\n",
       "      <td>438.0</td>\n",
       "      <td>2.0</td>\n",
       "      <td>0.00</td>\n",
       "      <td>54.80</td>\n",
       "      <td>8614.43</td>\n",
       "      <td>0</td>\n",
       "      <td>0</td>\n",
       "      <td>0</td>\n",
       "      <td>0</td>\n",
       "      <td>0</td>\n",
       "      <td>0</td>\n",
       "      <td>0</td>\n",
       "      <td>0</td>\n",
       "      <td>0</td>\n",
       "      <td>0</td>\n",
       "    </tr>\n",
       "  </tbody>\n",
       "</table>\n",
       "</div>"
      ],
      "text/plain": [
       "                                            geometry        lat         lng  \\\n",
       "0  POLYGON ((1098300.00000 1762500.00000, 1098300...  35.861902  128.587298   \n",
       "1  POLYGON ((1095800.00000 1760400.00000, 1095800...  35.843036  128.559580   \n",
       "2  POLYGON ((1099700.00000 1760500.00000, 1099700...  35.843935  128.602820   \n",
       "3  POLYGON ((1096100.00000 1760200.00000, 1096100...  35.841240  128.562906   \n",
       "4  POLYGON ((1099900.00000 1762300.00000, 1099900...  35.860105  128.605038   \n",
       "\n",
       "      고저차    인구수  건축물수  주거용도면적  건축물높이   건축물연면적  주차장수  교육연구시설  주거지  농축산업시설  \\\n",
       "0  28.786  124.0  18.0  473.52   9.97   452.73     0       0    0       0   \n",
       "1  28.763  298.0  47.0  215.99   8.83   213.95     0       0    0       0   \n",
       "2  28.865  173.0   6.0  263.28  19.39  1323.18     0       0    0       0   \n",
       "3  28.777  166.0  34.0  201.79   8.20   213.84     0       0    0       0   \n",
       "4  28.832  438.0   2.0    0.00  54.80  8614.43     0       0    0       0   \n",
       "\n",
       "   창고시설  편의시설  생산시설  님비시설  자동차관련시설  EV  \n",
       "0     0     0     0     0        0   0  \n",
       "1     0     0     0     0        0   0  \n",
       "2     0     0     0     0        0   0  \n",
       "3     0     0     0     0        0   0  \n",
       "4     0     0     0     0        0   0  "
      ]
     },
     "execution_count": 105,
     "metadata": {},
     "output_type": "execute_result"
    }
   ],
   "source": [
    "daegu = geopandas.read_file('./dataset/전처리후/대구/merge_9.geojson', encoding='utf-8')\n",
    "daegu = daegu[['geometry', 'lat', 'lng', '고저차', '인구수', '건축물수', '주거용도면적', '건축물높이', '건축물연면적', '주차장수', '교육연구시설', '주거지', '농축산업시설', '창고시설',\n",
    "       '편의시설', '생산시설', '님비시설', '자동차관련시설', 'EV']]\n",
    "\n",
    "print(len(daegu))\n",
    "daegu.head()"
   ]
  },
  {
   "cell_type": "code",
   "execution_count": 106,
   "id": "309d0828",
   "metadata": {},
   "outputs": [
    {
     "name": "stdout",
     "output_type": "stream",
     "text": [
      "92051\n"
     ]
    },
    {
     "data": {
      "text/html": [
       "<div>\n",
       "<style scoped>\n",
       "    .dataframe tbody tr th:only-of-type {\n",
       "        vertical-align: middle;\n",
       "    }\n",
       "\n",
       "    .dataframe tbody tr th {\n",
       "        vertical-align: top;\n",
       "    }\n",
       "\n",
       "    .dataframe thead th {\n",
       "        text-align: right;\n",
       "    }\n",
       "</style>\n",
       "<table border=\"1\" class=\"dataframe\">\n",
       "  <thead>\n",
       "    <tr style=\"text-align: right;\">\n",
       "      <th></th>\n",
       "      <th>geometry</th>\n",
       "      <th>lat</th>\n",
       "      <th>lng</th>\n",
       "      <th>고저차</th>\n",
       "      <th>인구수</th>\n",
       "      <th>건축물수</th>\n",
       "      <th>주거용도면적</th>\n",
       "      <th>건축물높이</th>\n",
       "      <th>건축물연면적</th>\n",
       "      <th>주차장수</th>\n",
       "      <th>교육연구시설</th>\n",
       "      <th>주거지</th>\n",
       "      <th>농축산업시설</th>\n",
       "      <th>창고시설</th>\n",
       "      <th>편의시설</th>\n",
       "      <th>생산시설</th>\n",
       "      <th>님비시설</th>\n",
       "      <th>자동차관련시설</th>\n",
       "      <th>EV</th>\n",
       "    </tr>\n",
       "  </thead>\n",
       "  <tbody>\n",
       "    <tr>\n",
       "      <th>0</th>\n",
       "      <td>POLYGON ((992800.00000 1826000.00000, 992800.0...</td>\n",
       "      <td>36.432362</td>\n",
       "      <td>127.417591</td>\n",
       "      <td>25.355</td>\n",
       "      <td>77.0</td>\n",
       "      <td>8.0</td>\n",
       "      <td>107.63</td>\n",
       "      <td>10.78</td>\n",
       "      <td>1488.43</td>\n",
       "      <td>0</td>\n",
       "      <td>0</td>\n",
       "      <td>0</td>\n",
       "      <td>0</td>\n",
       "      <td>0</td>\n",
       "      <td>0</td>\n",
       "      <td>0</td>\n",
       "      <td>0</td>\n",
       "      <td>0</td>\n",
       "      <td>0</td>\n",
       "    </tr>\n",
       "    <tr>\n",
       "      <th>1</th>\n",
       "      <td>POLYGON ((993300.00000 1822700.00000, 993300.0...</td>\n",
       "      <td>36.402716</td>\n",
       "      <td>127.423134</td>\n",
       "      <td>25.429</td>\n",
       "      <td>286.0</td>\n",
       "      <td>1.0</td>\n",
       "      <td>0.00</td>\n",
       "      <td>0.00</td>\n",
       "      <td>9653.28</td>\n",
       "      <td>0</td>\n",
       "      <td>0</td>\n",
       "      <td>0</td>\n",
       "      <td>0</td>\n",
       "      <td>0</td>\n",
       "      <td>0</td>\n",
       "      <td>0</td>\n",
       "      <td>0</td>\n",
       "      <td>0</td>\n",
       "      <td>0</td>\n",
       "    </tr>\n",
       "    <tr>\n",
       "      <th>2</th>\n",
       "      <td>POLYGON ((992800.00000 1827500.00000, 992800.0...</td>\n",
       "      <td>36.445837</td>\n",
       "      <td>127.417591</td>\n",
       "      <td>25.335</td>\n",
       "      <td>81.0</td>\n",
       "      <td>18.0</td>\n",
       "      <td>147.06</td>\n",
       "      <td>7.18</td>\n",
       "      <td>172.82</td>\n",
       "      <td>0</td>\n",
       "      <td>0</td>\n",
       "      <td>0</td>\n",
       "      <td>0</td>\n",
       "      <td>0</td>\n",
       "      <td>0</td>\n",
       "      <td>0</td>\n",
       "      <td>0</td>\n",
       "      <td>0</td>\n",
       "      <td>0</td>\n",
       "    </tr>\n",
       "    <tr>\n",
       "      <th>3</th>\n",
       "      <td>POLYGON ((993500.00000 1817300.00000, 993500.0...</td>\n",
       "      <td>36.354204</td>\n",
       "      <td>127.425352</td>\n",
       "      <td>25.501</td>\n",
       "      <td>32.0</td>\n",
       "      <td>3.0</td>\n",
       "      <td>160.56</td>\n",
       "      <td>14.55</td>\n",
       "      <td>678.61</td>\n",
       "      <td>0</td>\n",
       "      <td>0</td>\n",
       "      <td>0</td>\n",
       "      <td>0</td>\n",
       "      <td>0</td>\n",
       "      <td>0</td>\n",
       "      <td>0</td>\n",
       "      <td>0</td>\n",
       "      <td>0</td>\n",
       "      <td>0</td>\n",
       "    </tr>\n",
       "    <tr>\n",
       "      <th>4</th>\n",
       "      <td>POLYGON ((993500.00000 1817300.00000, 993500.0...</td>\n",
       "      <td>36.354204</td>\n",
       "      <td>127.425352</td>\n",
       "      <td>25.501</td>\n",
       "      <td>32.0</td>\n",
       "      <td>3.0</td>\n",
       "      <td>160.56</td>\n",
       "      <td>14.55</td>\n",
       "      <td>7751.35</td>\n",
       "      <td>0</td>\n",
       "      <td>0</td>\n",
       "      <td>0</td>\n",
       "      <td>0</td>\n",
       "      <td>0</td>\n",
       "      <td>0</td>\n",
       "      <td>0</td>\n",
       "      <td>0</td>\n",
       "      <td>0</td>\n",
       "      <td>0</td>\n",
       "    </tr>\n",
       "  </tbody>\n",
       "</table>\n",
       "</div>"
      ],
      "text/plain": [
       "                                            geometry        lat         lng  \\\n",
       "0  POLYGON ((992800.00000 1826000.00000, 992800.0...  36.432362  127.417591   \n",
       "1  POLYGON ((993300.00000 1822700.00000, 993300.0...  36.402716  127.423134   \n",
       "2  POLYGON ((992800.00000 1827500.00000, 992800.0...  36.445837  127.417591   \n",
       "3  POLYGON ((993500.00000 1817300.00000, 993500.0...  36.354204  127.425352   \n",
       "4  POLYGON ((993500.00000 1817300.00000, 993500.0...  36.354204  127.425352   \n",
       "\n",
       "      고저차    인구수  건축물수  주거용도면적  건축물높이   건축물연면적  주차장수  교육연구시설  주거지  농축산업시설  \\\n",
       "0  25.355   77.0   8.0  107.63  10.78  1488.43     0       0    0       0   \n",
       "1  25.429  286.0   1.0    0.00   0.00  9653.28     0       0    0       0   \n",
       "2  25.335   81.0  18.0  147.06   7.18   172.82     0       0    0       0   \n",
       "3  25.501   32.0   3.0  160.56  14.55   678.61     0       0    0       0   \n",
       "4  25.501   32.0   3.0  160.56  14.55  7751.35     0       0    0       0   \n",
       "\n",
       "   창고시설  편의시설  생산시설  님비시설  자동차관련시설  EV  \n",
       "0     0     0     0     0        0   0  \n",
       "1     0     0     0     0        0   0  \n",
       "2     0     0     0     0        0   0  \n",
       "3     0     0     0     0        0   0  \n",
       "4     0     0     0     0        0   0  "
      ]
     },
     "execution_count": 106,
     "metadata": {},
     "output_type": "execute_result"
    }
   ],
   "source": [
    "daejeon = geopandas.read_file('./dataset/전처리후/대전/merge_9.geojson', encoding='utf-8')\n",
    "daejeon = daejeon[['geometry', 'lat', 'lng', '고저차', '인구수', '건축물수', '주거용도면적', '건축물높이', '건축물연면적', '주차장수', '교육연구시설', '주거지', '농축산업시설', '창고시설',\n",
    "       '편의시설', '생산시설', '님비시설', '자동차관련시설', 'EV']]\n",
    "\n",
    "print(len(daejeon))\n",
    "daejeon.head()"
   ]
  },
  {
   "cell_type": "markdown",
   "id": "1677e6d5",
   "metadata": {},
   "source": [
    "### 세종시로 학습 후 세종시를 분류"
   ]
  },
  {
   "cell_type": "code",
   "execution_count": 90,
   "id": "018eec0e",
   "metadata": {},
   "outputs": [],
   "source": [
    "from sklearn.model_selection import train_test_split\n",
    "train_data, test_data, train_target, test_target = train_test_split(sejong[sejong.columns[1:-1]], sejong[sejong.columns[-1]])"
   ]
  },
  {
   "cell_type": "code",
   "execution_count": 91,
   "id": "463120af",
   "metadata": {},
   "outputs": [
    {
     "name": "stdout",
     "output_type": "stream",
     "text": [
      "Fitting 5 folds for each of 192 candidates, totalling 960 fits\n",
      "\n",
      "best_params : {'max_depth': 15, 'max_features': 14, 'n_estimators': 10}\n",
      "best_score : 0.052435787863793805\n",
      "\n",
      "실제 충전소 수 : 276\n",
      "충전소가 있어야 한다고 분류한 타일 수 : 12\n",
      "recall score(True Positive) 실제 충전소가 맞는 지 맞춘 경우 : 3 / 276\n",
      "최적 입지 후보 : 9 / 47120\n"
     ]
    },
    {
     "data": {
      "image/png": "[encoded data removed]",
      "text/plain": [
       "<Figure size 1080x1080 with 1 Axes>"
      ]
     },
     "metadata": {},
     "output_type": "display_data"
    }
   ],
   "source": [
    "dists = {\n",
    "    'max_depth' : [3,5,10,15,20,30,50,100],\n",
    "    'max_features' : [3,5,7,9,11,14], \n",
    "    'n_estimators' : [10,20,30,50],\n",
    "    #'class_weight' : [{0:1.3, 1:8.7}]\n",
    "}\n",
    "\n",
    "RandomForest(dists, train_data, train_target, test_data, test_target)"
   ]
  },
  {
   "cell_type": "code",
   "execution_count": null,
   "id": "c2e22367",
   "metadata": {},
   "outputs": [],
   "source": []
  },
  {
   "cell_type": "code",
   "execution_count": null,
   "id": "f3ac309f",
   "metadata": {},
   "outputs": [],
   "source": []
  },
  {
   "cell_type": "code",
   "execution_count": null,
   "id": "5a6ccaf6",
   "metadata": {},
   "outputs": [],
   "source": []
  },
  {
   "cell_type": "code",
   "execution_count": null,
   "id": "9a27b9b3",
   "metadata": {},
   "outputs": [],
   "source": []
  },
  {
   "cell_type": "markdown",
   "id": "d1dadf13",
   "metadata": {},
   "source": [
    "### 대전+대구 데이터로 학습"
   ]
  },
  {
   "cell_type": "markdown",
   "id": "d6731323",
   "metadata": {},
   "source": [
    "### data / target 분리"
   ]
  },
  {
   "cell_type": "code",
   "execution_count": 9,
   "id": "89f1da1f",
   "metadata": {},
   "outputs": [
    {
     "name": "stdout",
     "output_type": "stream",
     "text": [
      "226897\n"
     ]
    },
    {
     "data": {
      "text/html": [
       "<div>\n",
       "<style scoped>\n",
       "    .dataframe tbody tr th:only-of-type {\n",
       "        vertical-align: middle;\n",
       "    }\n",
       "\n",
       "    .dataframe tbody tr th {\n",
       "        vertical-align: top;\n",
       "    }\n",
       "\n",
       "    .dataframe thead th {\n",
       "        text-align: right;\n",
       "    }\n",
       "</style>\n",
       "<table border=\"1\" class=\"dataframe\">\n",
       "  <thead>\n",
       "    <tr style=\"text-align: right;\">\n",
       "      <th></th>\n",
       "      <th>lat</th>\n",
       "      <th>lng</th>\n",
       "      <th>고저차</th>\n",
       "      <th>인구수</th>\n",
       "      <th>건축물수</th>\n",
       "      <th>주거용도면적</th>\n",
       "      <th>건축물높이</th>\n",
       "      <th>건축물연면적</th>\n",
       "      <th>주차장수</th>\n",
       "      <th>교육연구시설</th>\n",
       "      <th>주거지</th>\n",
       "      <th>농축산업시설</th>\n",
       "      <th>창고시설</th>\n",
       "      <th>편의시설</th>\n",
       "      <th>생산시설</th>\n",
       "      <th>님비시설</th>\n",
       "      <th>자동차관련시설</th>\n",
       "    </tr>\n",
       "  </thead>\n",
       "  <tbody>\n",
       "    <tr>\n",
       "      <th>0</th>\n",
       "      <td>35.861902</td>\n",
       "      <td>128.587298</td>\n",
       "      <td>28.786</td>\n",
       "      <td>124.0</td>\n",
       "      <td>18.0</td>\n",
       "      <td>473.52</td>\n",
       "      <td>9.97</td>\n",
       "      <td>452.73</td>\n",
       "      <td>0</td>\n",
       "      <td>0</td>\n",
       "      <td>0</td>\n",
       "      <td>0</td>\n",
       "      <td>0</td>\n",
       "      <td>0</td>\n",
       "      <td>0</td>\n",
       "      <td>0</td>\n",
       "      <td>0</td>\n",
       "    </tr>\n",
       "    <tr>\n",
       "      <th>1</th>\n",
       "      <td>35.843036</td>\n",
       "      <td>128.559580</td>\n",
       "      <td>28.763</td>\n",
       "      <td>298.0</td>\n",
       "      <td>47.0</td>\n",
       "      <td>215.99</td>\n",
       "      <td>8.83</td>\n",
       "      <td>213.95</td>\n",
       "      <td>0</td>\n",
       "      <td>0</td>\n",
       "      <td>0</td>\n",
       "      <td>0</td>\n",
       "      <td>0</td>\n",
       "      <td>0</td>\n",
       "      <td>0</td>\n",
       "      <td>0</td>\n",
       "      <td>0</td>\n",
       "    </tr>\n",
       "    <tr>\n",
       "      <th>2</th>\n",
       "      <td>35.843935</td>\n",
       "      <td>128.602820</td>\n",
       "      <td>28.865</td>\n",
       "      <td>173.0</td>\n",
       "      <td>6.0</td>\n",
       "      <td>263.28</td>\n",
       "      <td>19.39</td>\n",
       "      <td>1323.18</td>\n",
       "      <td>0</td>\n",
       "      <td>0</td>\n",
       "      <td>0</td>\n",
       "      <td>0</td>\n",
       "      <td>0</td>\n",
       "      <td>0</td>\n",
       "      <td>0</td>\n",
       "      <td>0</td>\n",
       "      <td>0</td>\n",
       "    </tr>\n",
       "    <tr>\n",
       "      <th>3</th>\n",
       "      <td>35.841240</td>\n",
       "      <td>128.562906</td>\n",
       "      <td>28.777</td>\n",
       "      <td>166.0</td>\n",
       "      <td>34.0</td>\n",
       "      <td>201.79</td>\n",
       "      <td>8.20</td>\n",
       "      <td>213.84</td>\n",
       "      <td>0</td>\n",
       "      <td>0</td>\n",
       "      <td>0</td>\n",
       "      <td>0</td>\n",
       "      <td>0</td>\n",
       "      <td>0</td>\n",
       "      <td>0</td>\n",
       "      <td>0</td>\n",
       "      <td>0</td>\n",
       "    </tr>\n",
       "    <tr>\n",
       "      <th>4</th>\n",
       "      <td>35.860105</td>\n",
       "      <td>128.605038</td>\n",
       "      <td>28.832</td>\n",
       "      <td>438.0</td>\n",
       "      <td>2.0</td>\n",
       "      <td>0.00</td>\n",
       "      <td>54.80</td>\n",
       "      <td>8614.43</td>\n",
       "      <td>0</td>\n",
       "      <td>0</td>\n",
       "      <td>0</td>\n",
       "      <td>0</td>\n",
       "      <td>0</td>\n",
       "      <td>0</td>\n",
       "      <td>0</td>\n",
       "      <td>0</td>\n",
       "      <td>0</td>\n",
       "    </tr>\n",
       "  </tbody>\n",
       "</table>\n",
       "</div>"
      ],
      "text/plain": [
       "         lat         lng     고저차    인구수  건축물수  주거용도면적  건축물높이   건축물연면적  주차장수  \\\n",
       "0  35.861902  128.587298  28.786  124.0  18.0  473.52   9.97   452.73     0   \n",
       "1  35.843036  128.559580  28.763  298.0  47.0  215.99   8.83   213.95     0   \n",
       "2  35.843935  128.602820  28.865  173.0   6.0  263.28  19.39  1323.18     0   \n",
       "3  35.841240  128.562906  28.777  166.0  34.0  201.79   8.20   213.84     0   \n",
       "4  35.860105  128.605038  28.832  438.0   2.0    0.00  54.80  8614.43     0   \n",
       "\n",
       "   교육연구시설  주거지  농축산업시설  창고시설  편의시설  생산시설  님비시설  자동차관련시설  \n",
       "0       0    0       0     0     0     0     0        0  \n",
       "1       0    0       0     0     0     0     0        0  \n",
       "2       0    0       0     0     0     0     0        0  \n",
       "3       0    0       0     0     0     0     0        0  \n",
       "4       0    0       0     0     0     0     0        0  "
      ]
     },
     "execution_count": 9,
     "metadata": {},
     "output_type": "execute_result"
    }
   ],
   "source": [
    "train_data = pd.concat([daegu[daegu.columns[1:-1]], daejeon[daejeon.columns[1:-1]]])\n",
    "print(len(train_data))\n",
    "train_data.head()"
   ]
  },
  {
   "cell_type": "code",
   "execution_count": 10,
   "id": "a33214d3",
   "metadata": {
    "scrolled": true
   },
   "outputs": [
    {
     "data": {
      "image/png": "[encoded data removed]",
      "text/plain": [
       "<Figure size 432x288 with 1 Axes>"
      ]
     },
     "metadata": {
      "needs_background": "light"
     },
     "output_type": "display_data"
    },
    {
     "name": "stdout",
     "output_type": "stream",
     "text": [
      "0    224937\n",
      "1      1960\n",
      "Name: EV, dtype: int64\n"
     ]
    }
   ],
   "source": [
    "train_target = pd.concat([daegu[daegu.columns[-1]], daejeon[daejeon.columns[-1]]])\n",
    "\n",
    "plt.bar(train_target.unique(), train_target.value_counts())\n",
    "plt.xticks([0, 1])\n",
    "plt.show()\n",
    "print(train_target.value_counts())"
   ]
  },
  {
   "cell_type": "code",
   "execution_count": 11,
   "id": "2273cceb",
   "metadata": {},
   "outputs": [],
   "source": [
    "test_data = sejong[sejong.columns[1:-1]]\n",
    "test_target = sejong[sejong.columns[-1]]"
   ]
  },
  {
   "cell_type": "markdown",
   "id": "07f7950e",
   "metadata": {},
   "source": [
    "### 모델 비교"
   ]
  },
  {
   "cell_type": "markdown",
   "id": "cb27b676",
   "metadata": {},
   "source": [
    "### RandomForest"
   ]
  },
  {
   "cell_type": "code",
   "execution_count": 3,
   "id": "5578c1d0",
   "metadata": {},
   "outputs": [],
   "source": [
    "def RandomForest(dists, train_data, train_target, test_data, test_target):\n",
    "    clf = GridSearchCV(\n",
    "        ensemble.RandomForestClassifier(),\n",
    "        param_grid=dists, # 파라미터 입력\n",
    "        scoring='f1',  # 오차 평가방법\n",
    "        verbose=1,     # 진행상황\n",
    "        n_jobs=4\n",
    "      )\n",
    "\n",
    "    clf.fit(train_data, train_target)\n",
    "    \n",
    "    print()\n",
    "    print('best_params :', clf.best_params_)\n",
    "    print('best_score :', clf.best_score_)\n",
    "    print()\n",
    "    \n",
    "    pred = clf.predict(test_data)\n",
    "\n",
    "    temp = sejong.copy()\n",
    "    temp['pred'] = [0]*len(temp)\n",
    "    for i, idx in enumerate(test_data.index):\n",
    "        temp['pred'][idx] = pred[i]\n",
    "    #temp['pred'] = pred\n",
    "        \n",
    "    print('실제 충전소 수 :', len(temp[temp['EV']==1]))\n",
    "    print('충전소가 있어야 한다고 분류한 타일 수 :', len(temp[temp['pred']==1]))\n",
    "    print('recall score(True Positive) 실제 충전소가 맞는 지 맞춘 경우 :', len(temp[(temp['pred']==1) & (temp['EV']==1)]), '/', len(temp[temp['EV']==1]))\n",
    "    print('최적 입지 후보 :', len(temp[(temp['pred']==1) & (temp['EV']==0)]), '/', len(temp[temp['EV']==0]))\n",
    "    \n",
    "    idx = temp[(temp['EV'] == 0) & (temp['pred'] == 1)].index\n",
    "    for i in temp[temp['pred'] == 1].index:\n",
    "        temp['pred'].loc[i] = 0\n",
    "    for i in idx:\n",
    "        temp['pred'].loc[i] = 1\n",
    "\n",
    "    fig, ax1 = plt.subplots(figsize=(15, 15))\n",
    "    fig.set_facecolor('white')\n",
    "\n",
    "    sejong['geometry'].plot(ax=ax1, color='gainsboro')\n",
    "    sejong[sejong['EV']==1].plot(ax=ax1, column='EV', color='lime', aspect=1)\n",
    "    temp[temp['pred']==1].plot(ax=ax1, column='pred', color='red', aspect=1)\n",
    "    ax1.set_axis_off()\n",
    "    plt.show()"
   ]
  },
  {
   "cell_type": "code",
   "execution_count": 13,
   "id": "b53ecb65",
   "metadata": {},
   "outputs": [
    {
     "name": "stdout",
     "output_type": "stream",
     "text": [
      "Fitting 5 folds for each of 192 candidates, totalling 960 fits\n",
      "best_params : {'max_depth': 100, 'max_features': 14, 'n_estimators': 10}\n",
      "best_score : 0.03502863872627778\n",
      "실제 충전소 수 : 276\n",
      "충전소가 있어야 한다고 분류한 타일 수 : 6\n",
      "recall score(True Positive) 실제 충전소가 맞는 지 맞춘 경우 : 0 / 276\n",
      "최적 입지 후보 : 6 / 47120\n"
     ]
    },
    {
     "data": {
      "image/png": "[encoded data removed]",
      "text/plain": [
       "<Figure size 1080x1080 with 1 Axes>"
      ]
     },
     "metadata": {},
     "output_type": "display_data"
    }
   ],
   "source": [
    "dists = {\n",
    "    'max_depth' : [3,5,10,15,20,30,50,100],\n",
    "    'max_features' : [3,5,7,9,11,14], \n",
    "    'n_estimators' : [10,20,30,50],\n",
    "    #'class_weight' : [{0:1.3, 1:8.7}]\n",
    "}\n",
    "\n",
    "RandomForest(dists, train_data, train_target, test_data, test_target)"
   ]
  },
  {
   "cell_type": "markdown",
   "id": "a9956634",
   "metadata": {},
   "source": [
    "#### TP가 0으로 기존 충전소를 제대로 분류하지 못함."
   ]
  },
  {
   "cell_type": "markdown",
   "id": "e514756f",
   "metadata": {},
   "source": [
    "### 정규화"
   ]
  },
  {
   "cell_type": "code",
   "execution_count": 15,
   "id": "e3a9ce65",
   "metadata": {},
   "outputs": [
    {
     "data": {
      "text/html": [
       "<div>\n",
       "<style scoped>\n",
       "    .dataframe tbody tr th:only-of-type {\n",
       "        vertical-align: middle;\n",
       "    }\n",
       "\n",
       "    .dataframe tbody tr th {\n",
       "        vertical-align: top;\n",
       "    }\n",
       "\n",
       "    .dataframe thead th {\n",
       "        text-align: right;\n",
       "    }\n",
       "</style>\n",
       "<table border=\"1\" class=\"dataframe\">\n",
       "  <thead>\n",
       "    <tr style=\"text-align: right;\">\n",
       "      <th></th>\n",
       "      <th>geometry</th>\n",
       "      <th>lat</th>\n",
       "      <th>lng</th>\n",
       "      <th>고저차</th>\n",
       "      <th>인구수</th>\n",
       "      <th>건축물수</th>\n",
       "      <th>주거용도면적</th>\n",
       "      <th>건축물높이</th>\n",
       "      <th>건축물연면적</th>\n",
       "      <th>주차장수</th>\n",
       "      <th>교육연구시설</th>\n",
       "      <th>주거지</th>\n",
       "      <th>농축산업시설</th>\n",
       "      <th>창고시설</th>\n",
       "      <th>편의시설</th>\n",
       "      <th>생산시설</th>\n",
       "      <th>님비시설</th>\n",
       "      <th>자동차관련시설</th>\n",
       "      <th>EV</th>\n",
       "    </tr>\n",
       "  </thead>\n",
       "  <tbody>\n",
       "    <tr>\n",
       "      <th>0</th>\n",
       "      <td>POLYGON ((977800.00000 1828600.00000, 977800.0...</td>\n",
       "      <td>36.455719</td>\n",
       "      <td>127.251282</td>\n",
       "      <td>0.551724</td>\n",
       "      <td>0.00000</td>\n",
       "      <td>0.014706</td>\n",
       "      <td>0.090746</td>\n",
       "      <td>0.000000</td>\n",
       "      <td>0.000854</td>\n",
       "      <td>0</td>\n",
       "      <td>0</td>\n",
       "      <td>0</td>\n",
       "      <td>0</td>\n",
       "      <td>0</td>\n",
       "      <td>0</td>\n",
       "      <td>0</td>\n",
       "      <td>0</td>\n",
       "      <td>0</td>\n",
       "      <td>0</td>\n",
       "    </tr>\n",
       "    <tr>\n",
       "      <th>1</th>\n",
       "      <td>POLYGON ((990100.00000 1837300.00000, 990100.0...</td>\n",
       "      <td>36.533877</td>\n",
       "      <td>127.387655</td>\n",
       "      <td>0.894253</td>\n",
       "      <td>0.00000</td>\n",
       "      <td>0.014706</td>\n",
       "      <td>0.226660</td>\n",
       "      <td>0.064580</td>\n",
       "      <td>0.002029</td>\n",
       "      <td>0</td>\n",
       "      <td>0</td>\n",
       "      <td>0</td>\n",
       "      <td>0</td>\n",
       "      <td>0</td>\n",
       "      <td>0</td>\n",
       "      <td>0</td>\n",
       "      <td>0</td>\n",
       "      <td>0</td>\n",
       "      <td>0</td>\n",
       "    </tr>\n",
       "    <tr>\n",
       "      <th>2</th>\n",
       "      <td>POLYGON ((980600.00000 1843000.00000, 980600.0...</td>\n",
       "      <td>36.585083</td>\n",
       "      <td>127.282326</td>\n",
       "      <td>0.501149</td>\n",
       "      <td>0.01176</td>\n",
       "      <td>0.058824</td>\n",
       "      <td>0.108171</td>\n",
       "      <td>0.053237</td>\n",
       "      <td>0.001014</td>\n",
       "      <td>0</td>\n",
       "      <td>0</td>\n",
       "      <td>0</td>\n",
       "      <td>0</td>\n",
       "      <td>0</td>\n",
       "      <td>0</td>\n",
       "      <td>0</td>\n",
       "      <td>0</td>\n",
       "      <td>0</td>\n",
       "      <td>0</td>\n",
       "    </tr>\n",
       "    <tr>\n",
       "      <th>3</th>\n",
       "      <td>POLYGON ((983800.00000 1830600.00000, 983800.0...</td>\n",
       "      <td>36.473686</td>\n",
       "      <td>127.317805</td>\n",
       "      <td>0.710345</td>\n",
       "      <td>0.00000</td>\n",
       "      <td>0.044118</td>\n",
       "      <td>0.133451</td>\n",
       "      <td>0.044461</td>\n",
       "      <td>0.002836</td>\n",
       "      <td>0</td>\n",
       "      <td>0</td>\n",
       "      <td>0</td>\n",
       "      <td>0</td>\n",
       "      <td>0</td>\n",
       "      <td>0</td>\n",
       "      <td>0</td>\n",
       "      <td>0</td>\n",
       "      <td>0</td>\n",
       "      <td>0</td>\n",
       "    </tr>\n",
       "    <tr>\n",
       "      <th>4</th>\n",
       "      <td>POLYGON ((969300.00000 1857700.00000, 969300.0...</td>\n",
       "      <td>36.717142</td>\n",
       "      <td>127.157040</td>\n",
       "      <td>0.066667</td>\n",
       "      <td>0.01176</td>\n",
       "      <td>0.294118</td>\n",
       "      <td>0.084128</td>\n",
       "      <td>0.068306</td>\n",
       "      <td>0.001266</td>\n",
       "      <td>0</td>\n",
       "      <td>0</td>\n",
       "      <td>0</td>\n",
       "      <td>0</td>\n",
       "      <td>0</td>\n",
       "      <td>0</td>\n",
       "      <td>0</td>\n",
       "      <td>0</td>\n",
       "      <td>0</td>\n",
       "      <td>0</td>\n",
       "    </tr>\n",
       "  </tbody>\n",
       "</table>\n",
       "</div>"
      ],
      "text/plain": [
       "                                            geometry        lat         lng  \\\n",
       "0  POLYGON ((977800.00000 1828600.00000, 977800.0...  36.455719  127.251282   \n",
       "1  POLYGON ((990100.00000 1837300.00000, 990100.0...  36.533877  127.387655   \n",
       "2  POLYGON ((980600.00000 1843000.00000, 980600.0...  36.585083  127.282326   \n",
       "3  POLYGON ((983800.00000 1830600.00000, 983800.0...  36.473686  127.317805   \n",
       "4  POLYGON ((969300.00000 1857700.00000, 969300.0...  36.717142  127.157040   \n",
       "\n",
       "        고저차      인구수      건축물수    주거용도면적     건축물높이    건축물연면적  주차장수  교육연구시설  \\\n",
       "0  0.551724  0.00000  0.014706  0.090746  0.000000  0.000854     0       0   \n",
       "1  0.894253  0.00000  0.014706  0.226660  0.064580  0.002029     0       0   \n",
       "2  0.501149  0.01176  0.058824  0.108171  0.053237  0.001014     0       0   \n",
       "3  0.710345  0.00000  0.044118  0.133451  0.044461  0.002836     0       0   \n",
       "4  0.066667  0.01176  0.294118  0.084128  0.068306  0.001266     0       0   \n",
       "\n",
       "   주거지  농축산업시설  창고시설  편의시설  생산시설  님비시설  자동차관련시설  EV  \n",
       "0    0       0     0     0     0     0        0   0  \n",
       "1    0       0     0     0     0     0        0   0  \n",
       "2    0       0     0     0     0     0        0   0  \n",
       "3    0       0     0     0     0     0        0   0  \n",
       "4    0       0     0     0     0     0        0   0  "
      ]
     },
     "execution_count": 15,
     "metadata": {},
     "output_type": "execute_result"
    }
   ],
   "source": [
    "from sklearn.preprocessing import MinMaxScaler\n",
    "\n",
    "scaler = MinMaxScaler()\n",
    "sejong_minmax = scaler.fit_transform(sejong[['인구수', '건축물수', '주거용도면적', '건축물높이', '건축물연면적', '고저차']])\n",
    "sejong_minmax = pd.DataFrame(sejong_minmax, columns=['인구수', '건축물수', '주거용도면적', '건축물높이', '건축물연면적', '고저차'])\n",
    "sejong[['인구수', '건축물수', '주거용도면적', '건축물높이', '건축물연면적', '고저차']] = sejong_minmax\n",
    "\n",
    "sejong.head()"
   ]
  },
  {
   "cell_type": "code",
   "execution_count": 16,
   "id": "f46aa9ea",
   "metadata": {},
   "outputs": [],
   "source": [
    "daegu_minmax = scaler.fit_transform(daegu[['인구수', '건축물수', '주거용도면적', '건축물높이', '건축물연면적', '고저차']])\n",
    "daegu_minmax = pd.DataFrame(daegu_minmax, columns=['인구수', '건축물수', '주거용도면적', '건축물높이', '건축물연면적', '고저차'])\n",
    "daegu[['인구수', '건축물수', '주거용도면적', '건축물높이', '건축물연면적', '고저차']] = daegu_minmax\n",
    "\n",
    "daejeon_minmax = scaler.fit_transform(daejeon[['인구수', '건축물수', '주거용도면적', '건축물높이', '건축물연면적', '고저차']])\n",
    "daejeon_minmax = pd.DataFrame(daejeon_minmax, columns=['인구수', '건축물수', '주거용도면적', '건축물높이', '건축물연면적', '고저차'])\n",
    "daejeon[['인구수', '건축물수', '주거용도면적', '건축물높이', '건축물연면적', '고저차']] = daejeon_minmax"
   ]
  },
  {
   "cell_type": "code",
   "execution_count": 31,
   "id": "240aaa68",
   "metadata": {},
   "outputs": [],
   "source": [
    "train_data = pd.concat([daegu[daegu.columns[1:-1]], daejeon[daejeon.columns[1:-1]]])\n",
    "train_target = pd.concat([daegu[daegu.columns[-1]], daejeon[daejeon.columns[-1]]])\n",
    "\n",
    "test_data = sejong[sejong.columns[1:-1]]\n",
    "test_target = sejong[sejong.columns[-1]]"
   ]
  },
  {
   "cell_type": "code",
   "execution_count": 18,
   "id": "92611394",
   "metadata": {},
   "outputs": [
    {
     "name": "stdout",
     "output_type": "stream",
     "text": [
      "Fitting 5 folds for each of 192 candidates, totalling 960 fits\n",
      "best_params : {'max_depth': 50, 'max_features': 9, 'n_estimators': 50}\n",
      "best_score : 0.03513281168317435\n",
      "실제 충전소 수 : 276\n",
      "충전소가 있어야 한다고 분류한 타일 수 : 36\n",
      "recall score(True Positive) 실제 충전소가 맞는 지 맞춘 경우 : 1 / 276\n",
      "최적 입지 후보 : 35 / 47120\n"
     ]
    },
    {
     "data": {
      "image/png": "[encoded data removed]",
      "text/plain": [
       "<Figure size 1080x1080 with 1 Axes>"
      ]
     },
     "metadata": {},
     "output_type": "display_data"
    }
   ],
   "source": [
    "dists = {\n",
    "    'max_depth' : [3,5,10,15,20,30,50,100],\n",
    "    'max_features' : [3,5,7,9,11,14], \n",
    "    'n_estimators' : [10,20,30,50],\n",
    "    #'class_weight' : [{0:1.3, 1:8.7}]\n",
    "}\n",
    "\n",
    "RandomForest(dists, train_data, train_target, test_data, test_target)"
   ]
  },
  {
   "cell_type": "markdown",
   "id": "791de0a1",
   "metadata": {},
   "source": [
    "### 언더샘플링"
   ]
  },
  {
   "cell_type": "code",
   "execution_count": 33,
   "id": "9c59353f",
   "metadata": {},
   "outputs": [
    {
     "data": {
      "image/png": "[encoded data removed]",
      "text/plain": [
       "<Figure size 432x288 with 1 Axes>"
      ]
     },
     "metadata": {
      "needs_background": "light"
     },
     "output_type": "display_data"
    }
   ],
   "source": [
    "plt.bar([0, 1], train_target.value_counts())\n",
    "plt.xticks([0, 1], label=[0,1])\n",
    "plt.show()"
   ]
  },
  {
   "cell_type": "code",
   "execution_count": 34,
   "id": "6808276d",
   "metadata": {},
   "outputs": [
    {
     "data": {
      "image/png": "[encoded data removed]",
      "text/plain": [
       "<Figure size 432x288 with 1 Axes>"
      ]
     },
     "metadata": {
      "needs_background": "light"
     },
     "output_type": "display_data"
    }
   ],
   "source": [
    "from imblearn.under_sampling import RandomUnderSampler\n",
    "\n",
    "rus = RandomUnderSampler()\n",
    "train_data, train_target = rus.fit_resample(train_data, train_target)\n",
    "#train_data = pd.DataFrame(data, columns=data.columns)\n",
    "plt.bar([0, 1], train_target.value_counts())\n",
    "plt.xticks([0, 1], label=[0,1])\n",
    "plt.show()"
   ]
  },
  {
   "cell_type": "code",
   "execution_count": 35,
   "id": "23d35333",
   "metadata": {},
   "outputs": [
    {
     "name": "stdout",
     "output_type": "stream",
     "text": [
      "Fitting 5 folds for each of 192 candidates, totalling 960 fits\n",
      "\n",
      "best_params : {'max_depth': 3, 'max_features': 3, 'n_estimators': 10}\n",
      "best_score : 0.6550261555424701\n",
      "\n",
      "실제 충전소 수 : 276\n",
      "충전소가 있어야 한다고 분류한 타일 수 : 17913\n",
      "recall score(True Positive) 실제 충전소가 맞는 지 맞춘 경우 : 194 / 276\n",
      "최적 입지 후보 : 17719 / 47120\n"
     ]
    },
    {
     "data": {
      "image/png": "[encoded data removed]",
      "text/plain": [
       "<Figure size 1080x1080 with 1 Axes>"
      ]
     },
     "metadata": {},
     "output_type": "display_data"
    }
   ],
   "source": [
    "dists = {\n",
    "    'max_depth' : [3,5,10,15,20,30,50,100],\n",
    "    'max_features' : [3,5,7,9,11,14], \n",
    "    'n_estimators' : [10,20,30,50],\n",
    "    #'class_weight' : [{0:1.3, 1:8.7}]\n",
    "}\n",
    "\n",
    "RandomForest(dists, train_data, train_target, test_data, test_target)"
   ]
  },
  {
   "cell_type": "markdown",
   "id": "eb445225",
   "metadata": {},
   "source": [
    "### 오버샘플링"
   ]
  },
  {
   "cell_type": "code",
   "execution_count": 37,
   "id": "338a6d28",
   "metadata": {},
   "outputs": [],
   "source": [
    "train_data = pd.concat([daegu[daegu.columns[1:-1]], daejeon[daejeon.columns[1:-1]]])\n",
    "train_target = pd.concat([daegu[daegu.columns[-1]], daejeon[daejeon.columns[-1]]])\n",
    "\n",
    "test_data = sejong[sejong.columns[1:-1]]\n",
    "test_target = sejong[sejong.columns[-1]]"
   ]
  },
  {
   "cell_type": "code",
   "execution_count": 38,
   "id": "e2de9e1d",
   "metadata": {},
   "outputs": [
    {
     "data": {
      "image/png": "[encoded data removed]",
      "text/plain": [
       "<Figure size 432x288 with 1 Axes>"
      ]
     },
     "metadata": {
      "needs_background": "light"
     },
     "output_type": "display_data"
    }
   ],
   "source": [
    "from imblearn.over_sampling import RandomOverSampler\n",
    "\n",
    "ros = RandomOverSampler()\n",
    "train_data, train_target = ros.fit_resample(train_data, train_target)\n",
    "#train_data = pd.DataFrame(data, columns=data.columns)\n",
    "plt.bar([0, 1], train_target.value_counts())\n",
    "plt.xticks([0, 1], label=[0,1])\n",
    "plt.show()"
   ]
  },
  {
   "cell_type": "code",
   "execution_count": 39,
   "id": "c7c85904",
   "metadata": {},
   "outputs": [
    {
     "name": "stdout",
     "output_type": "stream",
     "text": [
      "Fitting 5 folds for each of 192 candidates, totalling 960 fits\n",
      "\n",
      "best_params : {'max_depth': 50, 'max_features': 3, 'n_estimators': 10}\n",
      "best_score : 0.907074293305263\n",
      "\n",
      "실제 충전소 수 : 276\n",
      "충전소가 있어야 한다고 분류한 타일 수 : 0\n",
      "recall score(True Positive) 실제 충전소가 맞는 지 맞춘 경우 : 0 / 276\n",
      "최적 입지 후보 : 0 / 47120\n"
     ]
    },
    {
     "data": {
      "image/png": "[encoded data removed]",
      "text/plain": [
       "<Figure size 1080x1080 with 1 Axes>"
      ]
     },
     "metadata": {},
     "output_type": "display_data"
    }
   ],
   "source": [
    "dists = {\n",
    "    'max_depth' : [3,5,10,15,20,30,50,100],\n",
    "    'max_features' : [3,5,7,9,11,14], \n",
    "    'n_estimators' : [10,20,30,50],\n",
    "    #'class_weight' : [{0:1.3, 1:8.7}]\n",
    "}\n",
    "\n",
    "RandomForest(dists, train_data, train_target, test_data, test_target)"
   ]
  },
  {
   "cell_type": "code",
   "execution_count": null,
   "id": "ad0061f4",
   "metadata": {},
   "outputs": [],
   "source": []
  },
  {
   "cell_type": "code",
   "execution_count": null,
   "id": "8716f057",
   "metadata": {},
   "outputs": [],
   "source": []
  },
  {
   "cell_type": "code",
   "execution_count": null,
   "id": "88b0f6a4",
   "metadata": {},
   "outputs": [],
   "source": []
  },
  {
   "cell_type": "code",
   "execution_count": 137,
   "id": "c2c8cd54",
   "metadata": {},
   "outputs": [],
   "source": [
    "sejong = geopandas.read_file('./dataset/전처리후/세종/merge_9.geojson', encoding='utf-8')\n",
    "sejong = sejong[['geometry', 'lat', 'lng', '고저차', '인구수', '건축물수', '주거용도면적', '건축물높이', '건축물연면적', '주차장수', '교육연구시설', '주거지', '농축산업시설', '창고시설',\n",
    "       '편의시설', '생산시설', '님비시설', '자동차관련시설', 'EV']]\n",
    "\n",
    "daegu = geopandas.read_file('./dataset/전처리후/대구/merge_9.geojson', encoding='utf-8')\n",
    "daegu = daegu[['geometry', 'lat', 'lng', '고저차', '인구수', '건축물수', '주거용도면적', '건축물높이', '건축물연면적', '주차장수', '교육연구시설', '주거지', '농축산업시설', '창고시설',\n",
    "       '편의시설', '생산시설', '님비시설', '자동차관련시설', 'EV']]\n",
    "\n",
    "daejeon = geopandas.read_file('./dataset/전처리후/대전/merge_9.geojson', encoding='utf-8')\n",
    "daejeon = daejeon[['geometry', 'lat', 'lng', '고저차', '인구수', '건축물수', '주거용도면적', '건축물높이', '건축물연면적', '주차장수', '교육연구시설', '주거지', '농축산업시설', '창고시설',\n",
    "       '편의시설', '생산시설', '님비시설', '자동차관련시설', 'EV']]"
   ]
  },
  {
   "cell_type": "code",
   "execution_count": 138,
   "id": "e1082abc",
   "metadata": {},
   "outputs": [
    {
     "name": "stdout",
     "output_type": "stream",
     "text": [
      "세종시 데이터 수 : 47396\n",
      "세종시 인구수=0인 타일: 44133\n",
      "\n",
      "대전시 데이터 수 : 92051\n",
      "대전시 인구수=0인 타일: 80412\n",
      "\n",
      "대구시 데이터 수 : 134846\n",
      "대구시 인구수=0인 타일: 116303\n"
     ]
    }
   ],
   "source": [
    "print('세종시 데이터 수 :', len(sejong))\n",
    "print('세종시 인구수=0인 타일:', len(sejong[sejong['인구수']==0]), end='\\n\\n')\n",
    "\n",
    "print('대전시 데이터 수 :', len(daejeon))\n",
    "print('대전시 인구수=0인 타일:', len(daejeon[daejeon['인구수']==0]), end='\\n\\n')\n",
    "\n",
    "print('대구시 데이터 수 :', len(daegu))\n",
    "print('대구시 인구수=0인 타일:', len(daegu[daegu['인구수']==0]))"
   ]
  },
  {
   "cell_type": "code",
   "execution_count": 139,
   "id": "4542adf6",
   "metadata": {},
   "outputs": [],
   "source": [
    "scaler = MinMaxScaler()\n",
    "\n",
    "sejong_minmax = scaler.fit_transform(sejong[['인구수', '건축물수', '주거용도면적', '건축물높이', '건축물연면적', '고저차']])\n",
    "sejong_minmax = pd.DataFrame(sejong_minmax, columns=['인구수', '건축물수', '주거용도면적', '건축물높이', '건축물연면적', '고저차'])\n",
    "sejong_cut[['인구수', '건축물수', '주거용도면적', '건축물높이', '건축물연면적', '고저차']] = sejong_minmax\n",
    "\n",
    "daegu_minmax = scaler.fit_transform(daegu[['인구수', '건축물수', '주거용도면적', '건축물높이', '건축물연면적', '고저차']])\n",
    "daegu_minmax = pd.DataFrame(daegu_minmax, columns=['인구수', '건축물수', '주거용도면적', '건축물높이', '건축물연면적', '고저차'])\n",
    "daegu[['인구수', '건축물수', '주거용도면적', '건축물높이', '건축물연면적', '고저차']] = daegu_minmax\n",
    "\n",
    "daejeon_minmax = scaler.fit_transform(daejeon[['인구수', '건축물수', '주거용도면적', '건축물높이', '건축물연면적', '고저차']])\n",
    "daejeon_minmax = pd.DataFrame(daejeon_minmax, columns=['인구수', '건축물수', '주거용도면적', '건축물높이', '건축물연면적', '고저차'])\n",
    "daejeon[['인구수', '건축물수', '주거용도면적', '건축물높이', '건축물연면적', '고저차']] = daejeon_minmax"
   ]
  },
  {
   "cell_type": "code",
   "execution_count": 140,
   "id": "378031d2",
   "metadata": {},
   "outputs": [],
   "source": [
    "sejong_cut = sejong[sejong['인구수']!=0]\n",
    "daegu_cut = daegu[daegu['인구수']!=0]\n",
    "daejeon_cut = daejeon[daejeon['인구수']!=0]\n",
    "\n",
    "sejong_cut.reset_index(drop=True, inplace=True)\n",
    "daejeon_cut.reset_index(drop=True, inplace=True)\n",
    "daegu_cut.reset_index(drop=True, inplace=True)\n",
    "\n",
    "train_data = pd.concat([daegu_cut[daegu_cut.columns[1:-1]], daejeon_cut[daejeon_cut.columns[1:-1]]])\n",
    "train_target = pd.concat([daegu_cut[daegu_cut.columns[-1]], daejeon_cut[daejeon_cut.columns[-1]]])\n",
    "\n",
    "test_data = sejong_cut[sejong_cut.columns[1:-1]]\n",
    "test_target = sejong_cut[sejong_cut.columns[-1]]"
   ]
  },
  {
   "cell_type": "code",
   "execution_count": null,
   "id": "7534cbec",
   "metadata": {},
   "outputs": [],
   "source": []
  },
  {
   "cell_type": "code",
   "execution_count": 142,
   "id": "e2695875",
   "metadata": {},
   "outputs": [],
   "source": [
    "test_data.set_index(sejong[sejong['인구수']!=0].index, inplace=True)"
   ]
  },
  {
   "cell_type": "code",
   "execution_count": 146,
   "id": "a876df2e",
   "metadata": {
    "scrolled": false
   },
   "outputs": [
    {
     "name": "stdout",
     "output_type": "stream",
     "text": [
      "Fitting 5 folds for each of 192 candidates, totalling 960 fits\n",
      "\n",
      "best_params : {'max_depth': 50, 'max_features': 14, 'n_estimators': 10}\n",
      "best_score : 0.01216812565726606\n",
      "\n",
      "실제 충전소 수 : 276\n",
      "충전소가 있어야 한다고 분류한 타일 수 : 18\n",
      "recall score(True Positive) 실제 충전소가 맞는 지 맞춘 경우 : 0 / 276\n",
      "최적 입지 후보 : 18 / 47120\n"
     ]
    },
    {
     "data": {
      "image/png": "[encoded data removed]",
      "text/plain": [
       "<Figure size 1080x1080 with 1 Axes>"
      ]
     },
     "metadata": {},
     "output_type": "display_data"
    }
   ],
   "source": [
    "dists = {\n",
    "    'max_depth' : [3,5,10,15,20,30,50,100],\n",
    "    'max_features' : [3,5,7,9,11,14], \n",
    "    'n_estimators' : [10,20,30,50],\n",
    "    #'class_weight' : [{0:1.3, 1:8.7}]\n",
    "}\n",
    "\n",
    "RandomForest(dists, train_data, train_target, test_data, test_target)"
   ]
  },
  {
   "cell_type": "code",
   "execution_count": null,
   "id": "8f794685",
   "metadata": {},
   "outputs": [],
   "source": []
  },
  {
   "cell_type": "code",
   "execution_count": 96,
   "id": "9b60e498",
   "metadata": {},
   "outputs": [],
   "source": [
    "### GridSearchCV는 쉽게 최적의 파라미터를 찾아주지만, 안그래도 편향된 데이터를 CV를 활용하다보니 성능이 도리어 안나오는 상황이 연출됨"
   ]
  },
  {
   "cell_type": "code",
   "execution_count": 97,
   "id": "382e8f70",
   "metadata": {},
   "outputs": [],
   "source": [
    "### 따라서 반복문을 통해 GridSearch와 유사하게 모든 경우의수를 비교할 수 있도록하고, CV는 활용하지 않는 방향으로 진행"
   ]
  },
  {
   "cell_type": "code",
   "execution_count": 116,
   "id": "84c58ede",
   "metadata": {},
   "outputs": [],
   "source": [
    "def RandomForest(dists, train_data, train_target, test_data, test_target):\n",
    "    \n",
    "    trainF1 = []\n",
    "    testF1 = []\n",
    "    param = []\n",
    "    for depth in dists['max_depth']:\n",
    "        for features in dists['max_features']:\n",
    "            for estimators in dists['n_estimators']:\n",
    "                \n",
    "                clf = ensemble.RandomForestClassifier(max_depth=depth, max_features=features, n_estimators=estimators, n_jobs=4)\n",
    "                param.append([depth, features, estimators])\n",
    "                clf.fit(train_data, train_target)\n",
    "                Y_predTrain = clf.predict(train_data)\n",
    "                Y_predTest = clf.predict(test_data)\n",
    "                trainF1.append(f1_score(train_target, Y_predTrain, average='micro'))\n",
    "                testF1.append(f1_score(test_target, Y_predTest, average='micro'))\n",
    "    \n",
    "    \n",
    "    \n",
    "    best_params = param[testF1.index(max(testF1))]\n",
    "    print()\n",
    "    print('best_params (test 성능이 가장 좋은 파라미터) : max_depth=', best_params[0], 'max_features=', best_params[1], 'n_estimators=', best_params[2])\n",
    "    print('best_score (test F1 score):', max(testF1))\n",
    "    print()\n",
    "\n",
    "    # F1 score 비교\n",
    "    plt.figure(figsize=(15, 6))\n",
    "    plt.plot(numBaseClassifiers, trainF1, 'ro-', numBaseClassifiers, testF1, 'bv--')\n",
    "    plt.legend(['Train F1', 'Test F1'])\n",
    "    plt.xlabel('RandomForest')\n",
    "    plt.ylabel('F1 score')\n",
    "    plt.show()\n",
    "    \n",
    "    \n",
    "    # 최적의 파라미터를 입력해 모델을 생성\n",
    "    clf = ensemble.RandomForestClassifier(max_depth=best_params[0], max_features=best_params[1], n_estimators=best_params[2], n_jobs=4)\n",
    "    clf.fit(train_data, train_target)\n",
    "    Y_predTest = clf.predict(test_data)\n",
    "    \n",
    "    \n",
    "    # 지도 그리기\n",
    "    temp = sejong.copy()\n",
    "    temp['pred'] = [0]*len(temp)\n",
    "    for i, idx in enumerate(test_data.index):\n",
    "        temp['pred'][idx] = Y_predTest[i]\n",
    "    #temp['pred'] = pred\n",
    "        \n",
    "    print('실제 충전소 수 :', len(temp[temp['EV']==1]))\n",
    "    print('충전소가 있어야 한다고 분류한 타일 수 :', len(temp[temp['pred']==1]))\n",
    "    print('recall score(True Positive) 실제 충전소가 맞는 지 맞춘 경우 :', len(temp[(temp['pred']==1) & (temp['EV']==1)]), '/', len(temp[temp['EV']==1]))\n",
    "    print('최적 입지 후보(실제론 없지만, 있어야 한다고 분류) :', len(temp[(temp['pred']==1) & (temp['EV']==0)]), '/', len(temp[temp['EV']==0]))\n",
    "    \n",
    "    idx = temp[(temp['EV'] == 0) & (temp['pred'] == 1)].index\n",
    "    for i in temp[temp['pred'] == 1].index:\n",
    "        temp['pred'].loc[i] = 0\n",
    "    for i in idx:\n",
    "        temp['pred'].loc[i] = 1\n",
    "\n",
    "    fig, ax1 = plt.subplots(figsize=(15, 15))\n",
    "    fig.set_facecolor('white')\n",
    "    sejong['geometry'].plot(ax=ax1, color='gainsboro')\n",
    "    sejong[sejong['EV']==1].plot(ax=ax1, column='EV', color='lime', aspect=1)\n",
    "    temp[temp['pred']==1].plot(ax=ax1, column='pred', color='red', aspect=1)\n",
    "    ax1.set_axis_off()\n",
    "    plt.show()"
   ]
  },
  {
   "cell_type": "code",
   "execution_count": null,
   "id": "d196026c",
   "metadata": {},
   "outputs": [],
   "source": [
    "train_data = pd.concat([daegu[daegu.columns[1:-1]], daejeon[daejeon.columns[1:-1]]])\n",
    "train_target = pd.concat([daegu[daegu.columns[-1]], daejeon[daejeon.columns[-1]]])\n",
    "\n",
    "test_data = sejong[sejong.columns[1:-1]]\n",
    "test_target = sejong[sejong.columns[-1]]\n",
    "\n",
    "dists = {\n",
    "    'max_depth' : [3,5,10,15,20,30,50,100],\n",
    "    'max_features' : [3,5,7,9,11,14,17], \n",
    "    'n_estimators' : [10,20,30,50],\n",
    "    #'class_weight' : [{0:1.3, 1:8.7}]\n",
    "}\n",
    "\n",
    "RandomForest(dists, train_data, train_target, test_data, test_target)"
   ]
  },
  {
   "cell_type": "code",
   "execution_count": null,
   "id": "628b4a6f",
   "metadata": {},
   "outputs": [],
   "source": []
  },
  {
   "cell_type": "code",
   "execution_count": null,
   "id": "eefb2f62",
   "metadata": {},
   "outputs": [],
   "source": []
  },
  {
   "cell_type": "code",
   "execution_count": null,
   "id": "ac940688",
   "metadata": {},
   "outputs": [],
   "source": [
    "0 삭제 -> 정규화 -> class_weight\n",
    "정규화 -> 0삭제 -> class_weight\n",
    "auroc, clustering"
   ]
  },
  {
   "cell_type": "code",
   "execution_count": null,
   "id": "29742976",
   "metadata": {},
   "outputs": [],
   "source": []
  },
  {
   "cell_type": "code",
   "execution_count": null,
   "id": "c50177c1",
   "metadata": {},
   "outputs": [],
   "source": [
    "xgb, light gbm, catboost, auroc"
   ]
  }
 ],
 "metadata": {
  "kernelspec": {
   "display_name": "Python 3 (ipykernel)",
   "language": "python",
   "name": "python3"
  },
  "language_info": {
   "codemirror_mode": {
    "name": "ipython",
    "version": 3
   },
   "file_extension": ".py",
   "mimetype": "text/x-python",
   "name": "python",
   "nbconvert_exporter": "python",
   "pygments_lexer": "ipython3",
   "version": "3.9.12"
  }
 },
 "nbformat": 4,
 "nbformat_minor": 5
}
