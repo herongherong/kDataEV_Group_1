{
 "cells": [
  {
   "cell_type": "code",
   "execution_count": 1,
   "id": "8ea31b7d",
   "metadata": {},
   "outputs": [],
   "source": [
    "import warnings\n",
    "warnings.filterwarnings('ignore')\n",
    "\n",
    "from IPython.display import clear_output"
   ]
  },
  {
   "cell_type": "code",
   "execution_count": 2,
   "id": "f5ffae91",
   "metadata": {},
   "outputs": [],
   "source": [
    "import geopandas\n",
    "import pandas as pd"
   ]
  },
  {
   "cell_type": "code",
   "execution_count": null,
   "id": "9861fcc6",
   "metadata": {},
   "outputs": [],
   "source": []
  },
  {
   "cell_type": "code",
   "execution_count": 3,
   "id": "66241734",
   "metadata": {},
   "outputs": [],
   "source": [
    "geo = geopandas.read_file('전국_읍면동_경계.geojson', encoding='utf-8')\n",
    "geo = geo[geo['sidonm'] == '세종특별자치시']\n",
    "\n",
    "material = geopandas.read_file('merge_9.geojson', encoding='utf-8')\n",
    "material = material[['geometry', 'lat', 'lng', '고저차', '인구수', '건축물수', '주거용도면적', '건축물높이', '건축물연면적', '주차장수', '주유소', '주차구획수', '교통량', '교육연구시설', '주거지', '농축산업시설', '창고시설',\n",
    "       '편의시설', '생산시설', '님비시설', '자동차관련시설', 'EV']]\n",
    "\n",
    "geo.reset_index(drop=False, inplace=True)\n",
    "mp = geo['geometry'].astype('string')"
   ]
  },
  {
   "cell_type": "code",
   "execution_count": 4,
   "id": "a8fc1b17",
   "metadata": {},
   "outputs": [
    {
     "data": {
      "text/plain": [
       "22"
      ]
     },
     "execution_count": 4,
     "metadata": {},
     "output_type": "execute_result"
    }
   ],
   "source": [
    "# 세종시 읍면동 리스트\n",
    "\n",
    "addr_list = []\n",
    "for i in geo['adm_nm']:\n",
    "    addr_list.append(i.split()[2])\n",
    "len(addr_list)"
   ]
  },
  {
   "cell_type": "code",
   "execution_count": 5,
   "id": "c6afd036",
   "metadata": {},
   "outputs": [],
   "source": [
    "from geopy.geocoders import Nomhttp://localhost:8888/notebooks/Desktop/develop/git/kDataEV_Group_1/Jeonghyun/geocoder/Untitled%20-%20%EB%B3%B5%EC%82%AC%EB%B3%B8%20(2).ipynbinatim\n",
    "\n",
    "def geocoding_reverse(lat_lng_str): \n",
    "    geolocoder = Nominatim(user_agent = 'South Korea', timeout=None)\n",
    "    address = geolocoder.reverse(lat_lng_str)\n",
    "\n",
    "    return address\n"
   ]
  },
  {
   "cell_type": "code",
   "execution_count": 6,
   "id": "fbaabb2f",
   "metadata": {},
   "outputs": [
    {
     "name": "stdout",
     "output_type": "stream",
     "text": [
      "47390 번째 데이터 확인 중\n"
     ]
    }
   ],
   "source": [
    "addr = []\n",
    "\n",
    "for i in range(25000, len(material)):\n",
    "    if i%10==0:\n",
    "        clear_output()\n",
    "        print(i,'번째 데이터 확인 중')\n",
    "\n",
    "    lat = material['lat'].loc[i]\n",
    "    lng = material['lng'].loc[i]\n",
    "    \n",
    "    address = geocoding_reverse((str(lat), str(lng)))\n",
    "    address = address[0].split()\n",
    "    address = address[len(address)-4][:-1]\n",
    "    \n",
    "    addr.append(address)"
   ]
  },
  {
   "cell_type": "code",
   "execution_count": 9,
   "id": "a2d2596a",
   "metadata": {},
   "outputs": [
    {
     "data": {
      "text/plain": [
       "금남면    3036\n",
       "전의면    2322\n",
       "전동면    2185\n",
       "연서면    2110\n",
       "장군면    1632\n",
       "       ... \n",
       "백자리       1\n",
       "송선동       1\n",
       "부용리       1\n",
       "운당리       1\n",
       "호탄리       1\n",
       "Length: 104, dtype: int64"
      ]
     },
     "execution_count": 9,
     "metadata": {},
     "output_type": "execute_result"
    }
   ],
   "source": [
    "# 수집된 격자의 읍면동 주소\n",
    "addr = pd.DataFrame(addr)\n",
    "addr.value_counts()\n",
    "#len(addr[0].unique())"
   ]
  },
  {
   "cell_type": "code",
   "execution_count": 12,
   "id": "3da26a2a",
   "metadata": {},
   "outputs": [],
   "source": [
    "addr.to_csv('addr2.csv', index=False)"
   ]
  },
  {
   "cell_type": "code",
   "execution_count": null,
   "id": "dbb51736",
   "metadata": {},
   "outputs": [],
   "source": []
  }
 ],
 "metadata": {
  "kernelspec": {
   "display_name": "Python 3 (ipykernel)",
   "language": "python",
   "name": "python3"
  },
  "language_info": {
   "codemirror_mode": {
    "name": "ipython",
    "version": 3
   },
   "file_extension": ".py",
   "mimetype": "text/x-python",
   "name": "python",
   "nbconvert_exporter": "python",
   "pygments_lexer": "ipython3",
   "version": "3.9.12"
  }
 },
 "nbformat": 4,
 "nbformat_minor": 5
}
