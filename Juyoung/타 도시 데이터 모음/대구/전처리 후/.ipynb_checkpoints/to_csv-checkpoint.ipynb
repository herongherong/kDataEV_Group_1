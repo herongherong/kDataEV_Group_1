{
 "cells": [
  {
   "cell_type": "code",
   "execution_count": 1,
   "id": "68e24715",
   "metadata": {},
   "outputs": [],
   "source": [
    "# import library\n",
    "import requests, xmltodict, json\n",
    "import numpy as np\n",
    "import pandas as pd\n",
    "import matplotlib.pyplot as plt"
   ]
  },
  {
   "cell_type": "code",
   "execution_count": 4,
   "id": "ff94c895",
   "metadata": {},
   "outputs": [],
   "source": [
    "temp1 = pd.read_csv('./대구광역시_달서구_주차장정보_20220531_노상제거.csv', encoding='euc-kr')\n",
    "temp2 = pd.read_csv('./대구광역시_동구_주차장정보_20220620_노상제거.csv', encoding='euc-kr')\n",
    "temp3 = pd.read_csv('./대구광역시_북구_주차장정보_20220725_노상제거.csv', encoding='euc-kr')\n",
    "temp4 = pd.read_csv('./대구광역시_수성구_주차장정보_20220708_노상제거.csv', encoding='euc-kr')\n",
    "temp5 = pd.read_csv('./대구광역시_주차장정보_20220602_노상제거.csv', encoding='euc-kr')"
   ]
  },
  {
   "cell_type": "code",
   "execution_count": null,
   "id": "da1c6c03",
   "metadata": {},
   "outputs": [],
   "source": []
  }
 ],
 "metadata": {
  "kernelspec": {
   "display_name": "Python 3 (ipykernel)",
   "language": "python",
   "name": "python3"
  },
  "language_info": {
   "codemirror_mode": {
    "name": "ipython",
    "version": 3
   },
   "file_extension": ".py",
   "mimetype": "text/x-python",
   "name": "python",
   "nbconvert_exporter": "python",
   "pygments_lexer": "ipython3",
   "version": "3.9.7"
  }
 },
 "nbformat": 4,
 "nbformat_minor": 5
}
